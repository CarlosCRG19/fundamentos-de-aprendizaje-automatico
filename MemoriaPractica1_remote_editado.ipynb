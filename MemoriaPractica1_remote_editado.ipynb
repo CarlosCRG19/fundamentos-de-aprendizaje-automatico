{
 "cells": [
  {
   "cell_type": "markdown",
   "id": "201bea4a-aee0-407f-95d7-296bdc03ee4e",
   "metadata": {},
   "source": [
    "# Práctica 1 - Naive Bayes\n",
    "\n",
    "_Pareja 6_\n",
    "* David Kaack Sánchez\n",
    "* Carlos César Rodríguez García"
   ]
  },
  {
   "cell_type": "markdown",
   "id": "192fa2a1-660a-4ba3-b557-92d6acc21deb",
   "metadata": {},
   "source": [
    "## Setup"
   ]
  },
  {
   "cell_type": "markdown",
   "id": "1fddcf10-46f0-42c4-bcd3-b755d1aa3adb",
   "metadata": {},
   "source": [
    "### Importaciones"
   ]
  },
  {
   "cell_type": "code",
   "execution_count": 2,
   "id": "655cae4f-6656-4de8-82f2-74f24772de1f",
   "metadata": {},
   "outputs": [],
   "source": [
    "from Clasificador import Clasificador, ClasificadorNaiveBayes, ClasificadorNaiveBayesScikit\n",
    "from Datos import Datos\n",
    "from EstrategiaParticionado import ValidacionCruzada, ValidacionSimple\n",
    "\n",
    "import pandas as pd\n",
    "from sklearn.naive_bayes import CategoricalNB, GaussianNB, MultinomialNB"
   ]
  },
  {
   "cell_type": "markdown",
   "id": "7c0b2648-59af-46d4-adca-eeb2e2de151b",
   "metadata": {},
   "source": [
    "### Estrategia de particionado"
   ]
  },
  {
   "cell_type": "code",
   "execution_count": 3,
   "id": "7d628f66-39c7-4a86-b2d4-07dc07059818",
   "metadata": {},
   "outputs": [],
   "source": [
    "validacion_cruzada = ValidacionCruzada(numeroParticiones=5)\n",
    "validacion_simple = ValidacionSimple(numeroEjecuciones=5, proporcionTest=30)"
   ]
  },
  {
   "cell_type": "markdown",
   "id": "50e96ebc-5eaa-4278-b685-e4e035d399db",
   "metadata": {},
   "source": [
    "### Clasificador generico"
   ]
  },
  {
   "cell_type": "code",
   "execution_count": 4,
   "id": "93f6eab8-36e2-42b9-be2b-b9cd3cf3ed49",
   "metadata": {},
   "outputs": [],
   "source": [
    "clasificador = Clasificador()"
   ]
  },
  {
   "cell_type": "markdown",
   "id": "59fff2ac-0a5e-49bd-8ba4-ac9367afbe60",
   "metadata": {},
   "source": [
    "### Utilerías"
   ]
  },
  {
   "cell_type": "code",
   "execution_count": 5,
   "id": "df35a48b-34c2-45f0-b152-6bdb4cb29a19",
   "metadata": {},
   "outputs": [],
   "source": [
    "def validacion_naive_bayes_propio(datos, estrategia_particionado, con_laplace):\n",
    "    return clasificador.validacion(estrategia_particionado, datos, ClasificadorNaiveBayes(con_laplace=con_laplace))\n",
    "\n",
    "def validacion_naive_bayes(dataset):\n",
    "    datos = Datos(f\"{dataset}.csv\")\n",
    "    \n",
    "    resultados_vc = validacion_naive_bayes_propio(datos, validacion_cruzada, con_laplace=False)\n",
    "    resultados_vc_cl = validacion_naive_bayes_propio(datos, validacion_cruzada, con_laplace=True)\n",
    "    \n",
    "    resultados_vs = validacion_naive_bayes_propio(datos, validacion_simple, con_laplace=False)\n",
    "    resultados_vs_cl = validacion_naive_bayes_propio(datos, validacion_simple, con_laplace=True)\n",
    "\n",
    "    columnas = [\n",
    "        \"Conjunto de datos\",\n",
    "        \"Estrategia Particionado\",\n",
    "        \"Error Promedio sin CL\",\n",
    "        \"Desviación estándar sin CL\",\n",
    "        \"Error Promedio con CL\",\n",
    "        \"Desviación estándar con CL\",\n",
    "    ]\n",
    "\n",
    "    filas = [\n",
    "        (\n",
    "            dataset,\n",
    "            \"Validación Cruzada\",\n",
    "            resultados_vc[0],\n",
    "            resultados_vc[1],\n",
    "            resultados_vc_cl[0],\n",
    "            resultados_vc_cl[1],\n",
    "        ),\n",
    "        (\n",
    "            dataset,\n",
    "            \"Validación Simple\",\n",
    "            resultados_vs[0],\n",
    "            resultados_vs[1],\n",
    "            resultados_vs_cl[0],\n",
    "            resultados_vs_cl[1],\n",
    "        )\n",
    "    ]\n",
    "\n",
    "    return pd.DataFrame(filas, columns=columnas)"
   ]
  },
  {
   "cell_type": "markdown",
   "id": "cb7f90f4-65c5-407d-90c5-676b91a78339",
   "metadata": {},
   "source": [
    "## Apartado 1 - Naive Bayes Propio"
   ]
  },
  {
   "cell_type": "markdown",
   "id": "9afdeae0-3de6-48b1-8dfd-f1d15d4fd8ae",
   "metadata": {},
   "source": [
    "### Entrenamiento y clasificación para dataset __heart__"
   ]
  },
  {
   "cell_type": "code",
   "execution_count": 6,
   "id": "45b130b2-2e7e-4b2e-ae7f-082880c544e6",
   "metadata": {},
   "outputs": [],
   "source": [
    "resultados_heart = validacion_naive_bayes(\"heart\")"
   ]
  },
  {
   "cell_type": "markdown",
   "id": "5a247947-ce2e-48fd-bb70-0d98ea2d6714",
   "metadata": {},
   "source": [
    "### Entrenamiento y clasificación para dataset __tic-tac-toe__"
   ]
  },
  {
   "cell_type": "code",
   "execution_count": 7,
   "id": "6632c4b0-2944-4b85-8b6e-4afc71997872",
   "metadata": {},
   "outputs": [],
   "source": [
    "resultados_tic_tac_toe = validacion_naive_bayes(\"tic-tac-toe\")"
   ]
  },
  {
   "cell_type": "markdown",
   "id": "22043b04-45e0-467d-b46b-6c1dace0efee",
   "metadata": {},
   "source": [
    "### Analisis de resultados"
   ]
  },
  {
   "cell_type": "code",
   "execution_count": 8,
   "id": "f2f53581-1953-4d23-a274-551d9df8aa78",
   "metadata": {},
   "outputs": [
    {
     "data": {
      "text/html": [
       "<div>\n",
       "<style scoped>\n",
       "    .dataframe tbody tr th:only-of-type {\n",
       "        vertical-align: middle;\n",
       "    }\n",
       "\n",
       "    .dataframe tbody tr th {\n",
       "        vertical-align: top;\n",
       "    }\n",
       "\n",
       "    .dataframe thead th {\n",
       "        text-align: right;\n",
       "    }\n",
       "</style>\n",
       "<table border=\"1\" class=\"dataframe\">\n",
       "  <thead>\n",
       "    <tr style=\"text-align: right;\">\n",
       "      <th></th>\n",
       "      <th>Conjunto de datos</th>\n",
       "      <th>Estrategia Particionado</th>\n",
       "      <th>Error Promedio sin CL</th>\n",
       "      <th>Desviación estándar sin CL</th>\n",
       "      <th>Error Promedio con CL</th>\n",
       "      <th>Desviación estándar con CL</th>\n",
       "    </tr>\n",
       "  </thead>\n",
       "  <tbody>\n",
       "    <tr>\n",
       "      <th>0</th>\n",
       "      <td>heart</td>\n",
       "      <td>Validación Cruzada</td>\n",
       "      <td>0.146110</td>\n",
       "      <td>0.053510</td>\n",
       "      <td>0.146110</td>\n",
       "      <td>0.053510</td>\n",
       "    </tr>\n",
       "    <tr>\n",
       "      <th>1</th>\n",
       "      <td>heart</td>\n",
       "      <td>Validación Simple</td>\n",
       "      <td>0.140364</td>\n",
       "      <td>0.019048</td>\n",
       "      <td>0.141091</td>\n",
       "      <td>0.019704</td>\n",
       "    </tr>\n",
       "    <tr>\n",
       "      <th>0</th>\n",
       "      <td>tic-tac-toe</td>\n",
       "      <td>Validación Cruzada</td>\n",
       "      <td>0.136267</td>\n",
       "      <td>0.273241</td>\n",
       "      <td>0.139373</td>\n",
       "      <td>0.279523</td>\n",
       "    </tr>\n",
       "    <tr>\n",
       "      <th>1</th>\n",
       "      <td>tic-tac-toe</td>\n",
       "      <td>Validación Simple</td>\n",
       "      <td>0.273863</td>\n",
       "      <td>0.035642</td>\n",
       "      <td>0.281704</td>\n",
       "      <td>0.036064</td>\n",
       "    </tr>\n",
       "  </tbody>\n",
       "</table>\n",
       "</div>"
      ],
      "text/plain": [
       "  Conjunto de datos Estrategia Particionado  Error Promedio sin CL  \\\n",
       "0             heart      Validación Cruzada               0.146110   \n",
       "1             heart       Validación Simple               0.140364   \n",
       "0       tic-tac-toe      Validación Cruzada               0.136267   \n",
       "1       tic-tac-toe       Validación Simple               0.273863   \n",
       "\n",
       "   Desviación estándar sin CL  Error Promedio con CL  \\\n",
       "0                    0.053510               0.146110   \n",
       "1                    0.019048               0.141091   \n",
       "0                    0.273241               0.139373   \n",
       "1                    0.035642               0.281704   \n",
       "\n",
       "   Desviación estándar con CL  \n",
       "0                    0.053510  \n",
       "1                    0.019704  \n",
       "0                    0.279523  \n",
       "1                    0.036064  "
      ]
     },
     "execution_count": 8,
     "metadata": {},
     "output_type": "execute_result"
    }
   ],
   "source": [
    "resultados_naive_bayes_propio = pd.concat([resultados_heart, resultados_tic_tac_toe])\n",
    "resultados_naive_bayes_propio"
   ]
  },
  {
   "cell_type": "markdown",
   "id": "51e75724-3776-40b5-81ab-679f88f48689",
   "metadata": {},
   "source": [
    "El error promedio en todos los casos es menor al 30%, lo cual consideramos un rendimiento regular. Lo interesante de estos datos es la reducción de la desviación estándar cuando se usa validación simple como estrategia de particionado. En conjuntos de datos pequeños, la validación cruzada puede tener una desviación estándar más alta debido a la limitada cantidad de datos para realizar las divisiones. La validación simple puede ser más estable en tales casos."
   ]
  },
  {
   "cell_type": "markdown",
   "id": "b8368246-336f-4384-9d60-140b226bc273",
   "metadata": {},
   "source": [
    "#### Efectos de Corrección de Laplace"
   ]
  },
  {
   "cell_type": "markdown",
   "id": "7769fb94-8c54-46a1-8bd8-22ae1c073f11",
   "metadata": {},
   "source": [
    "Podemos ver que no hay mucho impacto de la corrección de Laplace en estos escenarios. Incluso, en la mayoría de escenarios, resulta en un error más grande. Esto puede ocurrir por la ausencia o cantidad reducida de atributos nominales donde se aplique esta corrección."
   ]
  },
  {
   "cell_type": "markdown",
   "id": "2626d595-485d-47bf-a32f-7c53125245c7",
   "metadata": {},
   "source": [
    "## Apartado 2 - Naive Bayes Scikit-learn"
   ]
  },
  {
   "cell_type": "markdown",
   "id": "32185a69",
   "metadata": {},
   "source": [
    "### Entrenamiento y clasificación para dataset __tic-tac-toe__"
   ]
  },
  {
   "cell_type": "code",
   "execution_count": 17,
   "id": "29b7d9ce-c84c-4ba1-94be-06aca615e8cd",
   "metadata": {},
   "outputs": [
    {
     "ename": "AttributeError",
     "evalue": "'DataFrame' object has no attribute '_validate_params'",
     "output_type": "error",
     "traceback": [
      "\u001b[1;31m---------------------------------------------------------------------------\u001b[0m",
      "\u001b[1;31mAttributeError\u001b[0m                            Traceback (most recent call last)",
      "\u001b[1;32m~\\AppData\\Local\\Temp\\ipykernel_47016\\2305860290.py\u001b[0m in \u001b[0;36m?\u001b[1;34m()\u001b[0m\n\u001b[0;32m      2\u001b[0m \u001b[1;33m\u001b[0m\u001b[0m\n\u001b[0;32m      3\u001b[0m \u001b[1;32mdef\u001b[0m \u001b[0mvalidacion_ttt_sk\u001b[0m\u001b[1;33m(\u001b[0m\u001b[0mmodelo\u001b[0m\u001b[1;33m,\u001b[0m \u001b[0mencoder\u001b[0m\u001b[1;33m:\u001b[0m \u001b[0mbool\u001b[0m\u001b[1;33m)\u001b[0m\u001b[1;33m:\u001b[0m\u001b[1;33m\u001b[0m\u001b[1;33m\u001b[0m\u001b[0m\n\u001b[0;32m      4\u001b[0m     \u001b[0mclasificador\u001b[0m\u001b[1;33m.\u001b[0m\u001b[0mvalidacion\u001b[0m\u001b[1;33m(\u001b[0m\u001b[0mvalidacion_cruzada\u001b[0m\u001b[1;33m,\u001b[0m \u001b[0mttt\u001b[0m\u001b[1;33m,\u001b[0m \u001b[0mClasificadorNaiveBayesScikit\u001b[0m\u001b[1;33m(\u001b[0m\u001b[0mmodelo\u001b[0m\u001b[1;33m,\u001b[0m \u001b[0mencoder\u001b[0m\u001b[1;33m)\u001b[0m\u001b[1;33m)\u001b[0m\u001b[1;33m\u001b[0m\u001b[1;33m\u001b[0m\u001b[0m\n\u001b[0;32m      5\u001b[0m \u001b[1;33m\u001b[0m\u001b[0m\n\u001b[1;32m----> 6\u001b[1;33m \u001b[0mtic_tac_toe_validacion_multinomial\u001b[0m \u001b[1;33m=\u001b[0m \u001b[0mvalidacion_ttt_sk\u001b[0m\u001b[1;33m(\u001b[0m\u001b[0mMultinomialNB\u001b[0m\u001b[1;33m,\u001b[0m \u001b[1;32mFalse\u001b[0m\u001b[1;33m)\u001b[0m\u001b[1;33m\u001b[0m\u001b[1;33m\u001b[0m\u001b[0m\n\u001b[0m\u001b[0;32m      7\u001b[0m \u001b[0mtic_tac_toe_validacion_multinomial_encoder\u001b[0m \u001b[1;33m=\u001b[0m \u001b[0mvalidacion_ttt_sk\u001b[0m\u001b[1;33m(\u001b[0m\u001b[0mMultinomialNB\u001b[0m\u001b[1;33m,\u001b[0m \u001b[1;32mTrue\u001b[0m\u001b[1;33m)\u001b[0m\u001b[1;33m\u001b[0m\u001b[1;33m\u001b[0m\u001b[0m\n\u001b[0;32m      8\u001b[0m \u001b[0mtic_tac_toe_validacion_gaussian\u001b[0m \u001b[1;33m=\u001b[0m \u001b[0mvalidacion_ttt_sk\u001b[0m\u001b[1;33m(\u001b[0m\u001b[0mGaussianNB\u001b[0m\u001b[1;33m,\u001b[0m \u001b[1;32mFalse\u001b[0m\u001b[1;33m)\u001b[0m\u001b[1;33m\u001b[0m\u001b[1;33m\u001b[0m\u001b[0m\n\u001b[0;32m      9\u001b[0m \u001b[0mtic_tac_toe_validacion_gaussian\u001b[0m \u001b[1;33m=\u001b[0m \u001b[0mvalidacion_ttt_sk\u001b[0m\u001b[1;33m(\u001b[0m\u001b[0mGaussianNB\u001b[0m\u001b[1;33m,\u001b[0m \u001b[1;32mTrue\u001b[0m\u001b[1;33m)\u001b[0m\u001b[1;33m\u001b[0m\u001b[1;33m\u001b[0m\u001b[0m\n",
      "\u001b[1;32m~\\AppData\\Local\\Temp\\ipykernel_47016\\2305860290.py\u001b[0m in \u001b[0;36m?\u001b[1;34m(modelo, encoder)\u001b[0m\n\u001b[0;32m      3\u001b[0m \u001b[1;32mdef\u001b[0m \u001b[0mvalidacion_ttt_sk\u001b[0m\u001b[1;33m(\u001b[0m\u001b[0mmodelo\u001b[0m\u001b[1;33m,\u001b[0m \u001b[0mencoder\u001b[0m\u001b[1;33m:\u001b[0m \u001b[0mbool\u001b[0m\u001b[1;33m)\u001b[0m\u001b[1;33m:\u001b[0m\u001b[1;33m\u001b[0m\u001b[1;33m\u001b[0m\u001b[0m\n\u001b[1;32m----> 4\u001b[1;33m     \u001b[0mclasificador\u001b[0m\u001b[1;33m.\u001b[0m\u001b[0mvalidacion\u001b[0m\u001b[1;33m(\u001b[0m\u001b[0mvalidacion_cruzada\u001b[0m\u001b[1;33m,\u001b[0m \u001b[0mttt\u001b[0m\u001b[1;33m,\u001b[0m \u001b[0mClasificadorNaiveBayesScikit\u001b[0m\u001b[1;33m(\u001b[0m\u001b[0mmodelo\u001b[0m\u001b[1;33m,\u001b[0m \u001b[0mencoder\u001b[0m\u001b[1;33m)\u001b[0m\u001b[1;33m)\u001b[0m\u001b[1;33m\u001b[0m\u001b[1;33m\u001b[0m\u001b[0m\n\u001b[0m",
      "\u001b[1;32mc:\\Users\\dhuff\\Desktop\\fundamentos-de-aprendizaje-automatico\\Clasificador.py\u001b[0m in \u001b[0;36m?\u001b[1;34m(self, particionado, dataset, clasificador, seed)\u001b[0m\n\u001b[0;32m    132\u001b[0m             \u001b[0mdatos_train\u001b[0m \u001b[1;33m=\u001b[0m \u001b[0mdataset\u001b[0m\u001b[1;33m.\u001b[0m\u001b[0mextraeDatos\u001b[0m\u001b[1;33m(\u001b[0m\u001b[0mparticion\u001b[0m\u001b[1;33m.\u001b[0m\u001b[0mindicesTrain\u001b[0m\u001b[1;33m)\u001b[0m\u001b[1;33m\u001b[0m\u001b[1;33m\u001b[0m\u001b[0m\n\u001b[0;32m    133\u001b[0m \u001b[1;33m\u001b[0m\u001b[0m\n\u001b[0;32m    134\u001b[0m             \u001b[1;31m# se llama al metodo del clasificador para ajustar el modelo al conjunto\u001b[0m\u001b[1;33m\u001b[0m\u001b[1;33m\u001b[0m\u001b[0m\n\u001b[0;32m    135\u001b[0m             \u001b[1;31m# de entrenamiento\u001b[0m\u001b[1;33m\u001b[0m\u001b[1;33m\u001b[0m\u001b[0m\n\u001b[1;32m--> 136\u001b[1;33m             clasificador.entrenamiento(\n\u001b[0m\u001b[0;32m    137\u001b[0m                 \u001b[0mdatos_train\u001b[0m\u001b[1;33m,\u001b[0m \u001b[0mdataset\u001b[0m\u001b[1;33m.\u001b[0m\u001b[0mnominalAtributos\u001b[0m\u001b[1;33m,\u001b[0m \u001b[0mdataset\u001b[0m\u001b[1;33m.\u001b[0m\u001b[0mdiccionarios\u001b[0m\u001b[1;33m\u001b[0m\u001b[1;33m\u001b[0m\u001b[0m\n\u001b[0;32m    138\u001b[0m             )\n\u001b[0;32m    139\u001b[0m \u001b[1;33m\u001b[0m\u001b[0m\n",
      "\u001b[1;32mc:\\Users\\dhuff\\Desktop\\fundamentos-de-aprendizaje-automatico\\Clasificador.py\u001b[0m in \u001b[0;36m?\u001b[1;34m(self, datosTrain, nominalAtributos, diccionario)\u001b[0m\n\u001b[0;32m    360\u001b[0m                 \u001b[0mremainder\u001b[0m\u001b[1;33m=\u001b[0m\u001b[1;34m\"passthrough\"\u001b[0m\u001b[1;33m,\u001b[0m  \u001b[1;31m# columnas no nominales\u001b[0m\u001b[1;33m\u001b[0m\u001b[1;33m\u001b[0m\u001b[0m\n\u001b[0;32m    361\u001b[0m             )\n\u001b[0;32m    362\u001b[0m             \u001b[0mX\u001b[0m \u001b[1;33m=\u001b[0m \u001b[0mself\u001b[0m\u001b[1;33m.\u001b[0m\u001b[0m_transformador\u001b[0m\u001b[1;33m.\u001b[0m\u001b[0mfit_transform\u001b[0m\u001b[1;33m(\u001b[0m\u001b[0mX\u001b[0m\u001b[1;33m)\u001b[0m\u001b[1;33m\u001b[0m\u001b[1;33m\u001b[0m\u001b[0m\n\u001b[0;32m    363\u001b[0m \u001b[1;33m\u001b[0m\u001b[0m\n\u001b[1;32m--> 364\u001b[1;33m         \u001b[0mself\u001b[0m\u001b[1;33m.\u001b[0m\u001b[0m_modelo\u001b[0m\u001b[1;33m.\u001b[0m\u001b[0mfit\u001b[0m\u001b[1;33m(\u001b[0m\u001b[0mX\u001b[0m\u001b[1;33m,\u001b[0m \u001b[0my\u001b[0m\u001b[1;33m)\u001b[0m\u001b[1;33m\u001b[0m\u001b[1;33m\u001b[0m\u001b[0m\n\u001b[0m",
      "\u001b[1;32m~\\AppData\\Local\\Packages\\PythonSoftwareFoundation.Python.3.11_qbz5n2kfra8p0\\LocalCache\\local-packages\\Python311\\site-packages\\sklearn\\base.py\u001b[0m in \u001b[0;36m?\u001b[1;34m(estimator, *args, **kwargs)\u001b[0m\n\u001b[0;32m   1141\u001b[0m                 \u001b[0mfit_method\u001b[0m\u001b[1;33m.\u001b[0m\u001b[0m__name__\u001b[0m \u001b[1;33m==\u001b[0m \u001b[1;34m\"partial_fit\"\u001b[0m \u001b[1;32mand\u001b[0m \u001b[0m_is_fitted\u001b[0m\u001b[1;33m(\u001b[0m\u001b[0mestimator\u001b[0m\u001b[1;33m)\u001b[0m\u001b[1;33m\u001b[0m\u001b[1;33m\u001b[0m\u001b[0m\n\u001b[0;32m   1142\u001b[0m             )\n\u001b[0;32m   1143\u001b[0m \u001b[1;33m\u001b[0m\u001b[0m\n\u001b[0;32m   1144\u001b[0m             \u001b[1;32mif\u001b[0m \u001b[1;32mnot\u001b[0m \u001b[0mglobal_skip_validation\u001b[0m \u001b[1;32mand\u001b[0m \u001b[1;32mnot\u001b[0m \u001b[0mpartial_fit_and_fitted\u001b[0m\u001b[1;33m:\u001b[0m\u001b[1;33m\u001b[0m\u001b[1;33m\u001b[0m\u001b[0m\n\u001b[1;32m-> 1145\u001b[1;33m                 \u001b[0mestimator\u001b[0m\u001b[1;33m.\u001b[0m\u001b[0m_validate_params\u001b[0m\u001b[1;33m(\u001b[0m\u001b[1;33m)\u001b[0m\u001b[1;33m\u001b[0m\u001b[1;33m\u001b[0m\u001b[0m\n\u001b[0m\u001b[0;32m   1146\u001b[0m \u001b[1;33m\u001b[0m\u001b[0m\n\u001b[0;32m   1147\u001b[0m             with config_context(\n\u001b[0;32m   1148\u001b[0m                 skip_parameter_validation=(\n",
      "\u001b[1;32m~\\AppData\\Local\\Packages\\PythonSoftwareFoundation.Python.3.11_qbz5n2kfra8p0\\LocalCache\\local-packages\\Python311\\site-packages\\pandas\\core\\generic.py\u001b[0m in \u001b[0;36m?\u001b[1;34m(self, name)\u001b[0m\n\u001b[0;32m   6200\u001b[0m             \u001b[1;32mand\u001b[0m \u001b[0mname\u001b[0m \u001b[1;32mnot\u001b[0m \u001b[1;32min\u001b[0m \u001b[0mself\u001b[0m\u001b[1;33m.\u001b[0m\u001b[0m_accessors\u001b[0m\u001b[1;33m\u001b[0m\u001b[1;33m\u001b[0m\u001b[0m\n\u001b[0;32m   6201\u001b[0m             \u001b[1;32mand\u001b[0m \u001b[0mself\u001b[0m\u001b[1;33m.\u001b[0m\u001b[0m_info_axis\u001b[0m\u001b[1;33m.\u001b[0m\u001b[0m_can_hold_identifiers_and_holds_name\u001b[0m\u001b[1;33m(\u001b[0m\u001b[0mname\u001b[0m\u001b[1;33m)\u001b[0m\u001b[1;33m\u001b[0m\u001b[1;33m\u001b[0m\u001b[0m\n\u001b[0;32m   6202\u001b[0m         ):\n\u001b[0;32m   6203\u001b[0m             \u001b[1;32mreturn\u001b[0m \u001b[0mself\u001b[0m\u001b[1;33m[\u001b[0m\u001b[0mname\u001b[0m\u001b[1;33m]\u001b[0m\u001b[1;33m\u001b[0m\u001b[1;33m\u001b[0m\u001b[0m\n\u001b[1;32m-> 6204\u001b[1;33m         \u001b[1;32mreturn\u001b[0m \u001b[0mobject\u001b[0m\u001b[1;33m.\u001b[0m\u001b[0m__getattribute__\u001b[0m\u001b[1;33m(\u001b[0m\u001b[0mself\u001b[0m\u001b[1;33m,\u001b[0m \u001b[0mname\u001b[0m\u001b[1;33m)\u001b[0m\u001b[1;33m\u001b[0m\u001b[1;33m\u001b[0m\u001b[0m\n\u001b[0m",
      "\u001b[1;31mAttributeError\u001b[0m: 'DataFrame' object has no attribute '_validate_params'"
     ]
    }
   ],
   "source": [
    "ttt = Datos(\"tic-tac-toe.csv\")\n",
    "\n",
    "def validacion_ttt_sk(modelo, encoder: bool):\n",
    "    clasificador.validacion(validacion_cruzada, ttt, ClasificadorNaiveBayesScikit(modelo, encoder))\n",
    "\n",
    "tic_tac_toe_validacion_multinomial = validacion_ttt_sk(MultinomialNB, False)\n",
    "tic_tac_toe_validacion_multinomial_encoder = validacion_ttt_sk(MultinomialNB, True)\n",
    "tic_tac_toe_validacion_gaussian = validacion_ttt_sk(GaussianNB, False)\n",
    "tic_tac_toe_validacion_gaussian_encoder = validacion_ttt_sk(GaussianNB, True)\n",
    "tic_tac_toe_validacion_categorico = validacion_ttt_sk(CategoricalNB, False)\n",
    "tic_tac_toe_validacion_categorico_encoder = validacion_ttt_sk(CategoricalNB, True)\n",
    "\n",
    "resultados_naive_bayes_sk_ttt = pd.DataFrame(\n",
    "    [\n",
    "        (\n",
    "            \"tic-tac-toe\",\n",
    "            \"Mulinominal\",\n",
    "            tic_tac_toe_validacion_multinomial[0],\n",
    "            tic_tac_toe_validacion_multinomial[1],\n",
    "            tic_tac_toe_validacion_multinomial_encoder[0],\n",
    "            tic_tac_toe_validacion_multinomial_encoder[1],\n",
    "        ),\n",
    "        (\n",
    "            \"tic-tac-toe\",\n",
    "            \"Gaussiano\",\n",
    "            tic_tac_toe_validacion_gaussian[0],\n",
    "            tic_tac_toe_validacion_gaussian[1],\n",
    "            tic_tac_toe_validacion_gaussian_encoder[0],\n",
    "            tic_tac_toe_validacion_gaussian_encoder[1],\n",
    "        ),\n",
    "        (\n",
    "            \"tic-tac-toe\",\n",
    "            \"Categorico\",\n",
    "            tic_tac_toe_validacion_categorico[0],\n",
    "            tic_tac_toe_validacion_categorico[1],\n",
    "            tic_tac_toe_validacion_categorico_encoder[0],\n",
    "            tic_tac_toe_validacion_categorico_encoder[1],\n",
    "        )\n",
    "    ],\n",
    "    columns=[\n",
    "        \"Dataset\",\n",
    "        \"Modelo\"\n",
    "        \"Promedio error\",\n",
    "        \"Desviación estandar error\",\n",
    "        \"Promedio error con encoder\",\n",
    "        \"Desviación estandar error con encoder\"\n",
    "    ],\n",
    ")\n",
    "resultados_naive_bayes_sk_ttt"
   ]
  },
  {
   "cell_type": "markdown",
   "id": "1354d6d4",
   "metadata": {},
   "source": [
    "aqui analisis"
   ]
  },
  {
   "cell_type": "markdown",
   "id": "4b3452a2",
   "metadata": {},
   "source": [
    "### Entrenamiento y clasificación para dataset __heart__"
   ]
  },
  {
   "cell_type": "code",
   "execution_count": 14,
   "id": "1dcee8ad",
   "metadata": {},
   "outputs": [
    {
     "ename": "AttributeError",
     "evalue": "'DataFrame' object has no attribute '_validate_params'",
     "output_type": "error",
     "traceback": [
      "\u001b[1;31m---------------------------------------------------------------------------\u001b[0m",
      "\u001b[1;31mAttributeError\u001b[0m                            Traceback (most recent call last)",
      "\u001b[1;32m~\\AppData\\Local\\Temp\\ipykernel_47016\\2024154821.py\u001b[0m in \u001b[0;36m?\u001b[1;34m()\u001b[0m\n\u001b[0;32m      1\u001b[0m \u001b[0mheart\u001b[0m \u001b[1;33m=\u001b[0m \u001b[0mDatos\u001b[0m\u001b[1;33m(\u001b[0m\u001b[1;34m\"heart.csv\"\u001b[0m\u001b[1;33m)\u001b[0m\u001b[1;33m\u001b[0m\u001b[1;33m\u001b[0m\u001b[0m\n\u001b[1;32m----> 2\u001b[1;33m heart_validacion = clasificador.validacion(\n\u001b[0m\u001b[0;32m      3\u001b[0m     \u001b[0mvalidacion_cruzada\u001b[0m\u001b[1;33m,\u001b[0m \u001b[0mheart\u001b[0m\u001b[1;33m,\u001b[0m \u001b[0mClasificadorNaiveBayesScikit\u001b[0m\u001b[1;33m(\u001b[0m\u001b[0mGaussianNB\u001b[0m\u001b[1;33m,\u001b[0m \u001b[1;32mFalse\u001b[0m\u001b[1;33m)\u001b[0m\u001b[1;33m\u001b[0m\u001b[1;33m\u001b[0m\u001b[0m\n\u001b[0;32m      4\u001b[0m )\n\u001b[0;32m      5\u001b[0m heart_validacion_encoder = clasificador.validacion(\n",
      "\u001b[1;32mc:\\Users\\dhuff\\Desktop\\fundamentos-de-aprendizaje-automatico\\Clasificador.py\u001b[0m in \u001b[0;36m?\u001b[1;34m(self, particionado, dataset, clasificador, seed)\u001b[0m\n\u001b[0;32m    132\u001b[0m             \u001b[0mdatos_train\u001b[0m \u001b[1;33m=\u001b[0m \u001b[0mdataset\u001b[0m\u001b[1;33m.\u001b[0m\u001b[0mextraeDatos\u001b[0m\u001b[1;33m(\u001b[0m\u001b[0mparticion\u001b[0m\u001b[1;33m.\u001b[0m\u001b[0mindicesTrain\u001b[0m\u001b[1;33m)\u001b[0m\u001b[1;33m\u001b[0m\u001b[1;33m\u001b[0m\u001b[0m\n\u001b[0;32m    133\u001b[0m \u001b[1;33m\u001b[0m\u001b[0m\n\u001b[0;32m    134\u001b[0m             \u001b[1;31m# se llama al metodo del clasificador para ajustar el modelo al conjunto\u001b[0m\u001b[1;33m\u001b[0m\u001b[1;33m\u001b[0m\u001b[0m\n\u001b[0;32m    135\u001b[0m             \u001b[1;31m# de entrenamiento\u001b[0m\u001b[1;33m\u001b[0m\u001b[1;33m\u001b[0m\u001b[0m\n\u001b[1;32m--> 136\u001b[1;33m             clasificador.entrenamiento(\n\u001b[0m\u001b[0;32m    137\u001b[0m                 \u001b[0mdatos_train\u001b[0m\u001b[1;33m,\u001b[0m \u001b[0mdataset\u001b[0m\u001b[1;33m.\u001b[0m\u001b[0mnominalAtributos\u001b[0m\u001b[1;33m,\u001b[0m \u001b[0mdataset\u001b[0m\u001b[1;33m.\u001b[0m\u001b[0mdiccionarios\u001b[0m\u001b[1;33m\u001b[0m\u001b[1;33m\u001b[0m\u001b[0m\n\u001b[0;32m    138\u001b[0m             )\n\u001b[0;32m    139\u001b[0m \u001b[1;33m\u001b[0m\u001b[0m\n",
      "\u001b[1;32mc:\\Users\\dhuff\\Desktop\\fundamentos-de-aprendizaje-automatico\\Clasificador.py\u001b[0m in \u001b[0;36m?\u001b[1;34m(self, datosTrain, nominalAtributos, diccionario)\u001b[0m\n\u001b[0;32m    360\u001b[0m                 \u001b[0mremainder\u001b[0m\u001b[1;33m=\u001b[0m\u001b[1;34m\"passthrough\"\u001b[0m\u001b[1;33m,\u001b[0m  \u001b[1;31m# columnas no nominales\u001b[0m\u001b[1;33m\u001b[0m\u001b[1;33m\u001b[0m\u001b[0m\n\u001b[0;32m    361\u001b[0m             )\n\u001b[0;32m    362\u001b[0m             \u001b[0mX\u001b[0m \u001b[1;33m=\u001b[0m \u001b[0mself\u001b[0m\u001b[1;33m.\u001b[0m\u001b[0m_transformador\u001b[0m\u001b[1;33m.\u001b[0m\u001b[0mfit_transform\u001b[0m\u001b[1;33m(\u001b[0m\u001b[0mX\u001b[0m\u001b[1;33m)\u001b[0m\u001b[1;33m\u001b[0m\u001b[1;33m\u001b[0m\u001b[0m\n\u001b[0;32m    363\u001b[0m \u001b[1;33m\u001b[0m\u001b[0m\n\u001b[1;32m--> 364\u001b[1;33m         \u001b[0mself\u001b[0m\u001b[1;33m.\u001b[0m\u001b[0m_modelo\u001b[0m\u001b[1;33m.\u001b[0m\u001b[0mfit\u001b[0m\u001b[1;33m(\u001b[0m\u001b[0mX\u001b[0m\u001b[1;33m,\u001b[0m \u001b[0my\u001b[0m\u001b[1;33m)\u001b[0m\u001b[1;33m\u001b[0m\u001b[1;33m\u001b[0m\u001b[0m\n\u001b[0m",
      "\u001b[1;32m~\\AppData\\Local\\Packages\\PythonSoftwareFoundation.Python.3.11_qbz5n2kfra8p0\\LocalCache\\local-packages\\Python311\\site-packages\\sklearn\\base.py\u001b[0m in \u001b[0;36m?\u001b[1;34m(estimator, *args, **kwargs)\u001b[0m\n\u001b[0;32m   1141\u001b[0m                 \u001b[0mfit_method\u001b[0m\u001b[1;33m.\u001b[0m\u001b[0m__name__\u001b[0m \u001b[1;33m==\u001b[0m \u001b[1;34m\"partial_fit\"\u001b[0m \u001b[1;32mand\u001b[0m \u001b[0m_is_fitted\u001b[0m\u001b[1;33m(\u001b[0m\u001b[0mestimator\u001b[0m\u001b[1;33m)\u001b[0m\u001b[1;33m\u001b[0m\u001b[1;33m\u001b[0m\u001b[0m\n\u001b[0;32m   1142\u001b[0m             )\n\u001b[0;32m   1143\u001b[0m \u001b[1;33m\u001b[0m\u001b[0m\n\u001b[0;32m   1144\u001b[0m             \u001b[1;32mif\u001b[0m \u001b[1;32mnot\u001b[0m \u001b[0mglobal_skip_validation\u001b[0m \u001b[1;32mand\u001b[0m \u001b[1;32mnot\u001b[0m \u001b[0mpartial_fit_and_fitted\u001b[0m\u001b[1;33m:\u001b[0m\u001b[1;33m\u001b[0m\u001b[1;33m\u001b[0m\u001b[0m\n\u001b[1;32m-> 1145\u001b[1;33m                 \u001b[0mestimator\u001b[0m\u001b[1;33m.\u001b[0m\u001b[0m_validate_params\u001b[0m\u001b[1;33m(\u001b[0m\u001b[1;33m)\u001b[0m\u001b[1;33m\u001b[0m\u001b[1;33m\u001b[0m\u001b[0m\n\u001b[0m\u001b[0;32m   1146\u001b[0m \u001b[1;33m\u001b[0m\u001b[0m\n\u001b[0;32m   1147\u001b[0m             with config_context(\n\u001b[0;32m   1148\u001b[0m                 skip_parameter_validation=(\n",
      "\u001b[1;32m~\\AppData\\Local\\Packages\\PythonSoftwareFoundation.Python.3.11_qbz5n2kfra8p0\\LocalCache\\local-packages\\Python311\\site-packages\\pandas\\core\\generic.py\u001b[0m in \u001b[0;36m?\u001b[1;34m(self, name)\u001b[0m\n\u001b[0;32m   6200\u001b[0m             \u001b[1;32mand\u001b[0m \u001b[0mname\u001b[0m \u001b[1;32mnot\u001b[0m \u001b[1;32min\u001b[0m \u001b[0mself\u001b[0m\u001b[1;33m.\u001b[0m\u001b[0m_accessors\u001b[0m\u001b[1;33m\u001b[0m\u001b[1;33m\u001b[0m\u001b[0m\n\u001b[0;32m   6201\u001b[0m             \u001b[1;32mand\u001b[0m \u001b[0mself\u001b[0m\u001b[1;33m.\u001b[0m\u001b[0m_info_axis\u001b[0m\u001b[1;33m.\u001b[0m\u001b[0m_can_hold_identifiers_and_holds_name\u001b[0m\u001b[1;33m(\u001b[0m\u001b[0mname\u001b[0m\u001b[1;33m)\u001b[0m\u001b[1;33m\u001b[0m\u001b[1;33m\u001b[0m\u001b[0m\n\u001b[0;32m   6202\u001b[0m         ):\n\u001b[0;32m   6203\u001b[0m             \u001b[1;32mreturn\u001b[0m \u001b[0mself\u001b[0m\u001b[1;33m[\u001b[0m\u001b[0mname\u001b[0m\u001b[1;33m]\u001b[0m\u001b[1;33m\u001b[0m\u001b[1;33m\u001b[0m\u001b[0m\n\u001b[1;32m-> 6204\u001b[1;33m         \u001b[1;32mreturn\u001b[0m \u001b[0mobject\u001b[0m\u001b[1;33m.\u001b[0m\u001b[0m__getattribute__\u001b[0m\u001b[1;33m(\u001b[0m\u001b[0mself\u001b[0m\u001b[1;33m,\u001b[0m \u001b[0mname\u001b[0m\u001b[1;33m)\u001b[0m\u001b[1;33m\u001b[0m\u001b[1;33m\u001b[0m\u001b[0m\n\u001b[0m",
      "\u001b[1;31mAttributeError\u001b[0m: 'DataFrame' object has no attribute '_validate_params'"
     ]
    }
   ],
   "source": [
    "heart = Datos(\"heart.csv\")\n",
    "heart_validacion = clasificador.validacion(\n",
    "    validacion_cruzada, heart, ClasificadorNaiveBayesScikit(GaussianNB, False)\n",
    ")\n",
    "heart_validacion_encoder = clasificador.validacion(\n",
    "    validacion_cruzada, heart, ClasificadorNaiveBayesScikit(GaussianNB, True)\n",
    ")\n",
    "\n",
    "resultados_naive_bayes_sk_heart = pd.DataFrame(\n",
    "    [\n",
    "        (\n",
    "            \"heart\",\n",
    "            heart_validacion[0],\n",
    "            heart_validacion[1],\n",
    "        ),\n",
    "        (\n",
    "            \"heart encoded\",\n",
    "            heart_validacion_encoder[0],\n",
    "            heart_validacion_encoder[1],\n",
    "        )\n",
    "    ],\n",
    "    columns=[\n",
    "        \"Dataset\",\n",
    "        \"Promedio error clasificacion gaussiana\",\n",
    "        \"Desviacion estandar error clasificacion gaussiana\",\n",
    "    ],\n",
    ")\n",
    "resultados_naive_bayes_sk_heart"
   ]
  },
  {
   "cell_type": "markdown",
   "id": "2776fc0f",
   "metadata": {},
   "source": [
    "aqui analisis\n",
    "\n",
    "*Por qué crees que no utilizamos los otros dos algoritmos aquí?\n",
    "¿qué transformación/es podríamos hacer para resolver el problema?*\n",
    "\n",
    "Porque este dataset contiene atributos continuos. Para resolver el problema se pueden escalar estos atributos por ejemplo con la clase `StandardScaler` de sklearn. Así se transforma el atributo de tipo continuo a un tipo multinominal"
   ]
  }
 ],
 "metadata": {
  "kernelspec": {
   "display_name": "Python 3 (ipykernel)",
   "language": "python",
   "name": "python3"
  },
  "language_info": {
   "codemirror_mode": {
    "name": "ipython",
    "version": 3
   },
   "file_extension": ".py",
   "mimetype": "text/x-python",
   "name": "python",
   "nbconvert_exporter": "python",
   "pygments_lexer": "ipython3",
   "version": "3.11.6"
  }
 },
 "nbformat": 4,
 "nbformat_minor": 5
}
