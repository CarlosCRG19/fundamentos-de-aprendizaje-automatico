{
 "cells": [
  {
   "cell_type": "code",
   "execution_count": 1,
   "metadata": {},
   "outputs": [],
   "source": [
    "# coding: utf-8\n",
    "from typing import Dict, List\n",
    "\n",
    "import pandas as pd\n",
    "\n",
    "\n",
    "class Datos:\n",
    "    datos: int\n",
    "    nominalAtributos: List[bool]\n",
    "\n",
    "    # Constructor: procesar el fichero para asignar correctamente las variables nominalAtributos, datos y diccionarios\n",
    "    def __init__(self, nombreFichero: str):\n",
    "        self.datosCrudos = pd.read_csv(nombreFichero)\n",
    "        self.datos = self.datosCrudos.copy()\n",
    "\n",
    "        self.nominalAtributos = []\n",
    "        self.diccionarios = {}\n",
    "\n",
    "        for columna in self.datos.columns:\n",
    "            if self._es_nominal(columna):\n",
    "                self.nominalAtributos.append(True)\n",
    "                self.diccionarios[columna] = self._generar_mapeo(columna)\n",
    "                self.datos[columna] = self._reemplazar_valores(columna)\n",
    "            elif self._es_numerico(columna):\n",
    "                self.nominalAtributos.append(False)\n",
    "                self.diccionarios[columna] = {}\n",
    "            else:\n",
    "                raise ValueError(\n",
    "                    f\"La columna '{columna}' contiene valores que no son nominales ni enteros/decimales.\"\n",
    "                )\n",
    "\n",
    "    def _es_nominal(self, columna: str) -> bool:\n",
    "        # es verdadero si es la columna objetivo o si sus valores son nominales\n",
    "        return columna.lower() == \"class\" or self.datos[columna].dtype.name == \"object\"\n",
    "\n",
    "    def _es_numerico(self, columna: str) -> bool:\n",
    "        # es verdadero si los valores son un n�meros enteros o reales\n",
    "        return self.datos[columna].dtype.name in [\"int64\", \"float64\"]\n",
    "\n",
    "    def _generar_mapeo(self, columna_nominal: str):\n",
    "        # se extraen los valores �nicos de la columna y se sortean lexicograficamente\n",
    "        valores = [str(valor) for valor in self.datos[columna_nominal].unique()]\n",
    "        valores = sorted(valores)\n",
    "\n",
    "        return {valor: indice for indice, valor in enumerate(valores)}\n",
    "\n",
    "    def _reemplazar_valores(self, columna_nominal: str) -> pd.Series:\n",
    "        mapeo = self.diccionarios[columna_nominal]\n",
    "        return self.datos[columna_nominal].map(lambda valor: mapeo[str(valor)])\n",
    "\n",
    "    # Devuelve el subconjunto de los datos cuyos �ndices se pasan como argumento\n",
    "    def extraeDatos(self, idx: List[int]):\n",
    "        return self.datos.iloc[idx]\n"
   ]
  },
  {
   "cell_type": "code",
   "execution_count": 47,
   "metadata": {},
   "outputs": [
    {
     "name": "stdout",
     "output_type": "stream",
     "text": [
      "[-0.0031780974693649267, -0.2934956627407229, 0.3250082571265662, -0.31809149751059085, 0.4587299098595584, -0.11560375790639199, 0.03239864739490517, -0.4267375427591611, 0.47212533813179136, -0.38325786377470783, 0.36136033300512094, -0.04118383000115988, -0.20338831413543723, -0.20384928265178004, -0.4685186533910447, 0.10839652022143409, -0.2941077602576263, -0.49493955953806046, -0.37531003659515516, -0.011382926660737924, -0.4686530365693251, -0.08156677083771025, 0.2767084111686321, 0.4005028751793944, 0.04098068906032182, 0.13784736714719015, 0.40815878423887786, 0.3850419186123675, 0.16554697326315304, 0.2861607224671875]\n",
      "-0.0031780974693649267 [0.63998577 0.26425662 0.65145889 0.4002399  0.7246022  0.80370585\n",
      " 0.70313964 0.73111332 0.79572368 0.80777915 0.3811347  0.18532242\n",
      " 0.39076433 0.28292143 0.20555734 0.36218612 0.13568182 0.30062512\n",
      " 0.38036732 0.20754021 0.70421754 0.34981833 0.73487261 0.47461213\n",
      " 0.72866128 0.62911153 0.56861022 0.91202749 0.69313046 0.57301205]\n"
     ]
    },
    {
     "ename": "TypeError",
     "evalue": "only length-1 arrays can be converted to Python scalars",
     "output_type": "error",
     "traceback": [
      "\u001b[1;31m---------------------------------------------------------------------------\u001b[0m",
      "\u001b[1;31mTypeError\u001b[0m                                 Traceback (most recent call last)",
      "\u001b[1;32mc:\\Users\\dhuff\\Desktop\\fundamentos-de-aprendizaje-automatico\\Logistic_Reg_David.ipynb Cell 2\u001b[0m line \u001b[0;36m3\n\u001b[0;32m     <a href='vscode-notebook-cell:/c%3A/Users/dhuff/Desktop/fundamentos-de-aprendizaje-automatico/Logistic_Reg_David.ipynb#W1sZmlsZQ%3D%3D?line=30'>31</a>\u001b[0m     \u001b[39mprint\u001b[39m(w)\n\u001b[0;32m     <a href='vscode-notebook-cell:/c%3A/Users/dhuff/Desktop/fundamentos-de-aprendizaje-automatico/Logistic_Reg_David.ipynb#W1sZmlsZQ%3D%3D?line=31'>32</a>\u001b[0m     \u001b[39mreturn\u001b[39;00m w \u001b[39m-\u001b[39m k_apre \u001b[39m*\u001b[39m x \u001b[39m*\u001b[39m (sigma(w, x) \u001b[39m-\u001b[39m t)\n\u001b[1;32m---> <a href='vscode-notebook-cell:/c%3A/Users/dhuff/Desktop/fundamentos-de-aprendizaje-automatico/Logistic_Reg_David.ipynb#W1sZmlsZQ%3D%3D?line=33'>34</a>\u001b[0m \u001b[39mprint\u001b[39m(actualiza_w(umbral, datos\u001b[39m.\u001b[39;49mhead(\u001b[39m1\u001b[39;49m)))\n\u001b[0;32m     <a href='vscode-notebook-cell:/c%3A/Users/dhuff/Desktop/fundamentos-de-aprendizaje-automatico/Logistic_Reg_David.ipynb#W1sZmlsZQ%3D%3D?line=35'>36</a>\u001b[0m \u001b[39m#print(np.array(datos.head(1))[0])\u001b[39;00m\n",
      "\u001b[1;32mc:\\Users\\dhuff\\Desktop\\fundamentos-de-aprendizaje-automatico\\Logistic_Reg_David.ipynb Cell 2\u001b[0m line \u001b[0;36m3\n\u001b[0;32m     <a href='vscode-notebook-cell:/c%3A/Users/dhuff/Desktop/fundamentos-de-aprendizaje-automatico/Logistic_Reg_David.ipynb#W1sZmlsZQ%3D%3D?line=29'>30</a>\u001b[0m x \u001b[39m=\u001b[39m x\u001b[39m.\u001b[39miloc[:,:\u001b[39m-\u001b[39m\u001b[39m1\u001b[39m]\n\u001b[0;32m     <a href='vscode-notebook-cell:/c%3A/Users/dhuff/Desktop/fundamentos-de-aprendizaje-automatico/Logistic_Reg_David.ipynb#W1sZmlsZQ%3D%3D?line=30'>31</a>\u001b[0m \u001b[39mprint\u001b[39m(w)\n\u001b[1;32m---> <a href='vscode-notebook-cell:/c%3A/Users/dhuff/Desktop/fundamentos-de-aprendizaje-automatico/Logistic_Reg_David.ipynb#W1sZmlsZQ%3D%3D?line=31'>32</a>\u001b[0m \u001b[39mreturn\u001b[39;00m w \u001b[39m-\u001b[39m k_apre \u001b[39m*\u001b[39m x \u001b[39m*\u001b[39m (sigma(w, x) \u001b[39m-\u001b[39m t)\n",
      "\u001b[1;32mc:\\Users\\dhuff\\Desktop\\fundamentos-de-aprendizaje-automatico\\Logistic_Reg_David.ipynb Cell 2\u001b[0m line \u001b[0;36m2\n\u001b[0;32m     <a href='vscode-notebook-cell:/c%3A/Users/dhuff/Desktop/fundamentos-de-aprendizaje-automatico/Logistic_Reg_David.ipynb#W1sZmlsZQ%3D%3D?line=22'>23</a>\u001b[0m w \u001b[39m=\u001b[39m np\u001b[39m.\u001b[39marray(w_v)[\u001b[39m0\u001b[39m]\n\u001b[0;32m     <a href='vscode-notebook-cell:/c%3A/Users/dhuff/Desktop/fundamentos-de-aprendizaje-automatico/Logistic_Reg_David.ipynb#W1sZmlsZQ%3D%3D?line=23'>24</a>\u001b[0m \u001b[39mprint\u001b[39m(w, x)\n\u001b[1;32m---> <a href='vscode-notebook-cell:/c%3A/Users/dhuff/Desktop/fundamentos-de-aprendizaje-automatico/Logistic_Reg_David.ipynb#W1sZmlsZQ%3D%3D?line=24'>25</a>\u001b[0m \u001b[39m1\u001b[39m \u001b[39m/\u001b[39m \u001b[39m1\u001b[39m \u001b[39m+\u001b[39m math\u001b[39m.\u001b[39;49mexp(\u001b[39m-\u001b[39;49mw\u001b[39m*\u001b[39;49mx)\n",
      "\u001b[1;31mTypeError\u001b[0m: only length-1 arrays can be converted to Python scalars"
     ]
    }
   ],
   "source": [
    "import math\n",
    "import random\n",
    "import numpy as np\n",
    "datos = Datos(\"wdbc.csv\").datos\n",
    "\n",
    "\n",
    "# normalizar los datos\n",
    "for col in datos.columns:\n",
    "    datos[col] = datos[col] / datos[col].abs().max()\n",
    "\n",
    "#datos.head(5)\n",
    "\n",
    "# crea umbral\n",
    "umbral = [random.uniform(-0.5,0.5) for col in datos.columns]\n",
    "umbral = umbral[:-1]\n",
    "\n",
    "# constante de aprendizaje\n",
    "k_apre = 1\n",
    "\n",
    "# entra w.x\n",
    "def sigma(w_v, x_v):\n",
    "    x = np.array(x_v)[0]\n",
    "    w = np.array(w_v)[0]\n",
    "    print(w, x)\n",
    "    1 / 1 + math.exp(-w*x)\n",
    "\n",
    "\n",
    "def actualiza_w(w, x):\n",
    "    t = x.iloc[:,-1:]\n",
    "    x = x.iloc[:,:-1]\n",
    "    print(w)\n",
    "    return w - k_apre * x * (sigma(w, x) - t)\n",
    "\n",
    "print(actualiza_w(umbral, datos.head(1)))\n",
    "\n",
    "#print(np.array(datos.head(1))[0])\n"
   ]
  }
 ],
 "metadata": {
  "kernelspec": {
   "display_name": "Python 3",
   "language": "python",
   "name": "python3"
  },
  "language_info": {
   "codemirror_mode": {
    "name": "ipython",
    "version": 3
   },
   "file_extension": ".py",
   "mimetype": "text/x-python",
   "name": "python",
   "nbconvert_exporter": "python",
   "pygments_lexer": "ipython3",
   "version": "3.11.6"
  }
 },
 "nbformat": 4,
 "nbformat_minor": 2
}
