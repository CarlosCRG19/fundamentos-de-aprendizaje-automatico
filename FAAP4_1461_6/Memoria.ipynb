{
 "cells": [
  {
   "cell_type": "markdown",
   "id": "2d9e0253-da40-4186-b76f-01a7ee0546a6",
   "metadata": {},
   "source": [
    "# Práctica IV - Algoritmos Genéticos\n",
    "\n",
    "_Pareja 6_\n",
    "* David Kaack Sánchez\n",
    "* Carlos César Rodríguez García"
   ]
  },
  {
   "cell_type": "markdown",
   "id": "a61dfb12-9182-4d11-9a92-9bf5318636ee",
   "metadata": {},
   "source": [
    "## Setup"
   ]
  },
  {
   "cell_type": "markdown",
   "id": "223ac570-9e39-4b7b-b423-75fd1e47e14a",
   "metadata": {},
   "source": [
    "### Importaciones"
   ]
  },
  {
   "cell_type": "code",
   "execution_count": 1,
   "id": "e24b14af-42c4-446c-84af-67f9cf383e36",
   "metadata": {},
   "outputs": [],
   "source": [
    "import matplotlib.pyplot as plt\n",
    "import numpy as np\n",
    "import pandas as pd\n",
    "import utilerias as utils # Funciones que ayudan al procesado de datos y la creación de tablas para analizarlos.\n",
    "\n",
    "from ClasificadorKNN import ClasificadorKNN\n",
    "from ClusteringKMeans import ClusteringKMeans\n",
    "from Datos import Datos\n",
    "from EstrategiaParticionado import ValidacionCruzada\n",
    "from ScikitClasificadorKNN import ScikitClasificadorKNN\n",
    "from ScikitClusteringKMeans import ScikitClusteringKMeans"
   ]
  },
  {
   "cell_type": "markdown",
   "id": "e97ff375-8c7f-4f0a-a7b7-e84279151eeb",
   "metadata": {},
   "source": [
    "## Apartado 1 - Detalles de Implementación"
   ]
  },
  {
   "cell_type": "markdown",
   "id": "5febb322-e648-41af-b1c0-f48cab3cea21",
   "metadata": {},
   "source": [
    "### a) Mecanismo de cruce implementado"
   ]
  },
  {
   "cell_type": "markdown",
   "id": "ac93f634-cd8a-4e2b-82ce-e87d836b2133",
   "metadata": {},
   "source": [
    "### b) Mecanismo de mutación implementado"
   ]
  },
  {
   "cell_type": "markdown",
   "id": "1ffd12dd-85ae-4e6f-b87b-1dd1dc457e91",
   "metadata": {},
   "source": [
    "## Apartado 2 - Resultados de la Clasificación para los dos conjuntos de prueba\n",
    "\n",
    "* indicar con qué generacion se obtiene el mejor resultado\n",
    "* incluir porcentaje de acirto o error, reglas correspondientes al mejor individuo e interpretación del significado de las reglas\n"
   ]
  },
  {
   "cell_type": "markdown",
   "id": "fb348ece-1ac3-4ef6-9131-8935b408adfa",
   "metadata": {},
   "source": [
    "## Apartado 3 - Análisis de resultados\n",
    "* importancia del numero de reglas\n",
    "* tamanio de la poblacion y generaciones"
   ]
  },
  {
   "cell_type": "markdown",
   "id": "8c2ea847-f20b-4ca3-a236-75c27e0c1209",
   "metadata": {},
   "source": [
    "## Apartado 4 - Evolución de forma gráfica\n",
    "a) fitness del mejor individuo de la población\n",
    "b) fitness medio de la población"
   ]
  },
  {
   "cell_type": "code",
   "execution_count": null,
   "id": "04fe5323-0b24-47dc-884d-83c7acc36fdc",
   "metadata": {},
   "outputs": [],
   "source": []
  }
 ],
 "metadata": {
  "kernelspec": {
   "display_name": "Python 3 (ipykernel)",
   "language": "python",
   "name": "python3"
  },
  "language_info": {
   "codemirror_mode": {
    "name": "ipython",
    "version": 3
   },
   "file_extension": ".py",
   "mimetype": "text/x-python",
   "name": "python",
   "nbconvert_exporter": "python",
   "pygments_lexer": "ipython3",
   "version": "3.11.5"
  }
 },
 "nbformat": 4,
 "nbformat_minor": 5
}
