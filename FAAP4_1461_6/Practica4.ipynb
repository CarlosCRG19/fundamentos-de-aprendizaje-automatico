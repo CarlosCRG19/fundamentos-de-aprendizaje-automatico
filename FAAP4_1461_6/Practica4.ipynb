{
 "cells": [
  {
   "cell_type": "code",
   "execution_count": 197,
   "id": "72557808-d4ac-45c6-aa5d-f987cb212cef",
   "metadata": {},
   "outputs": [],
   "source": [
    "from random import choices\n",
    "from typing import Dict, List, Tuple\n",
    "\n",
    "import numpy as n\n",
    "import pandas as pd\n",
    "\n",
    "from Clasificador import Clasificador\n",
    "\n",
    "\n",
    "class Individuo:\n",
    "    def __init__(self, reglas: np.ndarray):\n",
    "        self.reglas = reglas\n",
    "\n",
    "    @staticmethod\n",
    "    def crea_con_reglas_aleatorias(max_reglas: int, longitud_reglas: int):\n",
    "        while True:\n",
    "            reglas = np.random.randint(\n",
    "                2, size=(np.random.randint(3, max_reglas), longitud_reglas)\n",
    "            )\n",
    "            # Verificar si alguna fila tiene solo 0s o solo 1s\n",
    "            if not np.any(np.all(reglas == 0, axis=1)) and not np.any(\n",
    "                np.all(reglas == 1, axis=1)\n",
    "            ):\n",
    "                break\n",
    "\n",
    "        return Individuo(reglas)\n",
    "\n",
    "    def clasifica_dato(self, dato: np.ndarray) -> int:\n",
    "        votos = [0, 0]\n",
    "\n",
    "        for regla in self.reglas:\n",
    "            regla_activada = True\n",
    "\n",
    "            for dato_bit, regla_bit in zip(dato[:-1], regla[:-1]):\n",
    "                if dato_bit == 1 and regla_bit != 1:\n",
    "                    regla_activada = False\n",
    "                    break\n",
    "\n",
    "            if regla_activada:\n",
    "                votos[regla[-1]] += 1\n",
    "        \n",
    "        if sum(votos) == 0:\n",
    "            return None\n",
    "        elif votos[0] > votos[1]:\n",
    "            return 0\n",
    "        elif votos[0] < votos[1]:\n",
    "            return 1\n",
    "        else:\n",
    "            return -1\n",
    "\n",
    "    def fitness(self, datos_codificados: np.ndarray) -> float:\n",
    "        aciertos = 0\n",
    "        \n",
    "        for dato in datos_codificados:\n",
    "            prediccion = self.clasifica_dato(dato)\n",
    "\n",
    "            if dato[-1] == prediccion:\n",
    "                aciertos += 1\n",
    "\n",
    "        return aciertos / datos_codificados.shape[0]\n",
    "\n",
    "    # metodo prototipo\n",
    "    def copia(self):\n",
    "        return Individuo(np.copy(self.reglas))\n",
    "        \n",
    "\n",
    "# Revisar con el profesor si debemos de utilizar Datos\n",
    "class CodificadorBinario:\n",
    "    def __init__(self, datos: pd.DataFrame):\n",
    "        self._n_bits, self._codificacion = self._init_codificacion(datos)\n",
    "\n",
    "    def _init_codificacion(self, datos: pd.DataFrame) -> Tuple[int, Dict[str, Dict[str, List[int]]]]:\n",
    "        columnas = datos.columns\n",
    "        codificacion = {}\n",
    "        n_bits = 0\n",
    "\n",
    "        for columna in columnas[:-1]:\n",
    "            valores = sorted(datos[columna].astype(str).unique())\n",
    "            codificacion[columna] = {}\n",
    "\n",
    "            for i, valor in enumerate(valores):\n",
    "                codigo = [0] * len(valores)\n",
    "                codigo[i] = 1\n",
    "\n",
    "                codificacion[columna][valor] = codigo\n",
    "\n",
    "            n_bits += len(valores)\n",
    "\n",
    "        # Columna de clase, tiene una codificación con un solo bit\n",
    "        codificacion[columnas[-1]] = {\"0\": [0], \"1\": [1]}\n",
    "        n_bits += 1\n",
    "\n",
    "        return n_bits, codificacion\n",
    "\n",
    "    def codifica_datos(self, datos: pd.DataFrame) -> np.ndarray:\n",
    "        filas_codificadas = []\n",
    "\n",
    "        for _, fila in datos.iterrows():\n",
    "            fila_codificada = []\n",
    "\n",
    "            for columna, valor in fila.items():\n",
    "                fila_codificada.extend(self._codificacion[columna][str(valor)])\n",
    "\n",
    "            filas_codificadas.append(fila_codificada)\n",
    "\n",
    "        return np.array(filas_codificadas)\n",
    "\n",
    "    def n_bits(self) -> int:\n",
    "        return self._n_bits\n",
    "\n",
    "\n",
    "class AlgoritmoGenetico(Clasificador):\n",
    "    def __init__(self, tamano_poblacion: int, epocas: int, max_reglas: int, porcentaje_elitismo: float):\n",
    "        self.tamano_poblacion = tamano_poblacion\n",
    "        self.epocas = epocas\n",
    "        self.max_reglas = max_reglas\n",
    "        self.n_elitistas = int(np.ceil(tamano_poblacion*porcentaje_elitismo))\n",
    "\n",
    "    def entrenamiento(\n",
    "        self, datosTrain: pd.DataFrame, nominalAtributos: List[bool], diccionario: Dict\n",
    "    ):\n",
    "        # Crea codificacion -> esto podria ser a traves de diccionario\n",
    "        self.codificador = CodificadorBinario(datosTrain)\n",
    "        \n",
    "        # Crear primera generacion\n",
    "        poblacion = self._crea_primera_generacion()\n",
    "        datos_codificados = self.codificador.codifica_datos(datosTrain)\n",
    "\n",
    "        for _ in range(self.epocas):\n",
    "            # calcular fitness de la poblacion\n",
    "            fitness_poblacion = self._evalua_fitness(datos_codificados, poblacion)\n",
    "\n",
    "            # utilizar elitismo\n",
    "            elite = self._selecciona_elite(poblacion, fitness_poblacion)\n",
    "\n",
    "            # selecciona progenitores\n",
    "            progenitores = self._selecciona_progenitores(poblacion, fitness_poblacion)\n",
    "\n",
    "            \n",
    "            print(progenitores)\n",
    "            \n",
    "    \n",
    "        # seleccionar padres\n",
    "        # Crossovers => cruzar los padres\n",
    "        # Mutaciones => mutar los padres para generar descendientes\n",
    "        # Sobrevivientes => seleccionar solo los mejores descendientes\n",
    "        # actualizar poblacion\n",
    "\n",
    "        # calcular fitness de la poblacion final\n",
    "        # calcular mejor solucion (mejor individuo)\n",
    "    \n",
    "    def _crea_primera_generacion(self) -> List[Individuo]:\n",
    "        poblacion = []\n",
    "\n",
    "        # Generar `tamano_poblacion` individuos con reglas aleatorias\n",
    "        for _ in range(self.tamano_poblacion):\n",
    "            poblacion.append(\n",
    "                Individuo.crea_con_reglas_aleatorias(max_reglas=self.max_reglas, longitud_reglas=self.codificador.n_bits())\n",
    "            )\n",
    "\n",
    "        return poblacion\n",
    "\n",
    "    def _evalua_fitness(self, datos_codificados: np.ndarray, poblacion: List[Individuo]) -> float:\n",
    "        fitness_poblacion = [individuo.fitness(datos_codificados) for individuo in poblacion]\n",
    "        return fitness_poblacion\n",
    "\n",
    "    def _selecciona_elite(self, poblacion: List[Individuo], fitness_poblacion: List[float]) -> List[Individuo]:\n",
    "        # Ordenar la población según la aptitud (mayor aptitud primero)\n",
    "        poblacion_ordenada = [individuo for _, individuo in sorted(zip(fitness_poblacion, poblacion), key=lambda x: x[0], reverse=True)]\n",
    "\n",
    "        # Seleccionar a los mejores individuos (élite)\n",
    "        elite = poblacion_ordenada[:self.n_elitistas]\n",
    "\n",
    "        return elite\n",
    "    \n",
    "    # Esta parte necesesita la codificacion terminada\n",
    "    def _selecciona_progenitores(\n",
    "        self, poblacion: List[Individuo], fitness_poblacion: List[float]\n",
    "    ) -> List[Individuo]:\n",
    "        n_progenitores = self.tamano_poblacion - self.n_elitistas\n",
    "\n",
    "        # Normalizar la aptitud para convertirla en probabilidades\n",
    "        probabilidad_seleccion = [fitness / sum(fitness_poblacion) for fitness in fitness_poblacion]\n",
    "\n",
    "        # Utilizar el método de la ruleta ponderada para seleccionar progenitores\n",
    "        progenitores = choices(poblacion, weights=probabilidad_seleccion, k=n_progenitores)\n",
    "\n",
    "        return [progenitor.copia() for progenitor in progenitores]"
   ]
  },
  {
   "cell_type": "code",
   "execution_count": 198,
   "id": "e68d0c20-7aa5-4c0d-b99d-766930353b44",
   "metadata": {},
   "outputs": [],
   "source": [
    "import pandas as pd\n",
    "\n",
    "df_titanic = pd.read_csv(\"titanic.csv\")"
   ]
  },
  {
   "cell_type": "code",
   "execution_count": 199,
   "id": "3cdd30fc-5365-49d4-8c05-5c0061b0eaeb",
   "metadata": {},
   "outputs": [],
   "source": [
    "clasificador = AlgoritmoGenetico(\n",
    "    tamano_poblacion=10,\n",
    "    epocas=10,\n",
    "    max_reglas=5,\n",
    "    porcentaje_elitismo=0.05\n",
    ")"
   ]
  },
  {
   "cell_type": "code",
   "execution_count": 200,
   "id": "5fc95489-20dc-4d5d-975f-3e08895ac18e",
   "metadata": {},
   "outputs": [
    {
     "ename": "TypeError",
     "evalue": "AlgoritmoGenetico._selecciona_progenitores() missing 1 required positional argument: 'fitness_poblacion'",
     "output_type": "error",
     "traceback": [
      "\u001b[0;31m---------------------------------------------------------------------------\u001b[0m",
      "\u001b[0;31mTypeError\u001b[0m                                 Traceback (most recent call last)",
      "Cell \u001b[0;32mIn[200], line 1\u001b[0m\n\u001b[0;32m----> 1\u001b[0m \u001b[43mclasificador\u001b[49m\u001b[38;5;241;43m.\u001b[39;49m\u001b[43mentrenamiento\u001b[49m\u001b[43m(\u001b[49m\u001b[43mdatosTrain\u001b[49m\u001b[38;5;241;43m=\u001b[39;49m\u001b[43mdf_titanic\u001b[49m\u001b[43m,\u001b[49m\u001b[43m \u001b[49m\u001b[43mnominalAtributos\u001b[49m\u001b[38;5;241;43m=\u001b[39;49m\u001b[43m[\u001b[49m\u001b[43m]\u001b[49m\u001b[43m,\u001b[49m\u001b[43m \u001b[49m\u001b[43mdiccionario\u001b[49m\u001b[38;5;241;43m=\u001b[39;49m\u001b[43m{\u001b[49m\u001b[43m}\u001b[49m\u001b[43m)\u001b[49m\n",
      "Cell \u001b[0;32mIn[197], line 137\u001b[0m, in \u001b[0;36mAlgoritmoGenetico.entrenamiento\u001b[0;34m(self, datosTrain, nominalAtributos, diccionario)\u001b[0m\n\u001b[1;32m    134\u001b[0m elite \u001b[38;5;241m=\u001b[39m \u001b[38;5;28mself\u001b[39m\u001b[38;5;241m.\u001b[39m_selecciona_elite(poblacion, fitness_poblacion)\n\u001b[1;32m    136\u001b[0m \u001b[38;5;66;03m# selecciona progenitores\u001b[39;00m\n\u001b[0;32m--> 137\u001b[0m progenitores \u001b[38;5;241m=\u001b[39m \u001b[38;5;28;43mself\u001b[39;49m\u001b[38;5;241;43m.\u001b[39;49m\u001b[43m_selecciona_progenitores\u001b[49m\u001b[43m(\u001b[49m\u001b[43mpoblacion\u001b[49m\u001b[43m)\u001b[49m\n\u001b[1;32m    138\u001b[0m \u001b[38;5;28mprint\u001b[39m(progenitores)\n",
      "\u001b[0;31mTypeError\u001b[0m: AlgoritmoGenetico._selecciona_progenitores() missing 1 required positional argument: 'fitness_poblacion'"
     ]
    }
   ],
   "source": [
    "clasificador.entrenamiento(datosTrain=df_titanic, nominalAtributos=[], diccionario={})"
   ]
  },
  {
   "cell_type": "code",
   "execution_count": 116,
   "id": "3b27c2ab-0e01-44d2-ac2d-4c3d011c6939",
   "metadata": {},
   "outputs": [],
   "source": [
    "cb = CodificadorBinario(df_titanic)"
   ]
  },
  {
   "cell_type": "code",
   "execution_count": 117,
   "id": "70031ce4-18bc-4bf4-9616-e5936eed5f56",
   "metadata": {},
   "outputs": [],
   "source": [
    "a = cb.codifica_datos(df_titanic)"
   ]
  },
  {
   "cell_type": "code",
   "execution_count": 131,
   "id": "e27f66ed-abdc-4d80-bb36-8ec3f333c019",
   "metadata": {},
   "outputs": [],
   "source": [
    "ind = Individuo.crea_con_reglas_aleatorias(max_reglas=10, longitud_reglas=cb.n_bits())"
   ]
  },
  {
   "cell_type": "code",
   "execution_count": 132,
   "id": "ca52d090-cb36-4229-8521-8721a26537e8",
   "metadata": {},
   "outputs": [
    {
     "data": {
      "text/plain": [
       "array([[0, 1, 0, ..., 0, 0, 1],\n",
       "       [0, 1, 0, ..., 0, 0, 1],\n",
       "       [0, 0, 1, ..., 0, 0, 0],\n",
       "       ...,\n",
       "       [0, 0, 1, ..., 0, 0, 1],\n",
       "       [0, 0, 1, ..., 0, 0, 0],\n",
       "       [0, 1, 0, ..., 0, 0, 0]])"
      ]
     },
     "execution_count": 132,
     "metadata": {},
     "output_type": "execute_result"
    }
   ],
   "source": [
    "a"
   ]
  },
  {
   "cell_type": "code",
   "execution_count": 133,
   "id": "a42c9230-7f4f-4b56-a4d3-3e5259fd6fb3",
   "metadata": {},
   "outputs": [
    {
     "data": {
      "text/plain": [
       "0.25908221797323133"
      ]
     },
     "execution_count": 133,
     "metadata": {},
     "output_type": "execute_result"
    }
   ],
   "source": [
    "ind.fitness(a)"
   ]
  },
  {
   "cell_type": "code",
   "execution_count": 135,
   "id": "afd38a8a-c8c8-4186-abcf-baa99005f14d",
   "metadata": {},
   "outputs": [
    {
     "data": {
      "text/plain": [
       "array([0, 1, 0, 0, 1, 0, 0, 0, 0, 0, 0, 0, 0, 0, 1, 0, 0, 0, 0, 0, 0, 1])"
      ]
     },
     "execution_count": 135,
     "metadata": {},
     "output_type": "execute_result"
    }
   ],
   "source": [
    "a[0]"
   ]
  },
  {
   "cell_type": "code",
   "execution_count": 136,
   "id": "7982586f-2937-45a5-8c2d-50ad657c2dc0",
   "metadata": {},
   "outputs": [
    {
     "data": {
      "text/plain": [
       "array([[1, 1, 0, 0, 1, 1, 1, 1, 1, 1, 0, 1, 1, 0, 1, 1, 1, 1, 0, 0, 1, 0],\n",
       "       [0, 0, 0, 1, 0, 0, 0, 1, 0, 1, 1, 0, 1, 1, 0, 1, 0, 0, 1, 1, 1, 0],\n",
       "       [1, 0, 1, 1, 0, 0, 1, 1, 0, 0, 0, 0, 0, 0, 0, 0, 1, 1, 1, 1, 0, 1]])"
      ]
     },
     "execution_count": 136,
     "metadata": {},
     "output_type": "execute_result"
    }
   ],
   "source": [
    "ind.reglas"
   ]
  },
  {
   "cell_type": "code",
   "execution_count": null,
   "id": "16a85d8f-ad9b-40b2-9c36-7ee1caacdbdb",
   "metadata": {},
   "outputs": [],
   "source": []
  }
 ],
 "metadata": {
  "kernelspec": {
   "display_name": "Python 3 (ipykernel)",
   "language": "python",
   "name": "python3"
  },
  "language_info": {
   "codemirror_mode": {
    "name": "ipython",
    "version": 3
   },
   "file_extension": ".py",
   "mimetype": "text/x-python",
   "name": "python",
   "nbconvert_exporter": "python",
   "pygments_lexer": "ipython3",
   "version": "3.11.5"
  }
 },
 "nbformat": 4,
 "nbformat_minor": 5
}
