{
 "cells": [
  {
   "cell_type": "code",
   "execution_count": null,
   "metadata": {},
   "outputs": [],
   "source": [
    "import pandas as pd\n",
    "from sklearn.model_selection import train_test_split\n",
    "from sklearn.naive_bayes import GaussianNB\n",
    "from sklearn import metrics\n",
    "from sklearn.preprocessing import OneHotEncoder\n",
    "import Datos"
   ]
  },
  {
   "cell_type": "code",
   "execution_count": 2,
   "metadata": {},
   "outputs": [
    {
     "ename": "NameError",
     "evalue": "name 'Datos' is not defined",
     "output_type": "error",
     "traceback": [
      "\u001b[1;31m---------------------------------------------------------------------------\u001b[0m",
      "\u001b[1;31mNameError\u001b[0m                                 Traceback (most recent call last)",
      "\u001b[1;32mc:\\Users\\dhuff\\Desktop\\fundamentos-de-aprendizaje-automatico\\clasificadores_david.ipynb Cell 2\u001b[0m line \u001b[0;36m2\n\u001b[0;32m     <a href='vscode-notebook-cell:/c%3A/Users/dhuff/Desktop/fundamentos-de-aprendizaje-automatico/clasificadores_david.ipynb#W2sZmlsZQ%3D%3D?line=21'>22</a>\u001b[0m         accuracy \u001b[39m=\u001b[39m metrics\u001b[39m.\u001b[39maccuracy_score(\u001b[39mself\u001b[39m\u001b[39m.\u001b[39my_test, \u001b[39mself\u001b[39m\u001b[39m.\u001b[39mpred) \u001b[39m*\u001b[39m \u001b[39m100\u001b[39m\n\u001b[0;32m     <a href='vscode-notebook-cell:/c%3A/Users/dhuff/Desktop/fundamentos-de-aprendizaje-automatico/clasificadores_david.ipynb#W2sZmlsZQ%3D%3D?line=22'>23</a>\u001b[0m         \u001b[39mprint\u001b[39m(\u001b[39m\"\u001b[39m\u001b[39mAccuracy \u001b[39m\u001b[39m%\u001b[39m\u001b[39m:\u001b[39m\u001b[39m\"\u001b[39m, accuracy)\n\u001b[1;32m---> <a href='vscode-notebook-cell:/c%3A/Users/dhuff/Desktop/fundamentos-de-aprendizaje-automatico/clasificadores_david.ipynb#W2sZmlsZQ%3D%3D?line=24'>25</a>\u001b[0m classifier \u001b[39m=\u001b[39m ClasificadorNaiveBayes_heart(\u001b[39m\"\u001b[39;49m\u001b[39mheart.csv\u001b[39;49m\u001b[39m\"\u001b[39;49m)\n\u001b[0;32m     <a href='vscode-notebook-cell:/c%3A/Users/dhuff/Desktop/fundamentos-de-aprendizaje-automatico/clasificadores_david.ipynb#W2sZmlsZQ%3D%3D?line=25'>26</a>\u001b[0m classifier\u001b[39m.\u001b[39mcalculate_accuracy()\n",
      "\u001b[1;32mc:\\Users\\dhuff\\Desktop\\fundamentos-de-aprendizaje-automatico\\clasificadores_david.ipynb Cell 2\u001b[0m line \u001b[0;36m4\n\u001b[0;32m      <a href='vscode-notebook-cell:/c%3A/Users/dhuff/Desktop/fundamentos-de-aprendizaje-automatico/clasificadores_david.ipynb#W2sZmlsZQ%3D%3D?line=2'>3</a>\u001b[0m \u001b[39mdef\u001b[39;00m \u001b[39m__init__\u001b[39m(\u001b[39mself\u001b[39m, csv_file):\n\u001b[1;32m----> <a href='vscode-notebook-cell:/c%3A/Users/dhuff/Desktop/fundamentos-de-aprendizaje-automatico/clasificadores_david.ipynb#W2sZmlsZQ%3D%3D?line=3'>4</a>\u001b[0m     \u001b[39mself\u001b[39m\u001b[39m.\u001b[39mdatos \u001b[39m=\u001b[39m Datos(csv_file)\u001b[39m.\u001b[39mdatos\n\u001b[0;32m      <a href='vscode-notebook-cell:/c%3A/Users/dhuff/Desktop/fundamentos-de-aprendizaje-automatico/clasificadores_david.ipynb#W2sZmlsZQ%3D%3D?line=4'>5</a>\u001b[0m     nominals \u001b[39m=\u001b[39m Datos(csv_file)\u001b[39m.\u001b[39mnominalAtributos\n\u001b[0;32m      <a href='vscode-notebook-cell:/c%3A/Users/dhuff/Desktop/fundamentos-de-aprendizaje-automatico/clasificadores_david.ipynb#W2sZmlsZQ%3D%3D?line=5'>6</a>\u001b[0m     encoder \u001b[39m=\u001b[39m OneHotEncoder(sparse\u001b[39m=\u001b[39m\u001b[39mTrue\u001b[39;00m, drop\u001b[39m=\u001b[39m\u001b[39m'\u001b[39m\u001b[39mfirst\u001b[39m\u001b[39m'\u001b[39m)\n",
      "\u001b[1;31mNameError\u001b[0m: name 'Datos' is not defined"
     ]
    }
   ],
   "source": [
    "class ClasificadorNaiveBayes_heart():\n",
    "\n",
    "    def __init__(self, csv_file):\n",
    "        self.datos = Datos(csv_file).datos\n",
    "        nominals = Datos(csv_file).nominalAtributos\n",
    "        encoder = OneHotEncoder(sparse=True, drop='first')\n",
    "        self.datos = encoder.fit_transform(self.datos[nominals])\n",
    "\n",
    "\n",
    "        l_col = len(self.datos.columns) - 1\n",
    "        self.y = self.datos[self.datos.columns[l_col]]\n",
    "        self.X = self.datos.drop(self.datos.columns[l_col], axis=1)\n",
    "\n",
    "        self.X_train, self.X_test, self.y_train, self.y_test = train_test_split(self.X, self.y, test_size=0.2)\n",
    "\n",
    "        self.GNB = GaussianNB()\n",
    "        self.GNB.fit(self.X_train, self.y_train)\n",
    "\n",
    "        self.pred = self.GNB.predict(self.X_test)\n",
    "\n",
    "    def calculate_accuracy(self):\n",
    "        accuracy = metrics.accuracy_score(self.y_test, self.pred) * 100\n",
    "        print(\"Accuracy %:\", accuracy)\n",
    "    \n",
    "classifier = ClasificadorNaiveBayes_heart(\"heart.csv\")\n",
    "classifier.calculate_accuracy()"
   ]
  }
 ],
 "metadata": {
  "kernelspec": {
   "display_name": "Python 3",
   "language": "python",
   "name": "python3"
  },
  "language_info": {
   "codemirror_mode": {
    "name": "ipython",
    "version": 3
   },
   "file_extension": ".py",
   "mimetype": "text/x-python",
   "name": "python",
   "nbconvert_exporter": "python",
   "pygments_lexer": "ipython3",
   "version": "3.11.6"
  }
 },
 "nbformat": 4,
 "nbformat_minor": 2
}
