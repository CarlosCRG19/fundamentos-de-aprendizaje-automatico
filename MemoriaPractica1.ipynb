{
 "cells": [
  {
   "cell_type": "markdown",
   "id": "201bea4a-aee0-407f-95d7-296bdc03ee4e",
   "metadata": {},
   "source": [
    "# Práctica 1 - Naive Bayes\n",
    "\n",
    "_Pareja 6_\n",
    "* David Kaack Sánchez\n",
    "* Carlos César Rodríguez García"
   ]
  },
  {
   "cell_type": "markdown",
   "id": "192fa2a1-660a-4ba3-b557-92d6acc21deb",
   "metadata": {},
   "source": [
    "## Setup"
   ]
  },
  {
   "cell_type": "markdown",
   "id": "1fddcf10-46f0-42c4-bcd3-b755d1aa3adb",
   "metadata": {},
   "source": [
    "### Importaciones"
   ]
  },
  {
   "cell_type": "code",
   "execution_count": 31,
   "id": "655cae4f-6656-4de8-82f2-74f24772de1f",
   "metadata": {},
   "outputs": [],
   "source": [
    "from Clasificador import Clasificador, ClasificadorNaiveBayes\n",
    "from Datos import Datos\n",
    "from EstrategiaParticionado import ValidacionCruzada, ValidacionSimple\n",
    "\n",
    "import pandas as pd"
   ]
  },
  {
   "cell_type": "markdown",
   "id": "7c0b2648-59af-46d4-adca-eeb2e2de151b",
   "metadata": {},
   "source": [
    "### Estrategias de particionado"
   ]
  },
  {
   "cell_type": "code",
   "execution_count": 6,
   "id": "7d628f66-39c7-4a86-b2d4-07dc07059818",
   "metadata": {},
   "outputs": [],
   "source": [
    "validacion_cruzada = ValidacionCruzada(numeroParticiones=5)\n",
    "validacion_simple = ValidacionSimple(numeroEjecuciones=5, proporcionTest=30)"
   ]
  },
  {
   "cell_type": "markdown",
   "id": "50e96ebc-5eaa-4278-b685-e4e035d399db",
   "metadata": {},
   "source": [
    "### Clasificador generico"
   ]
  },
  {
   "cell_type": "code",
   "execution_count": 7,
   "id": "93f6eab8-36e2-42b9-be2b-b9cd3cf3ed49",
   "metadata": {},
   "outputs": [],
   "source": [
    "clasificador = Clasificador()"
   ]
  },
  {
   "cell_type": "markdown",
   "id": "59fff2ac-0a5e-49bd-8ba4-ac9367afbe60",
   "metadata": {},
   "source": [
    "### Utilerías"
   ]
  },
  {
   "cell_type": "code",
   "execution_count": 15,
   "id": "df35a48b-34c2-45f0-b152-6bdb4cb29a19",
   "metadata": {},
   "outputs": [],
   "source": [
    "def print_resultados(titulo, resultados):\n",
    "    print(titulo)\n",
    "    print(\"Error promedio: \", resultados[0])\n",
    "    print(\"Desviación estándar: \", resultados[1])\n",
    "\n",
    "def corre_validacion(data, classifier, with_laplace=False):\n",
    "    validation = clasificador.validacion(\n",
    "        validacion_cruzada if with_laplace else validacion_simple,\n",
    "        data,\n",
    "        ClasificadorNaiveBayes(con_laplace=with_laplace)\n",
    "    )\n",
    "    return validation"
   ]
  },
  {
   "cell_type": "markdown",
   "id": "cb7f90f4-65c5-407d-90c5-676b91a78339",
   "metadata": {},
   "source": [
    "## Naive Bayes Propio"
   ]
  },
  {
   "cell_type": "markdown",
   "id": "9afdeae0-3de6-48b1-8dfd-f1d15d4fd8ae",
   "metadata": {},
   "source": [
    "### Entrenamiento y clasificación para dataset __heart__"
   ]
  },
  {
   "cell_type": "code",
   "execution_count": 3,
   "id": "45b130b2-2e7e-4b2e-ae7f-082880c544e6",
   "metadata": {},
   "outputs": [],
   "source": [
    "datos_heart = Datos(\"heart.csv\")"
   ]
  },
  {
   "cell_type": "code",
   "execution_count": 18,
   "id": "bcd68ba2-f48c-4d5c-9713-0ecae603179e",
   "metadata": {},
   "outputs": [
    {
     "name": "stdout",
     "output_type": "stream",
     "text": [
      "Validación cruzada sin corrección de Laplace\n",
      "Error promedio:  0.14610952720361134\n",
      "Desviación estándar:  0.05351009204304014\n"
     ]
    }
   ],
   "source": [
    "heart_validacion_cruzada = clasificador.validacion(\n",
    "    validacion_cruzada, datos_heart, ClasificadorNaiveBayes(con_laplace=False)\n",
    ")\n",
    "\n",
    "print_resultados(\"Validación cruzada sin corrección de Laplace\", heart_validacion_cruzada)"
   ]
  },
  {
   "cell_type": "code",
   "execution_count": 19,
   "id": "950c558a-a112-49a3-8f3e-1c6e0f8069aa",
   "metadata": {},
   "outputs": [
    {
     "name": "stdout",
     "output_type": "stream",
     "text": [
      "Validación cruzada con corrección de Laplace\n",
      "Error promedio:  0.1461095272036113\n",
      "Desviación estándar:  0.05351009204304014\n"
     ]
    }
   ],
   "source": [
    "heart_validacion_cruzada_laplace = clasificador.validacion(\n",
    "    validacion_cruzada, datos_heart, ClasificadorNaiveBayes(con_laplace=True)\n",
    ")\n",
    "\n",
    "print_resultados(\"Validación cruzada con corrección de Laplace\", heart_validacion_cruzada_laplace)"
   ]
  },
  {
   "cell_type": "code",
   "execution_count": 20,
   "id": "dff9f05e-e2c3-412f-9c4f-d6c6920ef0e1",
   "metadata": {},
   "outputs": [
    {
     "name": "stdout",
     "output_type": "stream",
     "text": [
      "Validación simple sin corrección de Laplace\n",
      "Error promedio:  0.14036363636363638\n",
      "Desviación estándar:  0.019048437605394635\n"
     ]
    }
   ],
   "source": [
    "heart_validacion_simple = clasificador.validacion(\n",
    "    validacion_simple, datos_heart, ClasificadorNaiveBayes(con_laplace=False)\n",
    ")\n",
    "\n",
    "print_resultados(\"Validación simple sin corrección de Laplace\", heart_validacion_simple)"
   ]
  },
  {
   "cell_type": "code",
   "execution_count": 21,
   "id": "990ca19c-8941-4d94-92cb-a81bfb21125a",
   "metadata": {
    "scrolled": true
   },
   "outputs": [
    {
     "name": "stdout",
     "output_type": "stream",
     "text": [
      "Validación simple con corrección de Laplace\n",
      "Error promedio:  0.1410909090909091\n",
      "Desviación estándar:  0.01970358863148231\n"
     ]
    }
   ],
   "source": [
    "heart_validacion_simple_laplace = clasificador.validacion(\n",
    "    validacion_simple, datos_heart, ClasificadorNaiveBayes(con_laplace=True)\n",
    ")\n",
    "\n",
    "print_resultados(\"Validación simple con corrección de Laplace\", heart_validacion_simple_laplace)"
   ]
  },
  {
   "cell_type": "markdown",
   "id": "5a247947-ce2e-48fd-bb70-0d98ea2d6714",
   "metadata": {},
   "source": [
    "### Entrenamiento y clasificación para dataset __tic-tac-toe__"
   ]
  },
  {
   "cell_type": "code",
   "execution_count": 22,
   "id": "6632c4b0-2944-4b85-8b6e-4afc71997872",
   "metadata": {},
   "outputs": [],
   "source": [
    "datos_tic_tac_toe = Datos(\"tic-tac-toe.csv\")"
   ]
  },
  {
   "cell_type": "code",
   "execution_count": 26,
   "id": "be5adfbb-e477-4d46-ac52-b5662d694a44",
   "metadata": {},
   "outputs": [
    {
     "name": "stdout",
     "output_type": "stream",
     "text": [
      "Validación cruzada sin corrección de Laplace\n",
      "Error promedio:  0.1351373142635695\n",
      "Desviación estándar:  0.27091109588936496\n"
     ]
    }
   ],
   "source": [
    "tic_tac_toe_validacion_cruzada = clasificador.validacion(\n",
    "    validacion_cruzada, datos_tic_tac_toe, ClasificadorNaiveBayes(con_laplace=False)\n",
    ")\n",
    "\n",
    "print_resultados(\"Validación cruzada sin corrección de Laplace\", tic_tac_toe_validacion_cruzada)"
   ]
  },
  {
   "cell_type": "code",
   "execution_count": 27,
   "id": "e2d945a8-a419-4917-8dbe-1df9f2f2c196",
   "metadata": {},
   "outputs": [
    {
     "name": "stdout",
     "output_type": "stream",
     "text": [
      "Validación cruzada con corrección de Laplace\n",
      "Error promedio:  0.13626679636464206\n",
      "Desviación estándar:  0.27324067675854175\n"
     ]
    }
   ],
   "source": [
    "tic_tac_toe_validacion_cruzada_laplace = clasificador.validacion(\n",
    "    validacion_cruzada, datos_tic_tac_toe, ClasificadorNaiveBayes(con_laplace=True)\n",
    ")\n",
    "\n",
    "print_resultados(\"Validación cruzada con corrección de Laplace\", tic_tac_toe_validacion_cruzada_laplace)"
   ]
  },
  {
   "cell_type": "code",
   "execution_count": 30,
   "id": "805f8c25-6aeb-4eca-8362-3ca6795bb948",
   "metadata": {},
   "outputs": [
    {
     "name": "stdout",
     "output_type": "stream",
     "text": [
      "Validación simple sin corrección de Laplace\n",
      "Error promedio:  0.2864086157744694\n",
      "Desviación estándar:  0.03549297315297511\n"
     ]
    }
   ],
   "source": [
    "tic_tac_toe_validacion_simple = clasificador.validacion(\n",
    "    validacion_simple, datos_tic_tac_toe, ClasificadorNaiveBayes(con_laplace=False)\n",
    ")\n",
    "\n",
    "print_resultados(\"Validación simple sin corrección de Laplace\", tic_tac_toe_validacion_simple)"
   ]
  },
  {
   "cell_type": "code",
   "execution_count": 29,
   "id": "10d8fbfd-6ee1-4210-b561-a8a6375f9a45",
   "metadata": {},
   "outputs": [
    {
     "name": "stdout",
     "output_type": "stream",
     "text": [
      "Validación simple sin corrección de Laplace\n",
      "Error promedio:  0.2817041495090276\n",
      "Desviación estándar:  0.03606408078454856\n"
     ]
    }
   ],
   "source": [
    "tic_tac_toe_validacion_simple_laplace = clasificador.validacion(\n",
    "    validacion_simple, datos_tic_tac_toe, ClasificadorNaiveBayes(con_laplace=True)\n",
    ")\n",
    "\n",
    "print_resultados(\"Validación simple con corrección de Laplace\", tic_tac_toe_validacion_simple_laplace)"
   ]
  },
  {
   "cell_type": "markdown",
   "id": "22043b04-45e0-467d-b46b-6c1dace0efee",
   "metadata": {},
   "source": [
    "### Analisis de resultados"
   ]
  },
  {
   "cell_type": "code",
   "execution_count": 37,
   "id": "f2f53581-1953-4d23-a274-551d9df8aa78",
   "metadata": {},
   "outputs": [],
   "source": [
    "resultados_naive_bayes_propio = pd.DataFrame(\n",
    "    [\n",
    "        (\n",
    "            \"tic-tac-toe\",\n",
    "            tic_tac_toe_validacion_cruzada[0],\n",
    "            tic_tac_toe_validacion_cruzada[1],\n",
    "            tic_tac_toe_validacion_cruzada_laplace[0],\n",
    "            tic_tac_toe_validacion_cruzada_laplace[1],\n",
    "            tic_tac_toe_validacion_simple[0],\n",
    "            tic_tac_toe_validacion_simple[1],\n",
    "            tic_tac_toe_validacion_simple_laplace[0],\n",
    "            tic_tac_toe_validacion_simple_laplace[1],\n",
    "        )\n",
    "    ],\n",
    "    columns=[\n",
    "        \"Dataset\",\n",
    "        \"Promedio error validacion cruzada\",\n",
    "        \"Desviación estandar error validación cruzada\",\n",
    "        \"Promedio error validacion cruzada con Laplace\",\n",
    "        \"Desviacion estandar error validacion cruzada con laplace\",\n",
    "        \"Promedio error validacion simple\",\n",
    "        \"Desviacion estandar error validacion simple\",\n",
    "        \"Promedio error validacion simple con laplace\",\n",
    "        \"Desviacion estandar error validacion simple con laplace\",\n",
    "    ],\n",
    ")"
   ]
  },
  {
   "cell_type": "code",
   "execution_count": 38,
   "id": "2c39ec20-6a56-4f30-b425-806e57d85cd6",
   "metadata": {},
   "outputs": [
    {
     "data": {
      "text/html": [
       "<div>\n",
       "<style scoped>\n",
       "    .dataframe tbody tr th:only-of-type {\n",
       "        vertical-align: middle;\n",
       "    }\n",
       "\n",
       "    .dataframe tbody tr th {\n",
       "        vertical-align: top;\n",
       "    }\n",
       "\n",
       "    .dataframe thead th {\n",
       "        text-align: right;\n",
       "    }\n",
       "</style>\n",
       "<table border=\"1\" class=\"dataframe\">\n",
       "  <thead>\n",
       "    <tr style=\"text-align: right;\">\n",
       "      <th></th>\n",
       "      <th>Dataset</th>\n",
       "      <th>Promedio error validacion cruzada</th>\n",
       "      <th>Desviación estandar error validación cruzada</th>\n",
       "      <th>Promedio error validacion cruzada con Laplace</th>\n",
       "      <th>Desviacion estandar error validacion cruzada con laplace</th>\n",
       "      <th>Promedio error validacion simple</th>\n",
       "      <th>Desviacion estandar error validacion simple</th>\n",
       "      <th>Promedio error validacion simple con laplace</th>\n",
       "      <th>Desviacion estandar error validacion simple con laplace</th>\n",
       "    </tr>\n",
       "  </thead>\n",
       "  <tbody>\n",
       "    <tr>\n",
       "      <th>0</th>\n",
       "      <td>tic-tac-toe</td>\n",
       "      <td>0.135137</td>\n",
       "      <td>0.270911</td>\n",
       "      <td>0.136267</td>\n",
       "      <td>0.273241</td>\n",
       "      <td>0.286409</td>\n",
       "      <td>0.035493</td>\n",
       "      <td>0.281704</td>\n",
       "      <td>0.036064</td>\n",
       "    </tr>\n",
       "  </tbody>\n",
       "</table>\n",
       "</div>"
      ],
      "text/plain": [
       "       Dataset  ...  Desviacion estandar error validacion simple con laplace\n",
       "0  tic-tac-toe  ...                                           0.036064      \n",
       "\n",
       "[1 rows x 9 columns]"
      ]
     },
     "execution_count": 38,
     "metadata": {},
     "output_type": "execute_result"
    }
   ],
   "source": [
    "resultados_naive_bayes_propio"
   ]
  },
  {
   "cell_type": "code",
   "execution_count": null,
   "id": "e99ebab2-917b-4103-a0cb-d1d182d932d2",
   "metadata": {},
   "outputs": [],
   "source": []
  }
 ],
 "metadata": {
  "kernelspec": {
   "display_name": "Python 3 (ipykernel)",
   "language": "python",
   "name": "python3"
  },
  "language_info": {
   "codemirror_mode": {
    "name": "ipython",
    "version": 3
   },
   "file_extension": ".py",
   "mimetype": "text/x-python",
   "name": "python",
   "nbconvert_exporter": "python",
   "pygments_lexer": "ipython3",
   "version": "3.11.5"
  }
 },
 "nbformat": 4,
 "nbformat_minor": 5
}
