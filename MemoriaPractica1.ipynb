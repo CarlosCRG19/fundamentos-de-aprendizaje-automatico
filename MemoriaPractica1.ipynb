{
 "cells": [
  {
   "cell_type": "markdown",
   "id": "201bea4a-aee0-407f-95d7-296bdc03ee4e",
   "metadata": {},
   "source": [
    "# Práctica 1 - Naive Bayes\n",
    "\n",
    "_Pareja 6_\n",
    "* David Kaack Sánchez\n",
    "* Carlos César Rodríguez García"
   ]
  },
  {
   "cell_type": "markdown",
   "id": "192fa2a1-660a-4ba3-b557-92d6acc21deb",
   "metadata": {},
   "source": [
    "## Setup"
   ]
  },
  {
   "cell_type": "markdown",
   "id": "1fddcf10-46f0-42c4-bcd3-b755d1aa3adb",
   "metadata": {},
   "source": [
    "### Importaciones"
   ]
  },
  {
   "cell_type": "code",
   "execution_count": 58,
   "id": "655cae4f-6656-4de8-82f2-74f24772de1f",
   "metadata": {},
   "outputs": [],
   "source": [
    "from Clasificador import Clasificador, ClasificadorNaiveBayes, ClasificadorNaiveBayesScikit\n",
    "from Datos import Datos\n",
    "from EstrategiaParticionado import ValidacionCruzada, ValidacionSimple\n",
    "\n",
    "import pandas as pd\n",
    "from sklearn.naive_bayes import CategoricalNB, GaussianNB, MultinomialNB"
   ]
  },
  {
   "cell_type": "markdown",
   "id": "7c0b2648-59af-46d4-adca-eeb2e2de151b",
   "metadata": {},
   "source": [
    "### Estrategia de particionado"
   ]
  },
  {
   "cell_type": "code",
   "execution_count": 59,
   "id": "7d628f66-39c7-4a86-b2d4-07dc07059818",
   "metadata": {},
   "outputs": [],
   "source": [
    "validacion_cruzada = ValidacionCruzada(numeroParticiones=5)\n",
    "validacion_simple = ValidacionSimple(numeroEjecuciones=5, proporcionTest=30)"
   ]
  },
  {
   "cell_type": "markdown",
   "id": "50e96ebc-5eaa-4278-b685-e4e035d399db",
   "metadata": {},
   "source": [
    "### Clasificador generico"
   ]
  },
  {
   "cell_type": "code",
   "execution_count": 60,
   "id": "93f6eab8-36e2-42b9-be2b-b9cd3cf3ed49",
   "metadata": {},
   "outputs": [],
   "source": [
    "clasificador = Clasificador()"
   ]
  },
  {
   "cell_type": "markdown",
   "id": "59fff2ac-0a5e-49bd-8ba4-ac9367afbe60",
   "metadata": {},
   "source": [
    "### Utilerías"
   ]
  },
  {
   "cell_type": "code",
   "execution_count": 61,
   "id": "df35a48b-34c2-45f0-b152-6bdb4cb29a19",
   "metadata": {},
   "outputs": [],
   "source": [
    "def validacion_naive_bayes_propio(datos, estrategia_particionado, con_laplace):\n",
    "    return clasificador.validacion(estrategia_particionado, datos, ClasificadorNaiveBayes(con_laplace=con_laplace))\n",
    "\n",
    "def validacion_naive_bayes(dataset):\n",
    "    datos = Datos(f\"{dataset}.csv\")\n",
    "    \n",
    "    resultados_vc = validacion_naive_bayes_propio(datos, validacion_cruzada, con_laplace=False)\n",
    "    resultados_vc_cl = validacion_naive_bayes_propio(datos, validacion_cruzada, con_laplace=True)\n",
    "    \n",
    "    resultados_vs = validacion_naive_bayes_propio(datos, validacion_simple, con_laplace=False)\n",
    "    resultados_vs_cl = validacion_naive_bayes_propio(datos, validacion_simple, con_laplace=True)\n",
    "\n",
    "    columnas = [\n",
    "        \"Conjunto de datos\",\n",
    "        \"Estrategia Particionado\",\n",
    "        \"Error Promedio sin CL\",\n",
    "        \"Desviación estándar sin CL\",\n",
    "        \"Error Promedio con CL\",\n",
    "        \"Desviación estándar con CL\",\n",
    "    ]\n",
    "\n",
    "    filas = [\n",
    "        (\n",
    "            dataset,\n",
    "            \"Validación Cruzada\",\n",
    "            resultados_vc[0],\n",
    "            resultados_vc[1],\n",
    "            resultados_vc_cl[0],\n",
    "            resultados_vc_cl[1],\n",
    "        ),\n",
    "        (\n",
    "            dataset,\n",
    "            \"Validación Simple\",\n",
    "            resultados_vs[0],\n",
    "            resultados_vs[1],\n",
    "            resultados_vs_cl[0],\n",
    "            resultados_vs_cl[1],\n",
    "        )\n",
    "    ]\n",
    "\n",
    "    return pd.DataFrame(filas, columns=columnas)"
   ]
  },
  {
   "cell_type": "markdown",
   "id": "cb7f90f4-65c5-407d-90c5-676b91a78339",
   "metadata": {},
   "source": [
    "## Apartado 1 - Naive Bayes Propio"
   ]
  },
  {
   "cell_type": "markdown",
   "id": "9afdeae0-3de6-48b1-8dfd-f1d15d4fd8ae",
   "metadata": {},
   "source": [
    "### Entrenamiento y clasificación para dataset __heart__"
   ]
  },
  {
   "cell_type": "code",
   "execution_count": 62,
   "id": "45b130b2-2e7e-4b2e-ae7f-082880c544e6",
   "metadata": {},
   "outputs": [],
   "source": [
    "resultados_heart = validacion_naive_bayes(\"heart\")"
   ]
  },
  {
   "cell_type": "markdown",
   "id": "5a247947-ce2e-48fd-bb70-0d98ea2d6714",
   "metadata": {},
   "source": [
    "### Entrenamiento y clasificación para dataset __tic-tac-toe__"
   ]
  },
  {
   "cell_type": "code",
   "execution_count": 63,
   "id": "6632c4b0-2944-4b85-8b6e-4afc71997872",
   "metadata": {},
   "outputs": [],
   "source": [
    "resultados_tic_tac_toe = validacion_naive_bayes(\"tic-tac-toe\")"
   ]
  },
  {
   "cell_type": "markdown",
   "id": "22043b04-45e0-467d-b46b-6c1dace0efee",
   "metadata": {},
   "source": [
    "### Analisis de resultados"
   ]
  },
  {
   "cell_type": "code",
   "execution_count": 64,
   "id": "f2f53581-1953-4d23-a274-551d9df8aa78",
   "metadata": {},
   "outputs": [
    {
     "data": {
      "text/html": [
       "<div>\n",
       "<style scoped>\n",
       "    .dataframe tbody tr th:only-of-type {\n",
       "        vertical-align: middle;\n",
       "    }\n",
       "\n",
       "    .dataframe tbody tr th {\n",
       "        vertical-align: top;\n",
       "    }\n",
       "\n",
       "    .dataframe thead th {\n",
       "        text-align: right;\n",
       "    }\n",
       "</style>\n",
       "<table border=\"1\" class=\"dataframe\">\n",
       "  <thead>\n",
       "    <tr style=\"text-align: right;\">\n",
       "      <th></th>\n",
       "      <th>Conjunto de datos</th>\n",
       "      <th>Estrategia Particionado</th>\n",
       "      <th>Error Promedio sin CL</th>\n",
       "      <th>Desviación estándar sin CL</th>\n",
       "      <th>Error Promedio con CL</th>\n",
       "      <th>Desviación estándar con CL</th>\n",
       "    </tr>\n",
       "  </thead>\n",
       "  <tbody>\n",
       "    <tr>\n",
       "      <th>0</th>\n",
       "      <td>heart</td>\n",
       "      <td>Validación Cruzada</td>\n",
       "      <td>0.146110</td>\n",
       "      <td>0.053510</td>\n",
       "      <td>0.146110</td>\n",
       "      <td>0.053510</td>\n",
       "    </tr>\n",
       "    <tr>\n",
       "      <th>1</th>\n",
       "      <td>heart</td>\n",
       "      <td>Validación Simple</td>\n",
       "      <td>0.140364</td>\n",
       "      <td>0.019048</td>\n",
       "      <td>0.141091</td>\n",
       "      <td>0.019704</td>\n",
       "    </tr>\n",
       "    <tr>\n",
       "      <th>0</th>\n",
       "      <td>tic-tac-toe</td>\n",
       "      <td>Validación Cruzada</td>\n",
       "      <td>0.136267</td>\n",
       "      <td>0.273241</td>\n",
       "      <td>0.139373</td>\n",
       "      <td>0.279523</td>\n",
       "    </tr>\n",
       "    <tr>\n",
       "      <th>1</th>\n",
       "      <td>tic-tac-toe</td>\n",
       "      <td>Validación Simple</td>\n",
       "      <td>0.273863</td>\n",
       "      <td>0.035642</td>\n",
       "      <td>0.281704</td>\n",
       "      <td>0.036064</td>\n",
       "    </tr>\n",
       "  </tbody>\n",
       "</table>\n",
       "</div>"
      ],
      "text/plain": [
       "  Conjunto de datos Estrategia Particionado  Error Promedio sin CL   \n",
       "0             heart      Validación Cruzada               0.146110  \\\n",
       "1             heart       Validación Simple               0.140364   \n",
       "0       tic-tac-toe      Validación Cruzada               0.136267   \n",
       "1       tic-tac-toe       Validación Simple               0.273863   \n",
       "\n",
       "   Desviación estándar sin CL  Error Promedio con CL   \n",
       "0                    0.053510               0.146110  \\\n",
       "1                    0.019048               0.141091   \n",
       "0                    0.273241               0.139373   \n",
       "1                    0.035642               0.281704   \n",
       "\n",
       "   Desviación estándar con CL  \n",
       "0                    0.053510  \n",
       "1                    0.019704  \n",
       "0                    0.279523  \n",
       "1                    0.036064  "
      ]
     },
     "execution_count": 64,
     "metadata": {},
     "output_type": "execute_result"
    }
   ],
   "source": [
    "resultados_naive_bayes_propio = pd.concat([resultados_heart, resultados_tic_tac_toe])\n",
    "resultados_naive_bayes_propio"
   ]
  },
  {
   "cell_type": "markdown",
   "id": "51e75724-3776-40b5-81ab-679f88f48689",
   "metadata": {},
   "source": [
    "El error promedio en todos los casos es menor al 30%, lo cual consideramos un rendimiento regular. Lo interesante de estos datos es la reducción de la desviación estándar cuando se usa validación simple como estrategia de particionado. En conjuntos de datos pequeños, la validación cruzada puede tener una desviación estándar más alta debido a la limitada cantidad de datos para realizar las divisiones. La validación simple puede ser más estable en tales casos."
   ]
  },
  {
   "cell_type": "markdown",
   "id": "b8368246-336f-4384-9d60-140b226bc273",
   "metadata": {},
   "source": [
    "#### Efectos de Corrección de Laplace"
   ]
  },
  {
   "cell_type": "markdown",
   "id": "7769fb94-8c54-46a1-8bd8-22ae1c073f11",
   "metadata": {},
   "source": [
    "Podemos ver que no hay mucho impacto de la corrección de Laplace en estos escenarios. Incluso, en la mayoría de escenarios, resulta en un error más grande. Esto puede ocurrir por la ausencia o cantidad reducida de atributos nominales donde se aplique esta corrección."
   ]
  },
  {
   "cell_type": "markdown",
   "id": "2626d595-485d-47bf-a32f-7c53125245c7",
   "metadata": {},
   "source": [
    "## Apartado 2 - Naive Bayes Scikit-learn"
   ]
  },
  {
   "cell_type": "code",
   "execution_count": null,
   "id": "29b7d9ce-c84c-4ba1-94be-06aca615e8cd",
   "metadata": {},
   "outputs": [],
   "source": []
  }
 ],
 "metadata": {
  "kernelspec": {
   "display_name": "Python 3 (ipykernel)",
   "language": "python",
   "name": "python3"
  },
  "language_info": {
   "codemirror_mode": {
    "name": "ipython",
    "version": 3
   },
   "file_extension": ".py",
   "mimetype": "text/x-python",
   "name": "python",
   "nbconvert_exporter": "python",
   "pygments_lexer": "ipython3",
   "version": "3.11.5"
  }
 },
 "nbformat": 4,
 "nbformat_minor": 5
}
