{
 "cells": [
  {
   "cell_type": "markdown",
   "id": "201bea4a-aee0-407f-95d7-296bdc03ee4e",
   "metadata": {},
   "source": [
    "# Práctica 1 - Naive Bayes\n",
    "\n",
    "_Pareja 6_\n",
    "* David Kaack Sánchez\n",
    "* Carlos César Rodríguez García"
   ]
  },
  {
   "cell_type": "markdown",
   "id": "192fa2a1-660a-4ba3-b557-92d6acc21deb",
   "metadata": {},
   "source": [
    "## Setup"
   ]
  },
  {
   "cell_type": "markdown",
   "id": "1fddcf10-46f0-42c4-bcd3-b755d1aa3adb",
   "metadata": {},
   "source": [
    "### Importaciones"
   ]
  },
  {
   "cell_type": "code",
   "execution_count": 8,
   "id": "655cae4f-6656-4de8-82f2-74f24772de1f",
   "metadata": {},
   "outputs": [],
   "source": [
    "from Clasificador import Clasificador, ClasificadorNaiveBayes, ClasificadorNaiveBayesScikit\n",
    "from Datos import Datos\n",
    "from EstrategiaParticionado import ValidacionCruzada, ValidacionSimple\n",
    "from sklearn.naive_bayes import GaussianNB, MultinomialNB, CategoricalNB\n",
    "\n",
    "import pandas as pd"
   ]
  },
  {
   "cell_type": "markdown",
   "id": "7c0b2648-59af-46d4-adca-eeb2e2de151b",
   "metadata": {},
   "source": [
    "### Estrategias de particionado"
   ]
  },
  {
   "cell_type": "code",
   "execution_count": 9,
   "id": "7d628f66-39c7-4a86-b2d4-07dc07059818",
   "metadata": {},
   "outputs": [],
   "source": [
    "validacion_cruzada = ValidacionCruzada(numeroParticiones=5)\n",
    "validacion_simple = ValidacionSimple(numeroEjecuciones=5, proporcionTest=30)"
   ]
  },
  {
   "cell_type": "markdown",
   "id": "50e96ebc-5eaa-4278-b685-e4e035d399db",
   "metadata": {},
   "source": [
    "### Clasificador generico"
   ]
  },
  {
   "cell_type": "code",
   "execution_count": 10,
   "id": "93f6eab8-36e2-42b9-be2b-b9cd3cf3ed49",
   "metadata": {},
   "outputs": [],
   "source": [
    "clasificador = Clasificador()"
   ]
  },
  {
   "cell_type": "markdown",
   "id": "59fff2ac-0a5e-49bd-8ba4-ac9367afbe60",
   "metadata": {},
   "source": [
    "### Utilerías"
   ]
  },
  {
   "cell_type": "code",
   "execution_count": 11,
   "id": "df35a48b-34c2-45f0-b152-6bdb4cb29a19",
   "metadata": {},
   "outputs": [],
   "source": [
    "def print_resultados(titulo, resultados):\n",
    "    print(titulo)\n",
    "    print(\"Error promedio: \", resultados[0])\n",
    "    print(\"Desviación estándar: \", resultados[1])\n",
    "\n",
    "def corre_validacion(data, classifier, with_laplace=False):\n",
    "    validation = clasificador.validacion(\n",
    "        validacion_cruzada if with_laplace else validacion_simple,\n",
    "        data,\n",
    "        ClasificadorNaiveBayes(con_laplace=with_laplace)\n",
    "    )\n",
    "    return validation"
   ]
  },
  {
   "cell_type": "markdown",
   "id": "cb7f90f4-65c5-407d-90c5-676b91a78339",
   "metadata": {},
   "source": [
    "## Naive Bayes Propio"
   ]
  },
  {
   "cell_type": "markdown",
   "id": "9afdeae0-3de6-48b1-8dfd-f1d15d4fd8ae",
   "metadata": {},
   "source": [
    "### Entrenamiento y clasificación para dataset __heart__"
   ]
  },
  {
   "cell_type": "code",
   "execution_count": 12,
   "id": "45b130b2-2e7e-4b2e-ae7f-082880c544e6",
   "metadata": {},
   "outputs": [],
   "source": [
    "datos_heart = Datos(\"heart.csv\")"
   ]
  },
  {
   "cell_type": "code",
   "execution_count": 13,
   "id": "bcd68ba2-f48c-4d5c-9713-0ecae603179e",
   "metadata": {},
   "outputs": [
    {
     "name": "stdout",
     "output_type": "stream",
     "text": [
      "Validación cruzada sin corrección de Laplace\n",
      "Error promedio:  0.1461095272036113\n",
      "Desviación estándar:  0.05351009204304014\n"
     ]
    }
   ],
   "source": [
    "heart_validacion_cruzada = clasificador.validacion(\n",
    "    validacion_cruzada, datos_heart, ClasificadorNaiveBayes(con_laplace=False)\n",
    ")\n",
    "\n",
    "print_resultados(\"Validación cruzada sin corrección de Laplace\", heart_validacion_cruzada)"
   ]
  },
  {
   "cell_type": "code",
   "execution_count": 14,
   "id": "950c558a-a112-49a3-8f3e-1c6e0f8069aa",
   "metadata": {},
   "outputs": [
    {
     "name": "stdout",
     "output_type": "stream",
     "text": [
      "Validación cruzada con corrección de Laplace\n",
      "Error promedio:  0.1461095272036113\n",
      "Desviación estándar:  0.053510092043040136\n"
     ]
    }
   ],
   "source": [
    "heart_validacion_cruzada_laplace = clasificador.validacion(\n",
    "    validacion_cruzada, datos_heart, ClasificadorNaiveBayes(con_laplace=True)\n",
    ")\n",
    "\n",
    "print_resultados(\"Validación cruzada con corrección de Laplace\", heart_validacion_cruzada_laplace)"
   ]
  },
  {
   "cell_type": "code",
   "execution_count": 15,
   "id": "dff9f05e-e2c3-412f-9c4f-d6c6920ef0e1",
   "metadata": {},
   "outputs": [
    {
     "name": "stdout",
     "output_type": "stream",
     "text": [
      "Validación simple sin corrección de Laplace\n",
      "Error promedio:  0.14036363636363638\n",
      "Desviación estándar:  0.019048437605394635\n"
     ]
    }
   ],
   "source": [
    "heart_validacion_simple = clasificador.validacion(\n",
    "    validacion_simple, datos_heart, ClasificadorNaiveBayes(con_laplace=False)\n",
    ")\n",
    "\n",
    "print_resultados(\"Validación simple sin corrección de Laplace\", heart_validacion_simple)"
   ]
  },
  {
   "cell_type": "code",
   "execution_count": 16,
   "id": "990ca19c-8941-4d94-92cb-a81bfb21125a",
   "metadata": {
    "scrolled": true
   },
   "outputs": [
    {
     "name": "stdout",
     "output_type": "stream",
     "text": [
      "Validación simple con corrección de Laplace\n",
      "Error promedio:  0.1410909090909091\n",
      "Desviación estándar:  0.01970358863148231\n"
     ]
    }
   ],
   "source": [
    "heart_validacion_simple_laplace = clasificador.validacion(\n",
    "    validacion_simple, datos_heart, ClasificadorNaiveBayes(con_laplace=True)\n",
    ")\n",
    "\n",
    "print_resultados(\"Validación simple con corrección de Laplace\", heart_validacion_simple_laplace)"
   ]
  },
  {
   "cell_type": "markdown",
   "id": "5a247947-ce2e-48fd-bb70-0d98ea2d6714",
   "metadata": {},
   "source": [
    "### Entrenamiento y clasificación para dataset __tic-tac-toe__"
   ]
  },
  {
   "cell_type": "code",
   "execution_count": 17,
   "id": "6632c4b0-2944-4b85-8b6e-4afc71997872",
   "metadata": {},
   "outputs": [],
   "source": [
    "datos_tic_tac_toe = Datos(\"tic-tac-toe.csv\")"
   ]
  },
  {
   "cell_type": "code",
   "execution_count": 18,
   "id": "be5adfbb-e477-4d46-ac52-b5662d694a44",
   "metadata": {},
   "outputs": [
    {
     "name": "stdout",
     "output_type": "stream",
     "text": [
      "Validación cruzada sin corrección de Laplace\n",
      "Error promedio:  0.13626679636464206\n",
      "Desviación estándar:  0.2732406767585417\n"
     ]
    }
   ],
   "source": [
    "tic_tac_toe_validacion_cruzada = clasificador.validacion(\n",
    "    validacion_cruzada, datos_tic_tac_toe, ClasificadorNaiveBayes(con_laplace=False)\n",
    ")\n",
    "\n",
    "print_resultados(\"Validación cruzada sin corrección de Laplace\", tic_tac_toe_validacion_cruzada)"
   ]
  },
  {
   "cell_type": "code",
   "execution_count": 19,
   "id": "e2d945a8-a419-4917-8dbe-1df9f2f2c196",
   "metadata": {},
   "outputs": [
    {
     "name": "stdout",
     "output_type": "stream",
     "text": [
      "Validación cruzada con corrección de Laplace\n",
      "Error promedio:  0.13937287214259148\n",
      "Desviación estándar:  0.27952341003988734\n"
     ]
    }
   ],
   "source": [
    "tic_tac_toe_validacion_cruzada_laplace = clasificador.validacion(\n",
    "    validacion_cruzada, datos_tic_tac_toe, ClasificadorNaiveBayes(con_laplace=True)\n",
    ")\n",
    "\n",
    "print_resultados(\"Validación cruzada con corrección de Laplace\", tic_tac_toe_validacion_cruzada_laplace)"
   ]
  },
  {
   "cell_type": "code",
   "execution_count": 20,
   "id": "805f8c25-6aeb-4eca-8362-3ca6795bb948",
   "metadata": {},
   "outputs": [
    {
     "name": "stdout",
     "output_type": "stream",
     "text": [
      "Validación simple sin corrección de Laplace\n",
      "Error promedio:  0.2738633723999577\n",
      "Desviación estándar:  0.035642176772520295\n"
     ]
    }
   ],
   "source": [
    "tic_tac_toe_validacion_simple = clasificador.validacion(\n",
    "    validacion_simple, datos_tic_tac_toe, ClasificadorNaiveBayes(con_laplace=False)\n",
    ")\n",
    "\n",
    "print_resultados(\"Validación simple sin corrección de Laplace\", tic_tac_toe_validacion_simple)"
   ]
  },
  {
   "cell_type": "code",
   "execution_count": 40,
   "id": "10d8fbfd-6ee1-4210-b561-a8a6375f9a45",
   "metadata": {},
   "outputs": [
    {
     "name": "stdout",
     "output_type": "stream",
     "text": [
      "Validación simple con corrección de Laplace\n",
      "Error promedio:  0.2934653151726322\n",
      "Desviación estándar:  0.03339844252630369\n"
     ]
    }
   ],
   "source": [
    "tic_tac_toe_validacion_simple_laplace = clasificador.validacion(\n",
    "    validacion_simple, datos_tic_tac_toe, ClasificadorNaiveBayes(con_laplace=True)\n",
    ")\n",
    "\n",
    "print_resultados(\"Validación simple con corrección de Laplace\", tic_tac_toe_validacion_simple_laplace)"
   ]
  },
  {
   "cell_type": "markdown",
   "id": "22043b04-45e0-467d-b46b-6c1dace0efee",
   "metadata": {},
   "source": [
    "### Analisis de resultados"
   ]
  },
  {
   "cell_type": "code",
   "execution_count": 22,
   "id": "f2f53581-1953-4d23-a274-551d9df8aa78",
   "metadata": {},
   "outputs": [],
   "source": [
    "resultados_naive_bayes_propio = pd.DataFrame(\n",
    "    [\n",
    "        (\n",
    "            \"tic-tac-toe\",\n",
    "            tic_tac_toe_validacion_cruzada[0],\n",
    "            tic_tac_toe_validacion_cruzada[1],\n",
    "            tic_tac_toe_validacion_cruzada_laplace[0],\n",
    "            tic_tac_toe_validacion_cruzada_laplace[1],\n",
    "            tic_tac_toe_validacion_simple[0],\n",
    "            tic_tac_toe_validacion_simple[1],\n",
    "            tic_tac_toe_validacion_simple_laplace[0],\n",
    "            tic_tac_toe_validacion_simple_laplace[1],\n",
    "        )\n",
    "    ],\n",
    "    columns=[\n",
    "        \"Dataset\",\n",
    "        \"Promedio error validacion cruzada\",\n",
    "        \"Desviación estandar error validación cruzada\",\n",
    "        \"Promedio error validacion cruzada con Laplace\",\n",
    "        \"Desviacion estandar error validacion cruzada con laplace\",\n",
    "        \"Promedio error validacion simple\",\n",
    "        \"Desviacion estandar error validacion simple\",\n",
    "        \"Promedio error validacion simple con laplace\",\n",
    "        \"Desviacion estandar error validacion simple con laplace\",\n",
    "    ],\n",
    ")"
   ]
  },
  {
   "cell_type": "code",
   "execution_count": 23,
   "id": "2c39ec20-6a56-4f30-b425-806e57d85cd6",
   "metadata": {},
   "outputs": [
    {
     "data": {
      "text/html": [
       "<div>\n",
       "<style scoped>\n",
       "    .dataframe tbody tr th:only-of-type {\n",
       "        vertical-align: middle;\n",
       "    }\n",
       "\n",
       "    .dataframe tbody tr th {\n",
       "        vertical-align: top;\n",
       "    }\n",
       "\n",
       "    .dataframe thead th {\n",
       "        text-align: right;\n",
       "    }\n",
       "</style>\n",
       "<table border=\"1\" class=\"dataframe\">\n",
       "  <thead>\n",
       "    <tr style=\"text-align: right;\">\n",
       "      <th></th>\n",
       "      <th>Dataset</th>\n",
       "      <th>Promedio error validacion cruzada</th>\n",
       "      <th>Desviación estandar error validación cruzada</th>\n",
       "      <th>Promedio error validacion cruzada con Laplace</th>\n",
       "      <th>Desviacion estandar error validacion cruzada con laplace</th>\n",
       "      <th>Promedio error validacion simple</th>\n",
       "      <th>Desviacion estandar error validacion simple</th>\n",
       "      <th>Promedio error validacion simple con laplace</th>\n",
       "      <th>Desviacion estandar error validacion simple con laplace</th>\n",
       "    </tr>\n",
       "  </thead>\n",
       "  <tbody>\n",
       "    <tr>\n",
       "      <th>0</th>\n",
       "      <td>tic-tac-toe</td>\n",
       "      <td>0.136267</td>\n",
       "      <td>0.273241</td>\n",
       "      <td>0.139373</td>\n",
       "      <td>0.279523</td>\n",
       "      <td>0.273863</td>\n",
       "      <td>0.035642</td>\n",
       "      <td>0.281704</td>\n",
       "      <td>0.036064</td>\n",
       "    </tr>\n",
       "  </tbody>\n",
       "</table>\n",
       "</div>"
      ],
      "text/plain": [
       "       Dataset  Promedio error validacion cruzada  \\\n",
       "0  tic-tac-toe                           0.136267   \n",
       "\n",
       "   Desviación estandar error validación cruzada  \\\n",
       "0                                      0.273241   \n",
       "\n",
       "   Promedio error validacion cruzada con Laplace  \\\n",
       "0                                       0.139373   \n",
       "\n",
       "   Desviacion estandar error validacion cruzada con laplace  \\\n",
       "0                                           0.279523          \n",
       "\n",
       "   Promedio error validacion simple  \\\n",
       "0                          0.273863   \n",
       "\n",
       "   Desviacion estandar error validacion simple  \\\n",
       "0                                     0.035642   \n",
       "\n",
       "   Promedio error validacion simple con laplace  \\\n",
       "0                                      0.281704   \n",
       "\n",
       "   Desviacion estandar error validacion simple con laplace  \n",
       "0                                           0.036064        "
      ]
     },
     "execution_count": 23,
     "metadata": {},
     "output_type": "execute_result"
    }
   ],
   "source": [
    "resultados_naive_bayes_propio"
   ]
  },
  {
   "cell_type": "code",
   "execution_count": null,
   "id": "e99ebab2-917b-4103-a0cb-d1d182d932d2",
   "metadata": {},
   "outputs": [],
   "source": []
  },
  {
   "cell_type": "markdown",
   "id": "abd9e44a",
   "metadata": {},
   "source": [
    "# Naive Bayes con Scikit\n",
    "\n",
    "### Entrenamiento y clasificación para dataset __tic-tac-toe__"
   ]
  },
  {
   "cell_type": "code",
   "execution_count": 39,
   "id": "64d4ef14",
   "metadata": {},
   "outputs": [
    {
     "ename": "AttributeError",
     "evalue": "'DataFrame' object has no attribute '_validate_params'",
     "output_type": "error",
     "traceback": [
      "\u001b[1;31m---------------------------------------------------------------------------\u001b[0m",
      "\u001b[1;31mAttributeError\u001b[0m                            Traceback (most recent call last)",
      "\u001b[1;32m~\\AppData\\Local\\Temp\\ipykernel_46952\\4228597120.py\u001b[0m in \u001b[0;36m?\u001b[1;34m()\u001b[0m\n\u001b[1;32m----> 1\u001b[1;33m tic_tac_toe_validacion_multinomial = clasificador.validacion(\n\u001b[0m\u001b[0;32m      2\u001b[0m     \u001b[0mvalidacion_cruzada\u001b[0m\u001b[1;33m,\u001b[0m \u001b[0mdatos_tic_tac_toe\u001b[0m\u001b[1;33m,\u001b[0m \u001b[0mClasificadorNaiveBayesScikit\u001b[0m\u001b[1;33m(\u001b[0m\u001b[0mMultinomialNB\u001b[0m\u001b[1;33m,\u001b[0m \u001b[1;32mFalse\u001b[0m\u001b[1;33m)\u001b[0m\u001b[1;33m\u001b[0m\u001b[1;33m\u001b[0m\u001b[0m\n\u001b[0;32m      3\u001b[0m )\n\u001b[0;32m      4\u001b[0m \u001b[1;33m\u001b[0m\u001b[0m\n",
      "\u001b[1;32mc:\\Users\\dhuff\\Desktop\\fundamentos-de-aprendizaje-automatico\\Clasificador.py\u001b[0m in \u001b[0;36m?\u001b[1;34m(self, particionado, dataset, clasificador, seed)\u001b[0m\n\u001b[0;32m    132\u001b[0m             \u001b[0mdatos_train\u001b[0m \u001b[1;33m=\u001b[0m \u001b[0mdataset\u001b[0m\u001b[1;33m.\u001b[0m\u001b[0mextraeDatos\u001b[0m\u001b[1;33m(\u001b[0m\u001b[0mparticion\u001b[0m\u001b[1;33m.\u001b[0m\u001b[0mindicesTrain\u001b[0m\u001b[1;33m)\u001b[0m\u001b[1;33m\u001b[0m\u001b[1;33m\u001b[0m\u001b[0m\n\u001b[0;32m    133\u001b[0m \u001b[1;33m\u001b[0m\u001b[0m\n\u001b[0;32m    134\u001b[0m             \u001b[1;31m# se llama al metodo del clasificador para ajustar el modelo al conjunto\u001b[0m\u001b[1;33m\u001b[0m\u001b[1;33m\u001b[0m\u001b[0m\n\u001b[0;32m    135\u001b[0m             \u001b[1;31m# de entrenamiento\u001b[0m\u001b[1;33m\u001b[0m\u001b[1;33m\u001b[0m\u001b[0m\n\u001b[1;32m--> 136\u001b[1;33m             clasificador.entrenamiento(\n\u001b[0m\u001b[0;32m    137\u001b[0m                 \u001b[0mdatos_train\u001b[0m\u001b[1;33m,\u001b[0m \u001b[0mdataset\u001b[0m\u001b[1;33m.\u001b[0m\u001b[0mnominalAtributos\u001b[0m\u001b[1;33m,\u001b[0m \u001b[0mdataset\u001b[0m\u001b[1;33m.\u001b[0m\u001b[0mdiccionarios\u001b[0m\u001b[1;33m\u001b[0m\u001b[1;33m\u001b[0m\u001b[0m\n\u001b[0;32m    138\u001b[0m             )\n\u001b[0;32m    139\u001b[0m \u001b[1;33m\u001b[0m\u001b[0m\n",
      "\u001b[1;32mc:\\Users\\dhuff\\Desktop\\fundamentos-de-aprendizaje-automatico\\Clasificador.py\u001b[0m in \u001b[0;36m?\u001b[1;34m(self, datosTrain, nominalAtributos, diccionario)\u001b[0m\n\u001b[0;32m    360\u001b[0m                 \u001b[0mremainder\u001b[0m\u001b[1;33m=\u001b[0m\u001b[1;34m\"passthrough\"\u001b[0m\u001b[1;33m,\u001b[0m  \u001b[1;31m# columnas no nominales\u001b[0m\u001b[1;33m\u001b[0m\u001b[1;33m\u001b[0m\u001b[0m\n\u001b[0;32m    361\u001b[0m             )\n\u001b[0;32m    362\u001b[0m             \u001b[0mX\u001b[0m \u001b[1;33m=\u001b[0m \u001b[0mself\u001b[0m\u001b[1;33m.\u001b[0m\u001b[0m_transformador\u001b[0m\u001b[1;33m.\u001b[0m\u001b[0mfit_transform\u001b[0m\u001b[1;33m(\u001b[0m\u001b[0mX\u001b[0m\u001b[1;33m)\u001b[0m\u001b[1;33m\u001b[0m\u001b[1;33m\u001b[0m\u001b[0m\n\u001b[0;32m    363\u001b[0m \u001b[1;33m\u001b[0m\u001b[0m\n\u001b[1;32m--> 364\u001b[1;33m         \u001b[0mself\u001b[0m\u001b[1;33m.\u001b[0m\u001b[0m_modelo\u001b[0m\u001b[1;33m.\u001b[0m\u001b[0mfit\u001b[0m\u001b[1;33m(\u001b[0m\u001b[0mX\u001b[0m\u001b[1;33m,\u001b[0m \u001b[0my\u001b[0m\u001b[1;33m)\u001b[0m\u001b[1;33m\u001b[0m\u001b[1;33m\u001b[0m\u001b[0m\n\u001b[0m",
      "\u001b[1;32m~\\AppData\\Local\\Packages\\PythonSoftwareFoundation.Python.3.11_qbz5n2kfra8p0\\LocalCache\\local-packages\\Python311\\site-packages\\sklearn\\base.py\u001b[0m in \u001b[0;36m?\u001b[1;34m(estimator, *args, **kwargs)\u001b[0m\n\u001b[0;32m   1141\u001b[0m                 \u001b[0mfit_method\u001b[0m\u001b[1;33m.\u001b[0m\u001b[0m__name__\u001b[0m \u001b[1;33m==\u001b[0m \u001b[1;34m\"partial_fit\"\u001b[0m \u001b[1;32mand\u001b[0m \u001b[0m_is_fitted\u001b[0m\u001b[1;33m(\u001b[0m\u001b[0mestimator\u001b[0m\u001b[1;33m)\u001b[0m\u001b[1;33m\u001b[0m\u001b[1;33m\u001b[0m\u001b[0m\n\u001b[0;32m   1142\u001b[0m             )\n\u001b[0;32m   1143\u001b[0m \u001b[1;33m\u001b[0m\u001b[0m\n\u001b[0;32m   1144\u001b[0m             \u001b[1;32mif\u001b[0m \u001b[1;32mnot\u001b[0m \u001b[0mglobal_skip_validation\u001b[0m \u001b[1;32mand\u001b[0m \u001b[1;32mnot\u001b[0m \u001b[0mpartial_fit_and_fitted\u001b[0m\u001b[1;33m:\u001b[0m\u001b[1;33m\u001b[0m\u001b[1;33m\u001b[0m\u001b[0m\n\u001b[1;32m-> 1145\u001b[1;33m                 \u001b[0mestimator\u001b[0m\u001b[1;33m.\u001b[0m\u001b[0m_validate_params\u001b[0m\u001b[1;33m(\u001b[0m\u001b[1;33m)\u001b[0m\u001b[1;33m\u001b[0m\u001b[1;33m\u001b[0m\u001b[0m\n\u001b[0m\u001b[0;32m   1146\u001b[0m \u001b[1;33m\u001b[0m\u001b[0m\n\u001b[0;32m   1147\u001b[0m             with config_context(\n\u001b[0;32m   1148\u001b[0m                 skip_parameter_validation=(\n",
      "\u001b[1;32m~\\AppData\\Local\\Packages\\PythonSoftwareFoundation.Python.3.11_qbz5n2kfra8p0\\LocalCache\\local-packages\\Python311\\site-packages\\pandas\\core\\generic.py\u001b[0m in \u001b[0;36m?\u001b[1;34m(self, name)\u001b[0m\n\u001b[0;32m   6200\u001b[0m             \u001b[1;32mand\u001b[0m \u001b[0mname\u001b[0m \u001b[1;32mnot\u001b[0m \u001b[1;32min\u001b[0m \u001b[0mself\u001b[0m\u001b[1;33m.\u001b[0m\u001b[0m_accessors\u001b[0m\u001b[1;33m\u001b[0m\u001b[1;33m\u001b[0m\u001b[0m\n\u001b[0;32m   6201\u001b[0m             \u001b[1;32mand\u001b[0m \u001b[0mself\u001b[0m\u001b[1;33m.\u001b[0m\u001b[0m_info_axis\u001b[0m\u001b[1;33m.\u001b[0m\u001b[0m_can_hold_identifiers_and_holds_name\u001b[0m\u001b[1;33m(\u001b[0m\u001b[0mname\u001b[0m\u001b[1;33m)\u001b[0m\u001b[1;33m\u001b[0m\u001b[1;33m\u001b[0m\u001b[0m\n\u001b[0;32m   6202\u001b[0m         ):\n\u001b[0;32m   6203\u001b[0m             \u001b[1;32mreturn\u001b[0m \u001b[0mself\u001b[0m\u001b[1;33m[\u001b[0m\u001b[0mname\u001b[0m\u001b[1;33m]\u001b[0m\u001b[1;33m\u001b[0m\u001b[1;33m\u001b[0m\u001b[0m\n\u001b[1;32m-> 6204\u001b[1;33m         \u001b[1;32mreturn\u001b[0m \u001b[0mobject\u001b[0m\u001b[1;33m.\u001b[0m\u001b[0m__getattribute__\u001b[0m\u001b[1;33m(\u001b[0m\u001b[0mself\u001b[0m\u001b[1;33m,\u001b[0m \u001b[0mname\u001b[0m\u001b[1;33m)\u001b[0m\u001b[1;33m\u001b[0m\u001b[1;33m\u001b[0m\u001b[0m\n\u001b[0m",
      "\u001b[1;31mAttributeError\u001b[0m: 'DataFrame' object has no attribute '_validate_params'"
     ]
    }
   ],
   "source": [
    "tic_tac_toe_validacion_multinomial = clasificador.validacion(\n",
    "    validacion_simple, datos_tic_tac_toe, ClasificadorNaiveBayesScikit(MultinomialNB, False)\n",
    ")\n",
    "\n",
    "print_resultados(\"Validación con MultinomialNB sin oneHotEncoder\", tic_tac_toe_validacion_multinomial)"
   ]
  },
  {
   "cell_type": "code",
   "execution_count": null,
   "id": "59685b09",
   "metadata": {},
   "outputs": [],
   "source": []
  }
 ],
 "metadata": {
  "kernelspec": {
   "display_name": "Python 3 (ipykernel)",
   "language": "python",
   "name": "python3"
  },
  "language_info": {
   "codemirror_mode": {
    "name": "ipython",
    "version": 3
   },
   "file_extension": ".py",
   "mimetype": "text/x-python",
   "name": "python",
   "nbconvert_exporter": "python",
   "pygments_lexer": "ipython3",
   "version": "3.11.6"
  }
 },
 "nbformat": 4,
 "nbformat_minor": 5
}
