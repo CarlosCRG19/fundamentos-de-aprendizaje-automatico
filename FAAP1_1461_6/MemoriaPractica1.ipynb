{
 "cells": [
  {
   "cell_type": "markdown",
   "id": "201bea4a-aee0-407f-95d7-296bdc03ee4e",
   "metadata": {},
   "source": [
    "# Práctica 1 - Naive Bayes\n",
    "\n",
    "_Pareja 6_\n",
    "* David Kaack Sánchez\n",
    "* Carlos César Rodríguez García"
   ]
  },
  {
   "cell_type": "markdown",
   "id": "192fa2a1-660a-4ba3-b557-92d6acc21deb",
   "metadata": {},
   "source": [
    "## Setup"
   ]
  },
  {
   "cell_type": "markdown",
   "id": "1fddcf10-46f0-42c4-bcd3-b755d1aa3adb",
   "metadata": {},
   "source": [
    "### Importaciones"
   ]
  },
  {
   "cell_type": "code",
   "execution_count": 1,
   "id": "655cae4f-6656-4de8-82f2-74f24772de1f",
   "metadata": {},
   "outputs": [],
   "source": [
    "from Clasificador import Clasificador, ClasificadorNaiveBayes, ClasificadorNaiveBayesScikit\n",
    "from Datos import Datos\n",
    "from EstrategiaParticionado import ValidacionCruzada, ValidacionSimple\n",
    "\n",
    "import copy\n",
    "import pandas as pd\n",
    "from sklearn.naive_bayes import CategoricalNB, GaussianNB, MultinomialNB"
   ]
  },
  {
   "cell_type": "markdown",
   "id": "7c0b2648-59af-46d4-adca-eeb2e2de151b",
   "metadata": {},
   "source": [
    "### Estrategia de particionado"
   ]
  },
  {
   "cell_type": "code",
   "execution_count": 2,
   "id": "7d628f66-39c7-4a86-b2d4-07dc07059818",
   "metadata": {},
   "outputs": [],
   "source": [
    "validacion_cruzada = ValidacionCruzada(numeroParticiones=5)\n",
    "validacion_simple = ValidacionSimple(numeroEjecuciones=5, proporcionTest=30)"
   ]
  },
  {
   "cell_type": "markdown",
   "id": "50e96ebc-5eaa-4278-b685-e4e035d399db",
   "metadata": {},
   "source": [
    "### Clasificador generico"
   ]
  },
  {
   "cell_type": "code",
   "execution_count": 3,
   "id": "93f6eab8-36e2-42b9-be2b-b9cd3cf3ed49",
   "metadata": {},
   "outputs": [],
   "source": [
    "clasificador = Clasificador() # Solo se usa para correr clasficador.validacion()"
   ]
  },
  {
   "cell_type": "markdown",
   "id": "59fff2ac-0a5e-49bd-8ba4-ac9367afbe60",
   "metadata": {},
   "source": [
    "### Utilerías"
   ]
  },
  {
   "cell_type": "markdown",
   "id": "f7dcbdc3-446a-46ca-9bbf-85dd279ab874",
   "metadata": {},
   "source": [
    "Funciones que ayudan al procesado de datos y la creación de tablas para analizarlos."
   ]
  },
  {
   "cell_type": "code",
   "execution_count": 4,
   "id": "df35a48b-34c2-45f0-b152-6bdb4cb29a19",
   "metadata": {},
   "outputs": [],
   "source": [
    "def _validacion_naive_bayes_propio(datos, estrategia_particionado, con_laplace):\n",
    "    estrategia_particionado = copy.deepcopy(estrategia_particionado)\n",
    "    return clasificador.validacion(estrategia_particionado, datos, ClasificadorNaiveBayes(con_laplace=con_laplace))\n",
    "\n",
    "def validacion_naive_bayes_propio(dataset):\n",
    "    datos = Datos(f\"{dataset}.csv\")\n",
    "    \n",
    "    resultados_vc = _validacion_naive_bayes_propio(datos, validacion_cruzada, con_laplace=False)\n",
    "    resultados_vc_cl = _validacion_naive_bayes_propio(datos, validacion_cruzada, con_laplace=True)\n",
    "    \n",
    "    resultados_vs = _validacion_naive_bayes_propio(datos, validacion_simple, con_laplace=False)\n",
    "    resultados_vs_cl = _validacion_naive_bayes_propio(datos, validacion_simple, con_laplace=True)\n",
    "\n",
    "    columnas = [\n",
    "        \"Conjunto de Datos\",\n",
    "        \"Estrategia Particionado\",\n",
    "        \"Corrección de Laplace\",\n",
    "        \"Error Promedio\",\n",
    "        \"Desviación Estándar\",\n",
    "    ]\n",
    "\n",
    "    filas = [\n",
    "        (\n",
    "            dataset,\n",
    "            \"Validación Cruzada\",\n",
    "            False,\n",
    "            resultados_vc[0],\n",
    "            resultados_vc[1],\n",
    "        ),\n",
    "        (\n",
    "            dataset,\n",
    "            \"Validación Cruzada\",\n",
    "            True,\n",
    "            resultados_vc_cl[0],\n",
    "            resultados_vc_cl[1],\n",
    "        ),\n",
    "        (\n",
    "            dataset,\n",
    "            \"Validación Simple\",\n",
    "            False,\n",
    "            resultados_vs[0],\n",
    "            resultados_vs[1],\n",
    "        ),\n",
    "        (\n",
    "            dataset,\n",
    "            \"Validación Simple\",\n",
    "            True,\n",
    "            resultados_vs_cl[0],\n",
    "            resultados_vs_cl[1],\n",
    "        )\n",
    "    ]\n",
    "\n",
    "    return pd.DataFrame(filas, columns=columnas)\n",
    "\n",
    "def _validacion_naive_bayes_scikit(datos, estrategia_particionado, instancia_clasificador, con_transformacion):\n",
    "    estrategia_particionado = copy.deepcopy(estrategia_particionado)\n",
    "    return clasificador.validacion(estrategia_particionado, datos, ClasificadorNaiveBayesScikit(instancia_clasificador, con_transformacion=con_transformacion))\n",
    "\n",
    "def validacion_naive_bayes_scikit(dataset, clasificador):\n",
    "    datos = Datos(f\"{dataset}.csv\")\n",
    "\n",
    "    instancia_clasificador = clasificador(fit_prior=True) if not isinstance(clasificador(), GaussianNB) else clasificador()\n",
    "    instancia_clasificador_cl = clasificador(fit_prior=True, alpha=1) if not isinstance(clasificador(), GaussianNB) else clasificador()\n",
    "\n",
    "    resultados_vc = _validacion_naive_bayes_scikit(datos, validacion_cruzada, instancia_clasificador, con_transformacion=False)\n",
    "    resultados_vc_cl = _validacion_naive_bayes_scikit(datos, validacion_cruzada, instancia_clasificador_cl, con_transformacion=False)\n",
    "    resultados_vc_ohe = _validacion_naive_bayes_scikit(datos, validacion_cruzada, instancia_clasificador, con_transformacion=True)\n",
    "    resultados_vc_cl_ohe = _validacion_naive_bayes_scikit(datos, validacion_cruzada, instancia_clasificador_cl, con_transformacion=True)\n",
    "\n",
    "    \n",
    "    resultados_vs = _validacion_naive_bayes_scikit(datos, validacion_simple, instancia_clasificador, con_transformacion=False)\n",
    "    resultados_vs_cl = _validacion_naive_bayes_scikit(datos, validacion_simple, instancia_clasificador_cl, con_transformacion=False)\n",
    "    resultados_vs_ohe = _validacion_naive_bayes_scikit(datos, validacion_simple, instancia_clasificador, con_transformacion=True)\n",
    "    resultados_vs_cl_ohe = _validacion_naive_bayes_scikit(datos, validacion_simple, instancia_clasificador_cl, con_transformacion=True)\n",
    "\n",
    "    columnas = [\n",
    "        \"Conjunto de Datos\",\n",
    "        \"Estrategia Particionado\",\n",
    "        \"Corrección de Laplace\",\n",
    "        \"One Hot Encoding\",\n",
    "        \"Error Promedio\",\n",
    "        \"Desviación Estándar\",\n",
    "    ]\n",
    "\n",
    "    filas = [\n",
    "        (\n",
    "            dataset,\n",
    "            \"Validación Cruzada\",\n",
    "            False,\n",
    "            False,\n",
    "            resultados_vc[0],\n",
    "            resultados_vc[1],\n",
    "        ),\n",
    "        (\n",
    "            dataset,\n",
    "            \"Validación Cruzada\",\n",
    "            True,\n",
    "            False,\n",
    "            resultados_vc_cl[0],\n",
    "            resultados_vc_cl[1],\n",
    "        ),\n",
    "        (\n",
    "            dataset,\n",
    "            \"Validación Cruzada\",\n",
    "            False,\n",
    "            True,\n",
    "            resultados_vc_ohe[0],\n",
    "            resultados_vc_ohe[1],\n",
    "        ),\n",
    "        (\n",
    "            dataset,\n",
    "            \"Validación Cruzada\",\n",
    "            True,\n",
    "            True,\n",
    "            resultados_vc_cl_ohe[0],\n",
    "            resultados_vc_cl_ohe[1],\n",
    "        ),\n",
    "        (\n",
    "            dataset,\n",
    "            \"Validación Simple\",\n",
    "            False,\n",
    "            False,\n",
    "            resultados_vs[0],\n",
    "            resultados_vs[1],\n",
    "        ),\n",
    "        (\n",
    "            dataset,\n",
    "            \"Validación Simple\",\n",
    "            True,\n",
    "            False,\n",
    "            resultados_vs_cl[0],\n",
    "            resultados_vs_cl[1],\n",
    "        ),\n",
    "        (\n",
    "            dataset,\n",
    "            \"Validación Simple\",\n",
    "            False,\n",
    "            True,\n",
    "            resultados_vs_ohe[0],\n",
    "            resultados_vs_ohe[1],\n",
    "        ),\n",
    "        (\n",
    "            dataset,\n",
    "            \"Validación Simple\",\n",
    "            True,\n",
    "            True,\n",
    "            resultados_vs_cl_ohe[0],\n",
    "            resultados_vs_cl_ohe[1],\n",
    "        ),\n",
    "    ]\n",
    "\n",
    "    return pd.DataFrame(filas, columns=columnas)"
   ]
  },
  {
   "cell_type": "markdown",
   "id": "cb7f90f4-65c5-407d-90c5-676b91a78339",
   "metadata": {},
   "source": [
    "## Apartado 1 - Naive Bayes Propio"
   ]
  },
  {
   "cell_type": "markdown",
   "id": "9afdeae0-3de6-48b1-8dfd-f1d15d4fd8ae",
   "metadata": {},
   "source": [
    "### Entrenamiento y clasificación para dataset __heart__"
   ]
  },
  {
   "cell_type": "code",
   "execution_count": 5,
   "id": "45b130b2-2e7e-4b2e-ae7f-082880c544e6",
   "metadata": {},
   "outputs": [],
   "source": [
    "resultados_heart = validacion_naive_bayes_propio(\"heart\")"
   ]
  },
  {
   "cell_type": "markdown",
   "id": "5a247947-ce2e-48fd-bb70-0d98ea2d6714",
   "metadata": {},
   "source": [
    "### Entrenamiento y clasificación para dataset __tic-tac-toe__"
   ]
  },
  {
   "cell_type": "code",
   "execution_count": 6,
   "id": "6632c4b0-2944-4b85-8b6e-4afc71997872",
   "metadata": {},
   "outputs": [],
   "source": [
    "resultados_tic_tac_toe = validacion_naive_bayes_propio(\"tic-tac-toe\")"
   ]
  },
  {
   "cell_type": "markdown",
   "id": "22043b04-45e0-467d-b46b-6c1dace0efee",
   "metadata": {},
   "source": [
    "### Analisis de resultados"
   ]
  },
  {
   "cell_type": "code",
   "execution_count": 7,
   "id": "f2f53581-1953-4d23-a274-551d9df8aa78",
   "metadata": {},
   "outputs": [
    {
     "data": {
      "text/html": [
       "<div>\n",
       "<style scoped>\n",
       "    .dataframe tbody tr th:only-of-type {\n",
       "        vertical-align: middle;\n",
       "    }\n",
       "\n",
       "    .dataframe tbody tr th {\n",
       "        vertical-align: top;\n",
       "    }\n",
       "\n",
       "    .dataframe thead th {\n",
       "        text-align: right;\n",
       "    }\n",
       "</style>\n",
       "<table border=\"1\" class=\"dataframe\">\n",
       "  <thead>\n",
       "    <tr style=\"text-align: right;\">\n",
       "      <th></th>\n",
       "      <th>Conjunto de Datos</th>\n",
       "      <th>Estrategia Particionado</th>\n",
       "      <th>Corrección de Laplace</th>\n",
       "      <th>Error Promedio</th>\n",
       "      <th>Desviación Estándar</th>\n",
       "    </tr>\n",
       "  </thead>\n",
       "  <tbody>\n",
       "    <tr>\n",
       "      <th>2</th>\n",
       "      <td>heart</td>\n",
       "      <td>Validación Simple</td>\n",
       "      <td>False</td>\n",
       "      <td>0.140364</td>\n",
       "      <td>0.019048</td>\n",
       "    </tr>\n",
       "    <tr>\n",
       "      <th>3</th>\n",
       "      <td>heart</td>\n",
       "      <td>Validación Simple</td>\n",
       "      <td>True</td>\n",
       "      <td>0.141091</td>\n",
       "      <td>0.019704</td>\n",
       "    </tr>\n",
       "    <tr>\n",
       "      <th>0</th>\n",
       "      <td>heart</td>\n",
       "      <td>Validación Cruzada</td>\n",
       "      <td>False</td>\n",
       "      <td>0.143811</td>\n",
       "      <td>0.020987</td>\n",
       "    </tr>\n",
       "    <tr>\n",
       "      <th>1</th>\n",
       "      <td>heart</td>\n",
       "      <td>Validación Cruzada</td>\n",
       "      <td>True</td>\n",
       "      <td>0.143811</td>\n",
       "      <td>0.020987</td>\n",
       "    </tr>\n",
       "    <tr>\n",
       "      <th>1</th>\n",
       "      <td>tic-tac-toe</td>\n",
       "      <td>Validación Cruzada</td>\n",
       "      <td>True</td>\n",
       "      <td>0.292343</td>\n",
       "      <td>0.029646</td>\n",
       "    </tr>\n",
       "    <tr>\n",
       "      <th>0</th>\n",
       "      <td>tic-tac-toe</td>\n",
       "      <td>Validación Cruzada</td>\n",
       "      <td>False</td>\n",
       "      <td>0.293385</td>\n",
       "      <td>0.028196</td>\n",
       "    </tr>\n",
       "    <tr>\n",
       "      <th>2</th>\n",
       "      <td>tic-tac-toe</td>\n",
       "      <td>Validación Simple</td>\n",
       "      <td>False</td>\n",
       "      <td>0.305226</td>\n",
       "      <td>0.025566</td>\n",
       "    </tr>\n",
       "    <tr>\n",
       "      <th>3</th>\n",
       "      <td>tic-tac-toe</td>\n",
       "      <td>Validación Simple</td>\n",
       "      <td>True</td>\n",
       "      <td>0.305226</td>\n",
       "      <td>0.025566</td>\n",
       "    </tr>\n",
       "  </tbody>\n",
       "</table>\n",
       "</div>"
      ],
      "text/plain": [
       "  Conjunto de Datos Estrategia Particionado  Corrección de Laplace   \n",
       "2             heart       Validación Simple                  False  \\\n",
       "3             heart       Validación Simple                   True   \n",
       "0             heart      Validación Cruzada                  False   \n",
       "1             heart      Validación Cruzada                   True   \n",
       "1       tic-tac-toe      Validación Cruzada                   True   \n",
       "0       tic-tac-toe      Validación Cruzada                  False   \n",
       "2       tic-tac-toe       Validación Simple                  False   \n",
       "3       tic-tac-toe       Validación Simple                   True   \n",
       "\n",
       "   Error Promedio  Desviación Estándar  \n",
       "2        0.140364             0.019048  \n",
       "3        0.141091             0.019704  \n",
       "0        0.143811             0.020987  \n",
       "1        0.143811             0.020987  \n",
       "1        0.292343             0.029646  \n",
       "0        0.293385             0.028196  \n",
       "2        0.305226             0.025566  \n",
       "3        0.305226             0.025566  "
      ]
     },
     "execution_count": 7,
     "metadata": {},
     "output_type": "execute_result"
    }
   ],
   "source": [
    "resultados_naive_bayes_propio = pd.concat([\n",
    "    resultados_heart.sort_values(by=\"Error Promedio\"),\n",
    "    resultados_tic_tac_toe.sort_values(by=\"Error Promedio\")\n",
    "])\n",
    "resultados_naive_bayes_propio"
   ]
  },
  {
   "cell_type": "markdown",
   "id": "51e75724-3776-40b5-81ab-679f88f48689",
   "metadata": {},
   "source": [
    "El error promedio en todos los casos es menor al 30%, lo cual consideramos un rendimiento regular (es mejor que una decisión al azar). Lo interesante de estos datos es la reducción de la desviación estándar con el datased __heart__ cuando se usa validación simple como estrategia de particionado. En conjuntos de datos pequeños, la validación cruzada puede tener una desviación estándar más alta debido a la limitada cantidad de datos para realizar las divisiones. La validación simple puede ser más estable en tales casos.\n",
    "\n",
    "En general, el modelo tiene resultados estables para ambas estrategias de particionado."
   ]
  },
  {
   "cell_type": "markdown",
   "id": "b8368246-336f-4384-9d60-140b226bc273",
   "metadata": {},
   "source": [
    "#### Efectos de Corrección de Laplace"
   ]
  },
  {
   "cell_type": "markdown",
   "id": "7769fb94-8c54-46a1-8bd8-22ae1c073f11",
   "metadata": {},
   "source": [
    "Observamos que la corrección de Laplace tiene un impacto limitado en estos escenarios. De hecho, en la mayoría de los casos, conduce a un aumento en el error. Esta situación puede atribuirse a la falta de atributos categóricos en los cuales aplicar esta corrección, o a la presencia de un número reducido de ellos; aunque en este caso, probablemente se deba a una buena distribución de las categorías en los conjuntos de datos analizados."
   ]
  },
  {
   "cell_type": "markdown",
   "id": "2626d595-485d-47bf-a32f-7c53125245c7",
   "metadata": {},
   "source": [
    "## Apartado 2 - Naive Bayes Scikit-learn"
   ]
  },
  {
   "cell_type": "markdown",
   "id": "707f633a-cbb2-4501-b314-e45efd04f3fe",
   "metadata": {},
   "source": [
    "### Entrenamiento y clasificación para dataset __tic-tac-toe__"
   ]
  },
  {
   "cell_type": "markdown",
   "id": "fa9ac78b-00ae-4d97-b73d-b580295fda49",
   "metadata": {},
   "source": [
    "#### CategoricalNB\n",
    "Para este clasficidor, se asume que calcula las probabilidades a priori (`fit_prior=True`) y se evalúa tanto para el caso con corrección de Laplace y sin ella (`alpha=1`)."
   ]
  },
  {
   "cell_type": "code",
   "execution_count": 8,
   "id": "20bdfd05-e2b2-4efc-bdd5-876d35b7d2af",
   "metadata": {
    "scrolled": true
   },
   "outputs": [
    {
     "data": {
      "text/html": [
       "<div>\n",
       "<style scoped>\n",
       "    .dataframe tbody tr th:only-of-type {\n",
       "        vertical-align: middle;\n",
       "    }\n",
       "\n",
       "    .dataframe tbody tr th {\n",
       "        vertical-align: top;\n",
       "    }\n",
       "\n",
       "    .dataframe thead th {\n",
       "        text-align: right;\n",
       "    }\n",
       "</style>\n",
       "<table border=\"1\" class=\"dataframe\">\n",
       "  <thead>\n",
       "    <tr style=\"text-align: right;\">\n",
       "      <th></th>\n",
       "      <th>Conjunto de Datos</th>\n",
       "      <th>Estrategia Particionado</th>\n",
       "      <th>Corrección de Laplace</th>\n",
       "      <th>One Hot Encoding</th>\n",
       "      <th>Error Promedio</th>\n",
       "      <th>Desviación Estándar</th>\n",
       "    </tr>\n",
       "  </thead>\n",
       "  <tbody>\n",
       "    <tr>\n",
       "      <th>0</th>\n",
       "      <td>tic-tac-toe</td>\n",
       "      <td>Validación Cruzada</td>\n",
       "      <td>False</td>\n",
       "      <td>False</td>\n",
       "      <td>0.292343</td>\n",
       "      <td>0.029646</td>\n",
       "    </tr>\n",
       "    <tr>\n",
       "      <th>1</th>\n",
       "      <td>tic-tac-toe</td>\n",
       "      <td>Validación Cruzada</td>\n",
       "      <td>True</td>\n",
       "      <td>False</td>\n",
       "      <td>0.292343</td>\n",
       "      <td>0.029646</td>\n",
       "    </tr>\n",
       "    <tr>\n",
       "      <th>2</th>\n",
       "      <td>tic-tac-toe</td>\n",
       "      <td>Validación Cruzada</td>\n",
       "      <td>False</td>\n",
       "      <td>True</td>\n",
       "      <td>0.304876</td>\n",
       "      <td>0.033982</td>\n",
       "    </tr>\n",
       "    <tr>\n",
       "      <th>3</th>\n",
       "      <td>tic-tac-toe</td>\n",
       "      <td>Validación Cruzada</td>\n",
       "      <td>True</td>\n",
       "      <td>True</td>\n",
       "      <td>0.304876</td>\n",
       "      <td>0.033982</td>\n",
       "    </tr>\n",
       "    <tr>\n",
       "      <th>4</th>\n",
       "      <td>tic-tac-toe</td>\n",
       "      <td>Validación Simple</td>\n",
       "      <td>False</td>\n",
       "      <td>False</td>\n",
       "      <td>0.304530</td>\n",
       "      <td>0.026315</td>\n",
       "    </tr>\n",
       "    <tr>\n",
       "      <th>5</th>\n",
       "      <td>tic-tac-toe</td>\n",
       "      <td>Validación Simple</td>\n",
       "      <td>True</td>\n",
       "      <td>False</td>\n",
       "      <td>0.304530</td>\n",
       "      <td>0.026315</td>\n",
       "    </tr>\n",
       "    <tr>\n",
       "      <th>6</th>\n",
       "      <td>tic-tac-toe</td>\n",
       "      <td>Validación Simple</td>\n",
       "      <td>False</td>\n",
       "      <td>True</td>\n",
       "      <td>0.319861</td>\n",
       "      <td>0.027025</td>\n",
       "    </tr>\n",
       "    <tr>\n",
       "      <th>7</th>\n",
       "      <td>tic-tac-toe</td>\n",
       "      <td>Validación Simple</td>\n",
       "      <td>True</td>\n",
       "      <td>True</td>\n",
       "      <td>0.319861</td>\n",
       "      <td>0.027025</td>\n",
       "    </tr>\n",
       "  </tbody>\n",
       "</table>\n",
       "</div>"
      ],
      "text/plain": [
       "  Conjunto de Datos Estrategia Particionado  Corrección de Laplace   \n",
       "0       tic-tac-toe      Validación Cruzada                  False  \\\n",
       "1       tic-tac-toe      Validación Cruzada                   True   \n",
       "2       tic-tac-toe      Validación Cruzada                  False   \n",
       "3       tic-tac-toe      Validación Cruzada                   True   \n",
       "4       tic-tac-toe       Validación Simple                  False   \n",
       "5       tic-tac-toe       Validación Simple                   True   \n",
       "6       tic-tac-toe       Validación Simple                  False   \n",
       "7       tic-tac-toe       Validación Simple                   True   \n",
       "\n",
       "   One Hot Encoding  Error Promedio  Desviación Estándar  \n",
       "0             False        0.292343             0.029646  \n",
       "1             False        0.292343             0.029646  \n",
       "2              True        0.304876             0.033982  \n",
       "3              True        0.304876             0.033982  \n",
       "4             False        0.304530             0.026315  \n",
       "5             False        0.304530             0.026315  \n",
       "6              True        0.319861             0.027025  \n",
       "7              True        0.319861             0.027025  "
      ]
     },
     "execution_count": 8,
     "metadata": {},
     "output_type": "execute_result"
    }
   ],
   "source": [
    "resultados_tic_tac_toe_categorical_nb = validacion_naive_bayes_scikit(\"tic-tac-toe\", CategoricalNB)\n",
    "resultados_tic_tac_toe_categorical_nb"
   ]
  },
  {
   "cell_type": "markdown",
   "id": "d08103be-69c5-41b5-885b-5ee0c575ee23",
   "metadata": {},
   "source": [
    "#### GaussianNB\n",
    "Este clasificador asume que todas las variables son continuas y distribuidas normalmente. Por esta razón, no se puede evaluar el la corrección de Laplace, pues no tiene ningún efecto."
   ]
  },
  {
   "cell_type": "code",
   "execution_count": 9,
   "id": "e5e6cfae-e2fa-42d9-96ef-e2e0c2fc3e96",
   "metadata": {
    "scrolled": true
   },
   "outputs": [
    {
     "data": {
      "text/html": [
       "<div>\n",
       "<style scoped>\n",
       "    .dataframe tbody tr th:only-of-type {\n",
       "        vertical-align: middle;\n",
       "    }\n",
       "\n",
       "    .dataframe tbody tr th {\n",
       "        vertical-align: top;\n",
       "    }\n",
       "\n",
       "    .dataframe thead th {\n",
       "        text-align: right;\n",
       "    }\n",
       "</style>\n",
       "<table border=\"1\" class=\"dataframe\">\n",
       "  <thead>\n",
       "    <tr style=\"text-align: right;\">\n",
       "      <th></th>\n",
       "      <th>Conjunto de Datos</th>\n",
       "      <th>Estrategia Particionado</th>\n",
       "      <th>Corrección de Laplace</th>\n",
       "      <th>One Hot Encoding</th>\n",
       "      <th>Error Promedio</th>\n",
       "      <th>Desviación Estándar</th>\n",
       "    </tr>\n",
       "  </thead>\n",
       "  <tbody>\n",
       "    <tr>\n",
       "      <th>0</th>\n",
       "      <td>tic-tac-toe</td>\n",
       "      <td>Validación Cruzada</td>\n",
       "      <td>False</td>\n",
       "      <td>False</td>\n",
       "      <td>0.276674</td>\n",
       "      <td>0.024452</td>\n",
       "    </tr>\n",
       "    <tr>\n",
       "      <th>2</th>\n",
       "      <td>tic-tac-toe</td>\n",
       "      <td>Validación Cruzada</td>\n",
       "      <td>False</td>\n",
       "      <td>True</td>\n",
       "      <td>0.315320</td>\n",
       "      <td>0.033065</td>\n",
       "    </tr>\n",
       "    <tr>\n",
       "      <th>4</th>\n",
       "      <td>tic-tac-toe</td>\n",
       "      <td>Validación Simple</td>\n",
       "      <td>False</td>\n",
       "      <td>False</td>\n",
       "      <td>0.278746</td>\n",
       "      <td>0.031552</td>\n",
       "    </tr>\n",
       "    <tr>\n",
       "      <th>6</th>\n",
       "      <td>tic-tac-toe</td>\n",
       "      <td>Validación Simple</td>\n",
       "      <td>False</td>\n",
       "      <td>True</td>\n",
       "      <td>0.331707</td>\n",
       "      <td>0.040836</td>\n",
       "    </tr>\n",
       "  </tbody>\n",
       "</table>\n",
       "</div>"
      ],
      "text/plain": [
       "  Conjunto de Datos Estrategia Particionado  Corrección de Laplace   \n",
       "0       tic-tac-toe      Validación Cruzada                  False  \\\n",
       "2       tic-tac-toe      Validación Cruzada                  False   \n",
       "4       tic-tac-toe       Validación Simple                  False   \n",
       "6       tic-tac-toe       Validación Simple                  False   \n",
       "\n",
       "   One Hot Encoding  Error Promedio  Desviación Estándar  \n",
       "0             False        0.276674             0.024452  \n",
       "2              True        0.315320             0.033065  \n",
       "4             False        0.278746             0.031552  \n",
       "6              True        0.331707             0.040836  "
      ]
     },
     "execution_count": 9,
     "metadata": {},
     "output_type": "execute_result"
    }
   ],
   "source": [
    "resultados_tic_tac_toe_gaussian_nb = validacion_naive_bayes_scikit(\"tic-tac-toe\", GaussianNB)\n",
    "resultados_tic_tac_toe_gaussian_nb = resultados_tic_tac_toe_gaussian_nb[resultados_tic_tac_toe_gaussian_nb[\"Corrección de Laplace\"] == False]\n",
    "resultados_tic_tac_toe_gaussian_nb"
   ]
  },
  {
   "cell_type": "markdown",
   "id": "e704d420-70fd-4aea-a0fa-f3ac0a061c96",
   "metadata": {},
   "source": [
    "#### MultinomialNB\n",
    "Funciona mejor para variables discretas, al igual que CategoricalNB. De igual modo, se asume que calcula las probabilidades a priori (`fit_prior=True`) y se evalúa tanto para el caso con corrección de Laplace y sin ella (`alpha=1`)."
   ]
  },
  {
   "cell_type": "code",
   "execution_count": 10,
   "id": "93709297-cf3c-41de-be68-76999da6f8f7",
   "metadata": {
    "scrolled": true
   },
   "outputs": [
    {
     "data": {
      "text/html": [
       "<div>\n",
       "<style scoped>\n",
       "    .dataframe tbody tr th:only-of-type {\n",
       "        vertical-align: middle;\n",
       "    }\n",
       "\n",
       "    .dataframe tbody tr th {\n",
       "        vertical-align: top;\n",
       "    }\n",
       "\n",
       "    .dataframe thead th {\n",
       "        text-align: right;\n",
       "    }\n",
       "</style>\n",
       "<table border=\"1\" class=\"dataframe\">\n",
       "  <thead>\n",
       "    <tr style=\"text-align: right;\">\n",
       "      <th></th>\n",
       "      <th>Conjunto de Datos</th>\n",
       "      <th>Estrategia Particionado</th>\n",
       "      <th>Corrección de Laplace</th>\n",
       "      <th>One Hot Encoding</th>\n",
       "      <th>Error Promedio</th>\n",
       "      <th>Desviación Estándar</th>\n",
       "    </tr>\n",
       "  </thead>\n",
       "  <tbody>\n",
       "    <tr>\n",
       "      <th>0</th>\n",
       "      <td>tic-tac-toe</td>\n",
       "      <td>Validación Cruzada</td>\n",
       "      <td>False</td>\n",
       "      <td>False</td>\n",
       "      <td>0.341383</td>\n",
       "      <td>0.027139</td>\n",
       "    </tr>\n",
       "    <tr>\n",
       "      <th>1</th>\n",
       "      <td>tic-tac-toe</td>\n",
       "      <td>Validación Cruzada</td>\n",
       "      <td>True</td>\n",
       "      <td>False</td>\n",
       "      <td>0.341383</td>\n",
       "      <td>0.027139</td>\n",
       "    </tr>\n",
       "    <tr>\n",
       "      <th>2</th>\n",
       "      <td>tic-tac-toe</td>\n",
       "      <td>Validación Cruzada</td>\n",
       "      <td>False</td>\n",
       "      <td>True</td>\n",
       "      <td>0.292343</td>\n",
       "      <td>0.029646</td>\n",
       "    </tr>\n",
       "    <tr>\n",
       "      <th>3</th>\n",
       "      <td>tic-tac-toe</td>\n",
       "      <td>Validación Cruzada</td>\n",
       "      <td>True</td>\n",
       "      <td>True</td>\n",
       "      <td>0.292343</td>\n",
       "      <td>0.029646</td>\n",
       "    </tr>\n",
       "    <tr>\n",
       "      <th>4</th>\n",
       "      <td>tic-tac-toe</td>\n",
       "      <td>Validación Simple</td>\n",
       "      <td>False</td>\n",
       "      <td>False</td>\n",
       "      <td>0.326132</td>\n",
       "      <td>0.037759</td>\n",
       "    </tr>\n",
       "    <tr>\n",
       "      <th>5</th>\n",
       "      <td>tic-tac-toe</td>\n",
       "      <td>Validación Simple</td>\n",
       "      <td>True</td>\n",
       "      <td>False</td>\n",
       "      <td>0.326132</td>\n",
       "      <td>0.037759</td>\n",
       "    </tr>\n",
       "    <tr>\n",
       "      <th>6</th>\n",
       "      <td>tic-tac-toe</td>\n",
       "      <td>Validación Simple</td>\n",
       "      <td>False</td>\n",
       "      <td>True</td>\n",
       "      <td>0.304530</td>\n",
       "      <td>0.026315</td>\n",
       "    </tr>\n",
       "    <tr>\n",
       "      <th>7</th>\n",
       "      <td>tic-tac-toe</td>\n",
       "      <td>Validación Simple</td>\n",
       "      <td>True</td>\n",
       "      <td>True</td>\n",
       "      <td>0.304530</td>\n",
       "      <td>0.026315</td>\n",
       "    </tr>\n",
       "  </tbody>\n",
       "</table>\n",
       "</div>"
      ],
      "text/plain": [
       "  Conjunto de Datos Estrategia Particionado  Corrección de Laplace   \n",
       "0       tic-tac-toe      Validación Cruzada                  False  \\\n",
       "1       tic-tac-toe      Validación Cruzada                   True   \n",
       "2       tic-tac-toe      Validación Cruzada                  False   \n",
       "3       tic-tac-toe      Validación Cruzada                   True   \n",
       "4       tic-tac-toe       Validación Simple                  False   \n",
       "5       tic-tac-toe       Validación Simple                   True   \n",
       "6       tic-tac-toe       Validación Simple                  False   \n",
       "7       tic-tac-toe       Validación Simple                   True   \n",
       "\n",
       "   One Hot Encoding  Error Promedio  Desviación Estándar  \n",
       "0             False        0.341383             0.027139  \n",
       "1             False        0.341383             0.027139  \n",
       "2              True        0.292343             0.029646  \n",
       "3              True        0.292343             0.029646  \n",
       "4             False        0.326132             0.037759  \n",
       "5             False        0.326132             0.037759  \n",
       "6              True        0.304530             0.026315  \n",
       "7              True        0.304530             0.026315  "
      ]
     },
     "execution_count": 10,
     "metadata": {},
     "output_type": "execute_result"
    }
   ],
   "source": [
    "resultados_tic_tac_toe_multinomial_nb = validacion_naive_bayes_scikit(\"tic-tac-toe\", MultinomialNB)\n",
    "resultados_tic_tac_toe_multinomial_nb"
   ]
  },
  {
   "cell_type": "markdown",
   "id": "8142bb85-06ce-4e3c-8473-ba2d4c41e4cd",
   "metadata": {},
   "source": [
    "### Comparación de clasificadores"
   ]
  },
  {
   "cell_type": "code",
   "execution_count": 11,
   "id": "c1a54a87-2246-440a-b98f-9e0308f1c4de",
   "metadata": {},
   "outputs": [
    {
     "data": {
      "text/html": [
       "<div>\n",
       "<style scoped>\n",
       "    .dataframe tbody tr th:only-of-type {\n",
       "        vertical-align: middle;\n",
       "    }\n",
       "\n",
       "    .dataframe tbody tr th {\n",
       "        vertical-align: top;\n",
       "    }\n",
       "\n",
       "    .dataframe thead th {\n",
       "        text-align: right;\n",
       "    }\n",
       "</style>\n",
       "<table border=\"1\" class=\"dataframe\">\n",
       "  <thead>\n",
       "    <tr style=\"text-align: right;\">\n",
       "      <th></th>\n",
       "      <th>Conjunto de Datos</th>\n",
       "      <th>Estrategia Particionado</th>\n",
       "      <th>Corrección de Laplace</th>\n",
       "      <th>One Hot Encoding</th>\n",
       "      <th>Error Promedio</th>\n",
       "      <th>Desviación Estándar</th>\n",
       "      <th>Clasificador</th>\n",
       "    </tr>\n",
       "  </thead>\n",
       "  <tbody>\n",
       "    <tr>\n",
       "      <th>8</th>\n",
       "      <td>tic-tac-toe</td>\n",
       "      <td>Validación Cruzada</td>\n",
       "      <td>False</td>\n",
       "      <td>False</td>\n",
       "      <td>0.276674</td>\n",
       "      <td>0.024452</td>\n",
       "      <td>GaussianNB</td>\n",
       "    </tr>\n",
       "    <tr>\n",
       "      <th>10</th>\n",
       "      <td>tic-tac-toe</td>\n",
       "      <td>Validación Simple</td>\n",
       "      <td>False</td>\n",
       "      <td>False</td>\n",
       "      <td>0.278746</td>\n",
       "      <td>0.031552</td>\n",
       "      <td>GaussianNB</td>\n",
       "    </tr>\n",
       "    <tr>\n",
       "      <th>0</th>\n",
       "      <td>tic-tac-toe</td>\n",
       "      <td>Validación Cruzada</td>\n",
       "      <td>False</td>\n",
       "      <td>False</td>\n",
       "      <td>0.292343</td>\n",
       "      <td>0.029646</td>\n",
       "      <td>CategoricalNB</td>\n",
       "    </tr>\n",
       "    <tr>\n",
       "      <th>1</th>\n",
       "      <td>tic-tac-toe</td>\n",
       "      <td>Validación Cruzada</td>\n",
       "      <td>True</td>\n",
       "      <td>False</td>\n",
       "      <td>0.292343</td>\n",
       "      <td>0.029646</td>\n",
       "      <td>CategoricalNB</td>\n",
       "    </tr>\n",
       "    <tr>\n",
       "      <th>15</th>\n",
       "      <td>tic-tac-toe</td>\n",
       "      <td>Validación Cruzada</td>\n",
       "      <td>True</td>\n",
       "      <td>True</td>\n",
       "      <td>0.292343</td>\n",
       "      <td>0.029646</td>\n",
       "      <td>MultinomialNB</td>\n",
       "    </tr>\n",
       "    <tr>\n",
       "      <th>14</th>\n",
       "      <td>tic-tac-toe</td>\n",
       "      <td>Validación Cruzada</td>\n",
       "      <td>False</td>\n",
       "      <td>True</td>\n",
       "      <td>0.292343</td>\n",
       "      <td>0.029646</td>\n",
       "      <td>MultinomialNB</td>\n",
       "    </tr>\n",
       "    <tr>\n",
       "      <th>18</th>\n",
       "      <td>tic-tac-toe</td>\n",
       "      <td>Validación Simple</td>\n",
       "      <td>False</td>\n",
       "      <td>True</td>\n",
       "      <td>0.304530</td>\n",
       "      <td>0.026315</td>\n",
       "      <td>MultinomialNB</td>\n",
       "    </tr>\n",
       "    <tr>\n",
       "      <th>19</th>\n",
       "      <td>tic-tac-toe</td>\n",
       "      <td>Validación Simple</td>\n",
       "      <td>True</td>\n",
       "      <td>True</td>\n",
       "      <td>0.304530</td>\n",
       "      <td>0.026315</td>\n",
       "      <td>MultinomialNB</td>\n",
       "    </tr>\n",
       "    <tr>\n",
       "      <th>5</th>\n",
       "      <td>tic-tac-toe</td>\n",
       "      <td>Validación Simple</td>\n",
       "      <td>True</td>\n",
       "      <td>False</td>\n",
       "      <td>0.304530</td>\n",
       "      <td>0.026315</td>\n",
       "      <td>CategoricalNB</td>\n",
       "    </tr>\n",
       "    <tr>\n",
       "      <th>4</th>\n",
       "      <td>tic-tac-toe</td>\n",
       "      <td>Validación Simple</td>\n",
       "      <td>False</td>\n",
       "      <td>False</td>\n",
       "      <td>0.304530</td>\n",
       "      <td>0.026315</td>\n",
       "      <td>CategoricalNB</td>\n",
       "    </tr>\n",
       "    <tr>\n",
       "      <th>3</th>\n",
       "      <td>tic-tac-toe</td>\n",
       "      <td>Validación Cruzada</td>\n",
       "      <td>True</td>\n",
       "      <td>True</td>\n",
       "      <td>0.304876</td>\n",
       "      <td>0.033982</td>\n",
       "      <td>CategoricalNB</td>\n",
       "    </tr>\n",
       "    <tr>\n",
       "      <th>2</th>\n",
       "      <td>tic-tac-toe</td>\n",
       "      <td>Validación Cruzada</td>\n",
       "      <td>False</td>\n",
       "      <td>True</td>\n",
       "      <td>0.304876</td>\n",
       "      <td>0.033982</td>\n",
       "      <td>CategoricalNB</td>\n",
       "    </tr>\n",
       "    <tr>\n",
       "      <th>9</th>\n",
       "      <td>tic-tac-toe</td>\n",
       "      <td>Validación Cruzada</td>\n",
       "      <td>False</td>\n",
       "      <td>True</td>\n",
       "      <td>0.315320</td>\n",
       "      <td>0.033065</td>\n",
       "      <td>GaussianNB</td>\n",
       "    </tr>\n",
       "    <tr>\n",
       "      <th>6</th>\n",
       "      <td>tic-tac-toe</td>\n",
       "      <td>Validación Simple</td>\n",
       "      <td>False</td>\n",
       "      <td>True</td>\n",
       "      <td>0.319861</td>\n",
       "      <td>0.027025</td>\n",
       "      <td>CategoricalNB</td>\n",
       "    </tr>\n",
       "    <tr>\n",
       "      <th>7</th>\n",
       "      <td>tic-tac-toe</td>\n",
       "      <td>Validación Simple</td>\n",
       "      <td>True</td>\n",
       "      <td>True</td>\n",
       "      <td>0.319861</td>\n",
       "      <td>0.027025</td>\n",
       "      <td>CategoricalNB</td>\n",
       "    </tr>\n",
       "    <tr>\n",
       "      <th>16</th>\n",
       "      <td>tic-tac-toe</td>\n",
       "      <td>Validación Simple</td>\n",
       "      <td>False</td>\n",
       "      <td>False</td>\n",
       "      <td>0.326132</td>\n",
       "      <td>0.037759</td>\n",
       "      <td>MultinomialNB</td>\n",
       "    </tr>\n",
       "    <tr>\n",
       "      <th>17</th>\n",
       "      <td>tic-tac-toe</td>\n",
       "      <td>Validación Simple</td>\n",
       "      <td>True</td>\n",
       "      <td>False</td>\n",
       "      <td>0.326132</td>\n",
       "      <td>0.037759</td>\n",
       "      <td>MultinomialNB</td>\n",
       "    </tr>\n",
       "    <tr>\n",
       "      <th>11</th>\n",
       "      <td>tic-tac-toe</td>\n",
       "      <td>Validación Simple</td>\n",
       "      <td>False</td>\n",
       "      <td>True</td>\n",
       "      <td>0.331707</td>\n",
       "      <td>0.040836</td>\n",
       "      <td>GaussianNB</td>\n",
       "    </tr>\n",
       "    <tr>\n",
       "      <th>12</th>\n",
       "      <td>tic-tac-toe</td>\n",
       "      <td>Validación Cruzada</td>\n",
       "      <td>False</td>\n",
       "      <td>False</td>\n",
       "      <td>0.341383</td>\n",
       "      <td>0.027139</td>\n",
       "      <td>MultinomialNB</td>\n",
       "    </tr>\n",
       "    <tr>\n",
       "      <th>13</th>\n",
       "      <td>tic-tac-toe</td>\n",
       "      <td>Validación Cruzada</td>\n",
       "      <td>True</td>\n",
       "      <td>False</td>\n",
       "      <td>0.341383</td>\n",
       "      <td>0.027139</td>\n",
       "      <td>MultinomialNB</td>\n",
       "    </tr>\n",
       "  </tbody>\n",
       "</table>\n",
       "</div>"
      ],
      "text/plain": [
       "   Conjunto de Datos Estrategia Particionado  Corrección de Laplace   \n",
       "8        tic-tac-toe      Validación Cruzada                  False  \\\n",
       "10       tic-tac-toe       Validación Simple                  False   \n",
       "0        tic-tac-toe      Validación Cruzada                  False   \n",
       "1        tic-tac-toe      Validación Cruzada                   True   \n",
       "15       tic-tac-toe      Validación Cruzada                   True   \n",
       "14       tic-tac-toe      Validación Cruzada                  False   \n",
       "18       tic-tac-toe       Validación Simple                  False   \n",
       "19       tic-tac-toe       Validación Simple                   True   \n",
       "5        tic-tac-toe       Validación Simple                   True   \n",
       "4        tic-tac-toe       Validación Simple                  False   \n",
       "3        tic-tac-toe      Validación Cruzada                   True   \n",
       "2        tic-tac-toe      Validación Cruzada                  False   \n",
       "9        tic-tac-toe      Validación Cruzada                  False   \n",
       "6        tic-tac-toe       Validación Simple                  False   \n",
       "7        tic-tac-toe       Validación Simple                   True   \n",
       "16       tic-tac-toe       Validación Simple                  False   \n",
       "17       tic-tac-toe       Validación Simple                   True   \n",
       "11       tic-tac-toe       Validación Simple                  False   \n",
       "12       tic-tac-toe      Validación Cruzada                  False   \n",
       "13       tic-tac-toe      Validación Cruzada                   True   \n",
       "\n",
       "    One Hot Encoding  Error Promedio  Desviación Estándar   Clasificador  \n",
       "8              False        0.276674             0.024452     GaussianNB  \n",
       "10             False        0.278746             0.031552     GaussianNB  \n",
       "0              False        0.292343             0.029646  CategoricalNB  \n",
       "1              False        0.292343             0.029646  CategoricalNB  \n",
       "15              True        0.292343             0.029646  MultinomialNB  \n",
       "14              True        0.292343             0.029646  MultinomialNB  \n",
       "18              True        0.304530             0.026315  MultinomialNB  \n",
       "19              True        0.304530             0.026315  MultinomialNB  \n",
       "5              False        0.304530             0.026315  CategoricalNB  \n",
       "4              False        0.304530             0.026315  CategoricalNB  \n",
       "3               True        0.304876             0.033982  CategoricalNB  \n",
       "2               True        0.304876             0.033982  CategoricalNB  \n",
       "9               True        0.315320             0.033065     GaussianNB  \n",
       "6               True        0.319861             0.027025  CategoricalNB  \n",
       "7               True        0.319861             0.027025  CategoricalNB  \n",
       "16             False        0.326132             0.037759  MultinomialNB  \n",
       "17             False        0.326132             0.037759  MultinomialNB  \n",
       "11              True        0.331707             0.040836     GaussianNB  \n",
       "12             False        0.341383             0.027139  MultinomialNB  \n",
       "13             False        0.341383             0.027139  MultinomialNB  "
      ]
     },
     "execution_count": 11,
     "metadata": {},
     "output_type": "execute_result"
    }
   ],
   "source": [
    "# Creación de columna identificadora de clasificadores\n",
    "resultados_tic_tac_toe_categorical_nb[\"Clasificador\"] = \"CategoricalNB\"\n",
    "resultados_tic_tac_toe_gaussian_nb[\"Clasificador\"] = \"GaussianNB\"\n",
    "resultados_tic_tac_toe_multinomial_nb[\"Clasificador\"] = \"MultinomialNB\"\n",
    "\n",
    "resultados_tic_tac_toe_scikit = pd.concat([\n",
    "    resultados_tic_tac_toe_categorical_nb,\n",
    "    resultados_tic_tac_toe_gaussian_nb,\n",
    "    resultados_tic_tac_toe_multinomial_nb\n",
    "])\n",
    "resultados_tic_tac_toe_scikit = resultados_tic_tac_toe_scikit.reset_index(drop=True)\n",
    "\n",
    "resultados_tic_tac_toe_scikit.sort_values(by=\"Error Promedio\")"
   ]
  },
  {
   "cell_type": "markdown",
   "id": "323f9b29-cc55-420e-b721-ab667459abf4",
   "metadata": {},
   "source": [
    "Estos son resultados inesperados. `tic-tac-toe` cuenta con una gran presencia de atributos nominales, por lo que es contrauitivo ver a GaussianNB como el mejor modelo para este conjunto de datos (tanto en error promedio como desviación estándar). Inclusive, la configuración ganadora (sin One Hot Encoding) estaría asumiendo las variables nominales como números secuenciales en lugar de categorías.\n",
    "\n",
    "En general el rango de los errores promedio es muy reducido entre 0.27 y 0.34, lo cual demuestra comportamientos apropiados para cada modelo."
   ]
  },
  {
   "cell_type": "markdown",
   "id": "5335b057-f27a-4c90-ba66-d988c1ee01bc",
   "metadata": {},
   "source": [
    "#### Efecto de One Hot Encoding (OHE)"
   ]
  },
  {
   "cell_type": "code",
   "execution_count": 12,
   "id": "0579e66b-9a54-4612-8d50-627a8150d4a0",
   "metadata": {},
   "outputs": [
    {
     "name": "stdout",
     "output_type": "stream",
     "text": [
      "Los casos donde se usó OHE tienen un error promedio de 0.3090244567530753 y una desviación estándar de 0.030783981239946086\n"
     ]
    }
   ],
   "source": [
    "filas_con_ohe = resultados_tic_tac_toe_scikit[resultados_tic_tac_toe_scikit[\"One Hot Encoding\"] == True]\n",
    "error_promedio = filas_con_ohe[\"Error Promedio\"].mean()\n",
    "desviacion_estandar = filas_con_ohe[\"Desviación Estándar\"].mean()\n",
    "\n",
    "print(f\"Los casos donde se usó OHE tienen un error promedio de {error_promedio} y una desviación estándar de {desviacion_estandar}\")"
   ]
  },
  {
   "cell_type": "code",
   "execution_count": 13,
   "id": "740b373c-5bac-4ddd-acea-8fdf878c60d9",
   "metadata": {},
   "outputs": [
    {
     "name": "stdout",
     "output_type": "stream",
     "text": [
      "Los casos donde NO se usó OHE tienen un error promedio de 0.3084195995311673 y una desviación estándar de 0.029772333093957014\n"
     ]
    }
   ],
   "source": [
    "filas_sin_ohe = resultados_tic_tac_toe_scikit[resultados_tic_tac_toe_scikit[\"One Hot Encoding\"] == False]\n",
    "error_promedio = filas_sin_ohe[\"Error Promedio\"].mean()\n",
    "desviacion_estandar = filas_sin_ohe[\"Desviación Estándar\"].mean()\n",
    "\n",
    "print(f\"Los casos donde NO se usó OHE tienen un error promedio de {error_promedio} y una desviación estándar de {desviacion_estandar}\")"
   ]
  },
  {
   "cell_type": "markdown",
   "id": "b2d7eff6-deff-4dc1-9374-5cb7036e2fb4",
   "metadata": {},
   "source": [
    "Se observan resultados notoriamente similares en términos generales, independientemente de si se utiliza el One-Hot Encoding (OHE) o no. Sin embargo, para el clasificador MultinomialNB, se aprecia un rendimiento superior al emplear OHE. En este caso, los errores promedio con OHE se mantienen consistentemente por debajo del 0.30, mientras que sin OHE, tienden a estar por encima de este valor. Esto se debe al hecho de que el MultinomialNB está diseñado para manejar variables categóricas, y el OHE facilita que las representaciones de atributos nominales se interpreten como clases distintas, asignando a cada categoría su propia columna binaria.\n",
    "\n",
    "Esta ventaja es aún más evidente debido a la naturaleza del conjunto de datos de tic-tac-toe, que, como se mencionó previamente, contiene una considerable cantidad de atributos categóricos."
   ]
  },
  {
   "cell_type": "markdown",
   "id": "8bcbd4b6-7ffa-4c1d-8536-b859560d5de7",
   "metadata": {},
   "source": [
    "### Entrenamiento y clasificación para dataset __heart__"
   ]
  },
  {
   "cell_type": "code",
   "execution_count": 14,
   "id": "86f8d6b0-595f-4882-b976-57c00a0e2d9e",
   "metadata": {},
   "outputs": [
    {
     "data": {
      "text/html": [
       "<div>\n",
       "<style scoped>\n",
       "    .dataframe tbody tr th:only-of-type {\n",
       "        vertical-align: middle;\n",
       "    }\n",
       "\n",
       "    .dataframe tbody tr th {\n",
       "        vertical-align: top;\n",
       "    }\n",
       "\n",
       "    .dataframe thead th {\n",
       "        text-align: right;\n",
       "    }\n",
       "</style>\n",
       "<table border=\"1\" class=\"dataframe\">\n",
       "  <thead>\n",
       "    <tr style=\"text-align: right;\">\n",
       "      <th></th>\n",
       "      <th>Conjunto de Datos</th>\n",
       "      <th>Estrategia Particionado</th>\n",
       "      <th>Corrección de Laplace</th>\n",
       "      <th>One Hot Encoding</th>\n",
       "      <th>Error Promedio</th>\n",
       "      <th>Desviación Estándar</th>\n",
       "    </tr>\n",
       "  </thead>\n",
       "  <tbody>\n",
       "    <tr>\n",
       "      <th>0</th>\n",
       "      <td>heart</td>\n",
       "      <td>Validación Cruzada</td>\n",
       "      <td>False</td>\n",
       "      <td>False</td>\n",
       "      <td>0.142730</td>\n",
       "      <td>0.026703</td>\n",
       "    </tr>\n",
       "    <tr>\n",
       "      <th>2</th>\n",
       "      <td>heart</td>\n",
       "      <td>Validación Cruzada</td>\n",
       "      <td>False</td>\n",
       "      <td>True</td>\n",
       "      <td>0.137259</td>\n",
       "      <td>0.019331</td>\n",
       "    </tr>\n",
       "    <tr>\n",
       "      <th>4</th>\n",
       "      <td>heart</td>\n",
       "      <td>Validación Simple</td>\n",
       "      <td>False</td>\n",
       "      <td>False</td>\n",
       "      <td>0.153455</td>\n",
       "      <td>0.023044</td>\n",
       "    </tr>\n",
       "    <tr>\n",
       "      <th>6</th>\n",
       "      <td>heart</td>\n",
       "      <td>Validación Simple</td>\n",
       "      <td>False</td>\n",
       "      <td>True</td>\n",
       "      <td>0.138909</td>\n",
       "      <td>0.019569</td>\n",
       "    </tr>\n",
       "  </tbody>\n",
       "</table>\n",
       "</div>"
      ],
      "text/plain": [
       "  Conjunto de Datos Estrategia Particionado  Corrección de Laplace   \n",
       "0             heart      Validación Cruzada                  False  \\\n",
       "2             heart      Validación Cruzada                  False   \n",
       "4             heart       Validación Simple                  False   \n",
       "6             heart       Validación Simple                  False   \n",
       "\n",
       "   One Hot Encoding  Error Promedio  Desviación Estándar  \n",
       "0             False        0.142730             0.026703  \n",
       "2              True        0.137259             0.019331  \n",
       "4             False        0.153455             0.023044  \n",
       "6              True        0.138909             0.019569  "
      ]
     },
     "execution_count": 14,
     "metadata": {},
     "output_type": "execute_result"
    }
   ],
   "source": [
    "resultados_heart_scikit = validacion_naive_bayes_scikit(\"heart\", GaussianNB)\n",
    "resultados_heart_scikit = resultados_heart_scikit[resultados_heart_scikit[\"Corrección de Laplace\"] == False]\n",
    "resultados_heart_scikit"
   ]
  },
  {
   "cell_type": "markdown",
   "id": "2be5e9e4-75bd-44ae-a1e9-1dc2e3703ec2",
   "metadata": {},
   "source": [
    "#### ¿Por qué crees que no utilizamos los otros dos algoritmos aquí? ¿qué transformación/es podríamos hacer para resolver el problema?\n",
    "Porque este dataset contiene atributos continuos. Para resolver el problema se pueden escalar estos atributos por ejemplo con la clase `StandardScaler` de sklearn. Así se transforma el atributo de tipo continuo a un tipo multinominal"
   ]
  },
  {
   "cell_type": "markdown",
   "id": "564d4965-c9f7-414d-8d89-df12435384ca",
   "metadata": {},
   "source": [
    "#### Efecto de One Hot Encoding (OHE)"
   ]
  },
  {
   "cell_type": "markdown",
   "id": "81731e6b-e37d-40fc-8316-ea020c5427ba",
   "metadata": {},
   "source": [
    "Aquí el impacto es mucho más evidente que con el dataset `tic-tac-toe`. Debido a que GaussianNB asume a todas las variables como continuas y normalmente distribuidas, habría interpretaciones incorrectas de las variables nominales que hemos transformado a número (se tomarían como secuencias y no categorías). OHE ayuda a resolver este problema y los resultados llegan a superar nuestra propia implementación de Naive Bayes."
   ]
  },
  {
   "cell_type": "markdown",
   "id": "1278cd68-994d-497e-a406-ca443f2ba2b0",
   "metadata": {},
   "source": [
    "## Apartado 3 - Conclusión"
   ]
  },
  {
   "cell_type": "markdown",
   "id": "51823e3b-932e-4891-96f2-17654b445367",
   "metadata": {},
   "source": [
    "Se aprecian resultados notoriamente similares entre nuestra implementación y la biblioteca Scikit-Learn. Esto es un indicativo alentador de la calidad de nuestro trabajo. En varios de los casos, parece que nuestro clasificador personalizado supera en precisión a las implementaciones de la librería. Esta diferencia se atribuye al enfoque específico que hemos adoptado, donde consideramos la naturaleza de cada atributo, ya sea categórico (utilizando probabilidades) o numérico (aplicando el modelo Gaussiano). En contraste, los modelos de Scikit-Learn manejan los datos de una manera más general, tratando todos los atributos como continuos o categóricos por igual.\n",
    "\n",
    "A pesar de esta diferencia en el manejo de atributos, los algoritmos de Scikit-Learn presentan un rendimiento destacado. Esto podría deberse, en parte, a las optimizaciones internas incorporadas en la biblioteca."
   ]
  },
  {
   "cell_type": "markdown",
   "id": "8e17e05e-5e77-445a-8def-dcea3b1e6e87",
   "metadata": {},
   "source": [
    "#### Comparación dataset __tic-tac-toe__"
   ]
  },
  {
   "cell_type": "code",
   "execution_count": 15,
   "id": "3bd7e0ce-b799-470a-a20f-a70f60a84ae3",
   "metadata": {},
   "outputs": [
    {
     "data": {
      "text/plain": [
       "Conjunto de Datos                 tic-tac-toe\n",
       "Estrategia Particionado    Validación Cruzada\n",
       "Corrección de Laplace                    True\n",
       "Error Promedio                       0.292343\n",
       "Desviación Estándar                  0.029646\n",
       "Name: 1, dtype: object"
      ]
     },
     "execution_count": 15,
     "metadata": {},
     "output_type": "execute_result"
    }
   ],
   "source": [
    "# Mejor resultado de Naive Bayes Propio\n",
    "resultado_naive_bayes_propio_tic_tac_toe = resultados_naive_bayes_propio[resultados_naive_bayes_propio[\"Conjunto de Datos\"] == \"tic-tac-toe\"]\n",
    "resultado_naive_bayes_propio_tic_tac_toe.loc[resultado_naive_bayes_propio_tic_tac_toe[\"Error Promedio\"].idxmin()]"
   ]
  },
  {
   "cell_type": "code",
   "execution_count": 16,
   "id": "efee11e5-5ffb-4360-9eb4-e45ce5bfd019",
   "metadata": {
    "scrolled": true
   },
   "outputs": [
    {
     "data": {
      "text/plain": [
       "Conjunto de Datos                 tic-tac-toe\n",
       "Estrategia Particionado    Validación Cruzada\n",
       "Corrección de Laplace                   False\n",
       "One Hot Encoding                        False\n",
       "Error Promedio                       0.276674\n",
       "Desviación Estándar                  0.024452\n",
       "Clasificador                       GaussianNB\n",
       "Name: 8, dtype: object"
      ]
     },
     "execution_count": 16,
     "metadata": {},
     "output_type": "execute_result"
    }
   ],
   "source": [
    "# Mejor resultado de Naive Bayes Scikit\n",
    "resultados_tic_tac_toe_scikit.loc[resultados_tic_tac_toe_scikit[\"Error Promedio\"].idxmin()]"
   ]
  },
  {
   "cell_type": "markdown",
   "id": "b11d7e47-b284-43c4-aae9-b131669da557",
   "metadata": {},
   "source": [
    "_Ganador con base a mejor resultado:_ Clasificador Scikit"
   ]
  },
  {
   "cell_type": "code",
   "execution_count": 17,
   "id": "ddad38c8-0512-4ca1-96a4-69cf47b14ea2",
   "metadata": {},
   "outputs": [
    {
     "data": {
      "text/plain": [
       "Conjunto de Datos                tic-tac-toe\n",
       "Estrategia Particionado    Validación Simple\n",
       "Corrección de Laplace                  False\n",
       "Error Promedio                      0.305226\n",
       "Desviación Estándar                 0.025566\n",
       "Name: 2, dtype: object"
      ]
     },
     "execution_count": 17,
     "metadata": {},
     "output_type": "execute_result"
    }
   ],
   "source": [
    "# Peor resultado de Naive Bayes Propio\n",
    "resultado_naive_bayes_propio_tic_tac_toe.loc[resultado_naive_bayes_propio_tic_tac_toe[\"Error Promedio\"].idxmax()]"
   ]
  },
  {
   "cell_type": "code",
   "execution_count": 18,
   "id": "728091b5-eb8b-45ce-b7c8-3b9b75dc2c7f",
   "metadata": {},
   "outputs": [
    {
     "data": {
      "text/plain": [
       "Conjunto de Datos                 tic-tac-toe\n",
       "Estrategia Particionado    Validación Cruzada\n",
       "Corrección de Laplace                   False\n",
       "One Hot Encoding                        False\n",
       "Error Promedio                       0.341383\n",
       "Desviación Estándar                  0.027139\n",
       "Clasificador                    MultinomialNB\n",
       "Name: 12, dtype: object"
      ]
     },
     "execution_count": 18,
     "metadata": {},
     "output_type": "execute_result"
    }
   ],
   "source": [
    "# Peor resultado de Naive Bayes Scikit\n",
    "resultados_tic_tac_toe_scikit.loc[resultados_tic_tac_toe_scikit[\"Error Promedio\"].idxmax()]"
   ]
  },
  {
   "cell_type": "markdown",
   "id": "bd90aaef-7b82-494a-9991-f0be4f1cca26",
   "metadata": {},
   "source": [
    "_Ganador con base a peor resultado:_ Clasificador propio"
   ]
  },
  {
   "cell_type": "markdown",
   "id": "80dde28e-197f-458a-9ee1-884b91cb56c9",
   "metadata": {},
   "source": [
    "#### Comparación dataset __heart__"
   ]
  },
  {
   "cell_type": "code",
   "execution_count": 19,
   "id": "511afb4c-3e3a-4481-a486-2d7f46683c04",
   "metadata": {},
   "outputs": [
    {
     "data": {
      "text/plain": [
       "Conjunto de Datos                      heart\n",
       "Estrategia Particionado    Validación Simple\n",
       "Corrección de Laplace                  False\n",
       "Error Promedio                      0.140364\n",
       "Desviación Estándar                 0.019048\n",
       "Name: 2, dtype: object"
      ]
     },
     "execution_count": 19,
     "metadata": {},
     "output_type": "execute_result"
    }
   ],
   "source": [
    "# Mejor resultado de Naive Bayes Propio\n",
    "resultado_naive_bayes_propio_heart = resultados_naive_bayes_propio[resultados_naive_bayes_propio[\"Conjunto de Datos\"] == \"heart\"]\n",
    "resultado_naive_bayes_propio_heart.loc[resultado_naive_bayes_propio_heart[\"Error Promedio\"].idxmin()]"
   ]
  },
  {
   "cell_type": "code",
   "execution_count": 20,
   "id": "0dd15895-7f9d-419a-8222-4305f811e3d9",
   "metadata": {},
   "outputs": [
    {
     "data": {
      "text/plain": [
       "Conjunto de Datos                       heart\n",
       "Estrategia Particionado    Validación Cruzada\n",
       "Corrección de Laplace                   False\n",
       "One Hot Encoding                         True\n",
       "Error Promedio                       0.137259\n",
       "Desviación Estándar                  0.019331\n",
       "Name: 2, dtype: object"
      ]
     },
     "execution_count": 20,
     "metadata": {},
     "output_type": "execute_result"
    }
   ],
   "source": [
    "# Mejor resultado de Naive Bayes Scikit\n",
    "resultados_heart_scikit.loc[resultados_heart_scikit[\"Error Promedio\"].idxmin()]"
   ]
  },
  {
   "cell_type": "markdown",
   "id": "22067d20-dff1-4087-a0b4-1beb5d5bf308",
   "metadata": {},
   "source": [
    "_Ganador con base a mejor resultado_: Clasificador Scikit"
   ]
  },
  {
   "cell_type": "code",
   "execution_count": 21,
   "id": "e0f49cae-f404-406b-832d-b99b7c67dfab",
   "metadata": {},
   "outputs": [
    {
     "data": {
      "text/plain": [
       "Conjunto de Datos                       heart\n",
       "Estrategia Particionado    Validación Cruzada\n",
       "Corrección de Laplace                   False\n",
       "Error Promedio                       0.143811\n",
       "Desviación Estándar                  0.020987\n",
       "Name: 0, dtype: object"
      ]
     },
     "execution_count": 21,
     "metadata": {},
     "output_type": "execute_result"
    }
   ],
   "source": [
    "# Peor resultado de Naive Bayes Propio\n",
    "resultado_naive_bayes_propio_heart.loc[resultado_naive_bayes_propio_heart[\"Error Promedio\"].idxmax()]"
   ]
  },
  {
   "cell_type": "code",
   "execution_count": 22,
   "id": "29c39fd6-f875-4c73-bd0a-6ab91316cbcb",
   "metadata": {},
   "outputs": [
    {
     "data": {
      "text/plain": [
       "Conjunto de Datos                      heart\n",
       "Estrategia Particionado    Validación Simple\n",
       "Corrección de Laplace                  False\n",
       "One Hot Encoding                       False\n",
       "Error Promedio                      0.153455\n",
       "Desviación Estándar                 0.023044\n",
       "Name: 4, dtype: object"
      ]
     },
     "execution_count": 22,
     "metadata": {},
     "output_type": "execute_result"
    }
   ],
   "source": [
    "# Peor resultado de Naive Bayes Scikit\n",
    "resultados_heart_scikit.loc[resultados_heart_scikit[\"Error Promedio\"].idxmax()]"
   ]
  },
  {
   "cell_type": "markdown",
   "id": "ec9327a3-1151-4493-ae06-6c5e6630ee60",
   "metadata": {},
   "source": [
    "_Ganador con base a peor resultado_: Clasificador propio"
   ]
  }
 ],
 "metadata": {
  "kernelspec": {
   "display_name": "Python 3 (ipykernel)",
   "language": "python",
   "name": "python3"
  },
  "language_info": {
   "codemirror_mode": {
    "name": "ipython",
    "version": 3
   },
   "file_extension": ".py",
   "mimetype": "text/x-python",
   "name": "python",
   "nbconvert_exporter": "python",
   "pygments_lexer": "ipython3",
   "version": "3.11.5"
  }
 },
 "nbformat": 4,
 "nbformat_minor": 5
}
