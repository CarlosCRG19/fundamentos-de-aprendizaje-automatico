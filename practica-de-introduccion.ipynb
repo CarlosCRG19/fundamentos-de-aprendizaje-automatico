{
 "cells": [
  {
   "cell_type": "code",
   "execution_count": null,
   "id": "27f1b42a-a289-4124-9789-0d3783c4ec29",
   "metadata": {},
   "outputs": [],
   "source": []
  }
 ],
 "metadata": {
  "kernelspec": {
   "display_name": "Python 3 (ipykernel)",
   "language": "python",
   "name": "python3"
  },
  "language_info": {
   "codemirror_mode": {
    "name": "ipython",
    "version": 3
   },
   "file_extension": ".py",
   "mimetype": "text/x-python",
   "name": "python",
   "nbconvert_exporter": "python",
   "pygments_lexer": "ipython3",
   "version": "3.11.5"
  }
 },
 "nbformat": 4,
 "nbformat_minor": 5
}
