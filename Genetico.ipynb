{
 "cells": [
  {
   "cell_type": "code",
   "execution_count": null,
   "metadata": {},
   "outputs": [],
   "source": [
    "        \n",
    "\n",
    "valores = [str(valor) for valor in self.datos[columna_nominal].unique()]\n",
    "valores = sorted(valores)\n",
    "\n",
    "# Liste von Nullen erstellen mit der gleichen Länge wie die gegebene Liste\n",
    "valores_coded = [0] * len(valores)\n",
    "[1 for item in valores_coded]\n",
    "\n",
    "dict = {valor: indice for indice, valor in enumerate(valores)}\n",
    "\n",
    "\n",
    "valores_coded = {}\n",
    "\n",
    "for indice, valor in enumerate(valores):\n",
    "    code = [0] * len(valores)\n",
    "    code[indice] = 1\n",
    "    valores_coded[valor] = code"
   ]
  },
  {
   "cell_type": "code",
   "execution_count": null,
   "metadata": {},
   "outputs": [],
   "source": [
    "\n",
    "def seleccion_progenitores(datos, individuos):\n",
    "    \n",
    "    lista_fitness = [evalua_fitness(datos, individuo) for individuo in individuos]\n",
    "    ruleta = [fitness/sum(lista_fitness) for fitness in lista_fitness]\n",
    "    \n",
    "    return ruleta\n",
    "\n",
    "\n",
    "def evalua_fitness(datos, Individuo):\n",
    "\n",
    "    clasificaciones = []\n",
    "\n",
    "    # clasifica todos los datos con individuo\n",
    "    for _, dato in datos.iterrows():\n",
    "        clasificaciones.append(clasifica_dato(dato, Individuo))\n",
    "    \n",
    "    # return la precision\n",
    "    return sum(clasificaciones)/ len(clasificaciones)\n",
    "    \n",
    "\n",
    "def clasifica_dato(dato, Individuo):\n",
    "\n",
    "    # Llama _fitness_regla con cada regla y tiene cuenta de las clasificaciones correctas\n",
    "    cada_regla = [True for regla in Individuo.reglas if _fitness_regla(dato, regla)]\n",
    "\n",
    "    # Si la mayoria de reglas clasifican bien, el dato ha sido clasificado correctamente\n",
    "    if sum(cada_regla) >= len(cada_regla)//2:\n",
    "        return 1\n",
    "    return 0\n",
    "\n",
    "def _fitness_regla(dato, regla):\n",
    "    indices = [i for i, x in enumerate(dato) if x == 1]\n",
    "\n",
    "    # compara todos atributos con predicciones\n",
    "    # Ojo: Tambien compara las clases\n",
    "    cada_atributo = [True for i in indices if regla[i] == 1]\n",
    "\n",
    "    # Si todos atributos y también la clase son predicidos igual y con exito\n",
    "    # o si todos atributos y la clase son predicidos igual y de modo falso, la regla nos vale para predicir el dato\n",
    "    if sum(cada_atributo) == 0 or all(cada_atributo):\n",
    "        return True\n",
    "    return False\n",
    "\n"
   ]
  }
 ],
 "metadata": {
  "language_info": {
   "name": "python"
  }
 },
 "nbformat": 4,
 "nbformat_minor": 2
}
